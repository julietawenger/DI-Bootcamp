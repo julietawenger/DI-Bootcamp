{
 "cells": [
  {
   "cell_type": "markdown",
   "id": "0618fd5d",
   "metadata": {},
   "source": [
    "# Daily Challenge: Analysis of Airplane Crashes and Fatalities"
   ]
  },
  {
   "cell_type": "code",
   "execution_count": 1,
   "id": "53f99000",
   "metadata": {},
   "outputs": [],
   "source": [
    "import numpy as np\n",
    "import pandas as pd\n",
    "import matplotlib.pyplot as plt\n",
    "import seaborn as sns\n",
    "import scipy.stats as stats"
   ]
  },
  {
   "cell_type": "markdown",
   "id": "65e5bada",
   "metadata": {},
   "source": [
    "## Tasks\n",
    "\n",
    "1. Data Import and Cleaning:\n",
    "\n",
    "    - Import the dataset using Pandas.\n",
    "    - Clean and preprocess the data, addressing missing values and categorizing data as needed.\n",
    "    - Convert dates and other relevant fields to appropriate formats.\n"
   ]
  },
  {
   "cell_type": "code",
   "execution_count": 2,
   "id": "dea79a12",
   "metadata": {},
   "outputs": [
    {
     "data": {
      "text/html": [
       "<div>\n",
       "<style scoped>\n",
       "    .dataframe tbody tr th:only-of-type {\n",
       "        vertical-align: middle;\n",
       "    }\n",
       "\n",
       "    .dataframe tbody tr th {\n",
       "        vertical-align: top;\n",
       "    }\n",
       "\n",
       "    .dataframe thead th {\n",
       "        text-align: right;\n",
       "    }\n",
       "</style>\n",
       "<table border=\"1\" class=\"dataframe\">\n",
       "  <thead>\n",
       "    <tr style=\"text-align: right;\">\n",
       "      <th></th>\n",
       "      <th>Date</th>\n",
       "      <th>Time</th>\n",
       "      <th>Location</th>\n",
       "      <th>Operator</th>\n",
       "      <th>Flight #</th>\n",
       "      <th>Route</th>\n",
       "      <th>AC Type</th>\n",
       "      <th>Registration</th>\n",
       "      <th>cn/ln</th>\n",
       "      <th>Aboard</th>\n",
       "      <th>Aboard Passangers</th>\n",
       "      <th>Aboard Crew</th>\n",
       "      <th>Fatalities</th>\n",
       "      <th>Fatalities Passangers</th>\n",
       "      <th>Fatalities Crew</th>\n",
       "      <th>Ground</th>\n",
       "      <th>Summary</th>\n",
       "    </tr>\n",
       "  </thead>\n",
       "  <tbody>\n",
       "    <tr>\n",
       "      <th>0</th>\n",
       "      <td>9/17/1908</td>\n",
       "      <td>17:18</td>\n",
       "      <td>Fort Myer, Virginia</td>\n",
       "      <td>Military - U.S. Army</td>\n",
       "      <td>NaN</td>\n",
       "      <td>Demonstration</td>\n",
       "      <td>Wright Flyer III</td>\n",
       "      <td>NaN</td>\n",
       "      <td>1</td>\n",
       "      <td>2.0</td>\n",
       "      <td>1.0</td>\n",
       "      <td>1.0</td>\n",
       "      <td>1.0</td>\n",
       "      <td>1.0</td>\n",
       "      <td>0.0</td>\n",
       "      <td>0.0</td>\n",
       "      <td>During a demonstration flight, a U.S. Army fly...</td>\n",
       "    </tr>\n",
       "    <tr>\n",
       "      <th>1</th>\n",
       "      <td>9/7/1909</td>\n",
       "      <td>NaN</td>\n",
       "      <td>Juvisy-sur-Orge, France</td>\n",
       "      <td>NaN</td>\n",
       "      <td>NaN</td>\n",
       "      <td>Air show</td>\n",
       "      <td>Wright Byplane</td>\n",
       "      <td>SC1</td>\n",
       "      <td>NaN</td>\n",
       "      <td>1.0</td>\n",
       "      <td>0.0</td>\n",
       "      <td>1.0</td>\n",
       "      <td>1.0</td>\n",
       "      <td>0.0</td>\n",
       "      <td>0.0</td>\n",
       "      <td>0.0</td>\n",
       "      <td>Eugene Lefebvre was the first pilot to ever be...</td>\n",
       "    </tr>\n",
       "    <tr>\n",
       "      <th>2</th>\n",
       "      <td>7/12/1912</td>\n",
       "      <td>6:30</td>\n",
       "      <td>Atlantic City, New Jersey</td>\n",
       "      <td>Military - U.S. Navy</td>\n",
       "      <td>NaN</td>\n",
       "      <td>Test flight</td>\n",
       "      <td>Dirigible</td>\n",
       "      <td>NaN</td>\n",
       "      <td>NaN</td>\n",
       "      <td>5.0</td>\n",
       "      <td>0.0</td>\n",
       "      <td>5.0</td>\n",
       "      <td>5.0</td>\n",
       "      <td>0.0</td>\n",
       "      <td>5.0</td>\n",
       "      <td>0.0</td>\n",
       "      <td>First U.S. dirigible Akron exploded just offsh...</td>\n",
       "    </tr>\n",
       "    <tr>\n",
       "      <th>3</th>\n",
       "      <td>8/6/1913</td>\n",
       "      <td>NaN</td>\n",
       "      <td>Victoria, British Columbia, Canada</td>\n",
       "      <td>Private</td>\n",
       "      <td>NaN</td>\n",
       "      <td>NaN</td>\n",
       "      <td>Curtiss seaplane</td>\n",
       "      <td>NaN</td>\n",
       "      <td>NaN</td>\n",
       "      <td>1.0</td>\n",
       "      <td>0.0</td>\n",
       "      <td>1.0</td>\n",
       "      <td>1.0</td>\n",
       "      <td>0.0</td>\n",
       "      <td>1.0</td>\n",
       "      <td>0.0</td>\n",
       "      <td>The first fatal airplane accident in Canada oc...</td>\n",
       "    </tr>\n",
       "    <tr>\n",
       "      <th>4</th>\n",
       "      <td>9/9/1913</td>\n",
       "      <td>18:30</td>\n",
       "      <td>Over the North Sea</td>\n",
       "      <td>Military - German Navy</td>\n",
       "      <td>NaN</td>\n",
       "      <td>NaN</td>\n",
       "      <td>Zeppelin L-1 (airship)</td>\n",
       "      <td>NaN</td>\n",
       "      <td>NaN</td>\n",
       "      <td>20.0</td>\n",
       "      <td>NaN</td>\n",
       "      <td>NaN</td>\n",
       "      <td>14.0</td>\n",
       "      <td>NaN</td>\n",
       "      <td>NaN</td>\n",
       "      <td>0.0</td>\n",
       "      <td>The airship flew into a thunderstorm and encou...</td>\n",
       "    </tr>\n",
       "    <tr>\n",
       "      <th>...</th>\n",
       "      <td>...</td>\n",
       "      <td>...</td>\n",
       "      <td>...</td>\n",
       "      <td>...</td>\n",
       "      <td>...</td>\n",
       "      <td>...</td>\n",
       "      <td>...</td>\n",
       "      <td>...</td>\n",
       "      <td>...</td>\n",
       "      <td>...</td>\n",
       "      <td>...</td>\n",
       "      <td>...</td>\n",
       "      <td>...</td>\n",
       "      <td>...</td>\n",
       "      <td>...</td>\n",
       "      <td>...</td>\n",
       "      <td>...</td>\n",
       "    </tr>\n",
       "    <tr>\n",
       "      <th>4993</th>\n",
       "      <td>11/21/2022</td>\n",
       "      <td>10:15</td>\n",
       "      <td>Medellín, Colombia</td>\n",
       "      <td>AeroPaca SAS</td>\n",
       "      <td>NaN</td>\n",
       "      <td>Medellín - Pizarro</td>\n",
       "      <td>Piper PA-31-350 Navajo Chieftain</td>\n",
       "      <td>HK-5121</td>\n",
       "      <td>31-7652004</td>\n",
       "      <td>8.0</td>\n",
       "      <td>6.0</td>\n",
       "      <td>2.0</td>\n",
       "      <td>8.0</td>\n",
       "      <td>6.0</td>\n",
       "      <td>2.0</td>\n",
       "      <td>0.0</td>\n",
       "      <td>The plane was chartered to carry a team of six...</td>\n",
       "    </tr>\n",
       "    <tr>\n",
       "      <th>4994</th>\n",
       "      <td>1/15/2023</td>\n",
       "      <td>10:50</td>\n",
       "      <td>Pokhara, Nepal</td>\n",
       "      <td>Yeti Airlines</td>\n",
       "      <td>YT691</td>\n",
       "      <td>Kathmandu - Pokhara</td>\n",
       "      <td>ATR 72-500-72-212-A</td>\n",
       "      <td>9NANC</td>\n",
       "      <td>754</td>\n",
       "      <td>72.0</td>\n",
       "      <td>68.0</td>\n",
       "      <td>4.0</td>\n",
       "      <td>72.0</td>\n",
       "      <td>68.0</td>\n",
       "      <td>4.0</td>\n",
       "      <td>0.0</td>\n",
       "      <td>Before approach, the pilot requested a change ...</td>\n",
       "    </tr>\n",
       "    <tr>\n",
       "      <th>4995</th>\n",
       "      <td>9/16/2023</td>\n",
       "      <td>NaN</td>\n",
       "      <td>Barcelos, Brazil</td>\n",
       "      <td>Manaus Aerotaxi</td>\n",
       "      <td>NaN</td>\n",
       "      <td>NaN</td>\n",
       "      <td>Embraer EMB-110P1 Bandeirante</td>\n",
       "      <td>PT-SOG</td>\n",
       "      <td>110490</td>\n",
       "      <td>14.0</td>\n",
       "      <td>12.0</td>\n",
       "      <td>2.0</td>\n",
       "      <td>14.0</td>\n",
       "      <td>12.0</td>\n",
       "      <td>2.0</td>\n",
       "      <td>0.0</td>\n",
       "      <td>The air taxi crashed in heavy rain while attem...</td>\n",
       "    </tr>\n",
       "    <tr>\n",
       "      <th>4996</th>\n",
       "      <td>10/29/2023</td>\n",
       "      <td>6:30</td>\n",
       "      <td>Rio Branco, Brazil</td>\n",
       "      <td>ART Taxi Aero</td>\n",
       "      <td>NaN</td>\n",
       "      <td>Rio Branco - Envira</td>\n",
       "      <td>Cessna 208B Grand Caravan</td>\n",
       "      <td>PT-MEE</td>\n",
       "      <td>208B0344</td>\n",
       "      <td>12.0</td>\n",
       "      <td>10.0</td>\n",
       "      <td>2.0</td>\n",
       "      <td>12.0</td>\n",
       "      <td>10.0</td>\n",
       "      <td>2.0</td>\n",
       "      <td>0.0</td>\n",
       "      <td>The air taxi crashed into a heavy wooded area ...</td>\n",
       "    </tr>\n",
       "    <tr>\n",
       "      <th>4997</th>\n",
       "      <td>11/1/2023</td>\n",
       "      <td>14:15</td>\n",
       "      <td>Morelos,  Mexico</td>\n",
       "      <td>Jet Rescue Air Ambulance</td>\n",
       "      <td>NaN</td>\n",
       "      <td>Toluca - Cuernavaca Airport</td>\n",
       "      <td>\\tLearjet 35A</td>\n",
       "      <td>XA-IRE</td>\n",
       "      <td>35A-354</td>\n",
       "      <td>4.0</td>\n",
       "      <td>2.0</td>\n",
       "      <td>2.0</td>\n",
       "      <td>4.0</td>\n",
       "      <td>2.0</td>\n",
       "      <td>2.0</td>\n",
       "      <td>0.0</td>\n",
       "      <td>A business jet operating as an air ambulance, ...</td>\n",
       "    </tr>\n",
       "  </tbody>\n",
       "</table>\n",
       "<p>4998 rows × 17 columns</p>\n",
       "</div>"
      ],
      "text/plain": [
       "            Date   Time                            Location  \\\n",
       "0      9/17/1908  17:18                 Fort Myer, Virginia   \n",
       "1       9/7/1909    NaN             Juvisy-sur-Orge, France   \n",
       "2      7/12/1912   6:30           Atlantic City, New Jersey   \n",
       "3       8/6/1913    NaN  Victoria, British Columbia, Canada   \n",
       "4       9/9/1913  18:30                  Over the North Sea   \n",
       "...          ...    ...                                 ...   \n",
       "4993  11/21/2022  10:15                  Medellín, Colombia   \n",
       "4994   1/15/2023  10:50                      Pokhara, Nepal   \n",
       "4995   9/16/2023    NaN                    Barcelos, Brazil   \n",
       "4996  10/29/2023   6:30                  Rio Branco, Brazil   \n",
       "4997   11/1/2023  14:15                    Morelos,  Mexico   \n",
       "\n",
       "                      Operator Flight #                        Route  \\\n",
       "0         Military - U.S. Army      NaN                Demonstration   \n",
       "1                          NaN      NaN                     Air show   \n",
       "2         Military - U.S. Navy      NaN                  Test flight   \n",
       "3                      Private      NaN                          NaN   \n",
       "4       Military - German Navy      NaN                          NaN   \n",
       "...                        ...      ...                          ...   \n",
       "4993              AeroPaca SAS      NaN           Medellín - Pizarro   \n",
       "4994             Yeti Airlines    YT691          Kathmandu - Pokhara   \n",
       "4995           Manaus Aerotaxi      NaN                          NaN   \n",
       "4996             ART Taxi Aero      NaN          Rio Branco - Envira   \n",
       "4997  Jet Rescue Air Ambulance      NaN  Toluca - Cuernavaca Airport   \n",
       "\n",
       "                               AC Type Registration       cn/ln  Aboard  \\\n",
       "0                     Wright Flyer III          NaN           1     2.0   \n",
       "1                       Wright Byplane          SC1         NaN     1.0   \n",
       "2                            Dirigible          NaN         NaN     5.0   \n",
       "3                     Curtiss seaplane          NaN         NaN     1.0   \n",
       "4               Zeppelin L-1 (airship)          NaN         NaN    20.0   \n",
       "...                                ...          ...         ...     ...   \n",
       "4993  Piper PA-31-350 Navajo Chieftain     HK-5121   31-7652004     8.0   \n",
       "4994               ATR 72-500-72-212-A       9NANC          754    72.0   \n",
       "4995     Embraer EMB-110P1 Bandeirante      PT-SOG       110490    14.0   \n",
       "4996         Cessna 208B Grand Caravan      PT-MEE     208B0344    12.0   \n",
       "4997                     \\tLearjet 35A       XA-IRE     35A-354     4.0   \n",
       "\n",
       "      Aboard Passangers  Aboard Crew  Fatalities  Fatalities Passangers  \\\n",
       "0                   1.0          1.0         1.0                    1.0   \n",
       "1                   0.0          1.0         1.0                    0.0   \n",
       "2                   0.0          5.0         5.0                    0.0   \n",
       "3                   0.0          1.0         1.0                    0.0   \n",
       "4                   NaN          NaN        14.0                    NaN   \n",
       "...                 ...          ...         ...                    ...   \n",
       "4993                6.0          2.0         8.0                    6.0   \n",
       "4994               68.0          4.0        72.0                   68.0   \n",
       "4995               12.0          2.0        14.0                   12.0   \n",
       "4996               10.0          2.0        12.0                   10.0   \n",
       "4997                2.0          2.0         4.0                    2.0   \n",
       "\n",
       "      Fatalities Crew  Ground  \\\n",
       "0                 0.0     0.0   \n",
       "1                 0.0     0.0   \n",
       "2                 5.0     0.0   \n",
       "3                 1.0     0.0   \n",
       "4                 NaN     0.0   \n",
       "...               ...     ...   \n",
       "4993              2.0     0.0   \n",
       "4994              4.0     0.0   \n",
       "4995              2.0     0.0   \n",
       "4996              2.0     0.0   \n",
       "4997              2.0     0.0   \n",
       "\n",
       "                                                Summary  \n",
       "0     During a demonstration flight, a U.S. Army fly...  \n",
       "1     Eugene Lefebvre was the first pilot to ever be...  \n",
       "2     First U.S. dirigible Akron exploded just offsh...  \n",
       "3     The first fatal airplane accident in Canada oc...  \n",
       "4     The airship flew into a thunderstorm and encou...  \n",
       "...                                                 ...  \n",
       "4993  The plane was chartered to carry a team of six...  \n",
       "4994  Before approach, the pilot requested a change ...  \n",
       "4995  The air taxi crashed in heavy rain while attem...  \n",
       "4996  The air taxi crashed into a heavy wooded area ...  \n",
       "4997  A business jet operating as an air ambulance, ...  \n",
       "\n",
       "[4998 rows x 17 columns]"
      ]
     },
     "execution_count": 2,
     "metadata": {},
     "output_type": "execute_result"
    }
   ],
   "source": [
    "df = pd.read_csv(r'Airplane_Crashes_and_Fatalities_Since_1908_t0_2023.csv', encoding='latin-1')\n",
    "df"
   ]
  },
  {
   "cell_type": "markdown",
   "id": "d4200e45",
   "metadata": {},
   "source": [
    "First, I'm dropping columns with lots of NaNs."
   ]
  },
  {
   "cell_type": "code",
   "execution_count": 3,
   "id": "eef299b1",
   "metadata": {},
   "outputs": [],
   "source": [
    "df = df.dropna(axis=1, thresh = 3*len(df)/4) "
   ]
  },
  {
   "cell_type": "markdown",
   "id": "f2cd7a42",
   "metadata": {},
   "source": [
    "Now I'm going to fill NaN spaces with mean values, for only the numerical columns."
   ]
  },
  {
   "cell_type": "code",
   "execution_count": 4,
   "id": "203a780e",
   "metadata": {},
   "outputs": [
    {
     "name": "stderr",
     "output_type": "stream",
     "text": [
      "C:\\Users\\julie\\Anaconda3\\lib\\site-packages\\pandas\\core\\frame.py:3641: SettingWithCopyWarning: \n",
      "A value is trying to be set on a copy of a slice from a DataFrame.\n",
      "Try using .loc[row_indexer,col_indexer] = value instead\n",
      "\n",
      "See the caveats in the documentation: https://pandas.pydata.org/pandas-docs/stable/user_guide/indexing.html#returning-a-view-versus-a-copy\n",
      "  self[k1] = value[k2]\n"
     ]
    }
   ],
   "source": [
    "a = df.select_dtypes('number')\n",
    "df[a.columns] = a.fillna(a.mean())"
   ]
  },
  {
   "cell_type": "markdown",
   "id": "786b5496",
   "metadata": {},
   "source": [
    "The rest I'm just setting to 0."
   ]
  },
  {
   "cell_type": "code",
   "execution_count": 5,
   "id": "4fc458c9",
   "metadata": {},
   "outputs": [],
   "source": [
    "df = df.fillna(0)"
   ]
  },
  {
   "cell_type": "code",
   "execution_count": 6,
   "id": "6eef4d9d",
   "metadata": {},
   "outputs": [
    {
     "data": {
      "text/plain": [
       "0        9/17/1908\n",
       "1         9/7/1909\n",
       "2        7/12/1912\n",
       "3         8/6/1913\n",
       "4         9/9/1913\n",
       "           ...    \n",
       "4993    11/21/2022\n",
       "4994     1/15/2023\n",
       "4995     9/16/2023\n",
       "4996    10/29/2023\n",
       "4997     11/1/2023\n",
       "Name: Date, Length: 4998, dtype: object"
      ]
     },
     "execution_count": 6,
     "metadata": {},
     "output_type": "execute_result"
    }
   ],
   "source": [
    "df[\"Date\"]"
   ]
  },
  {
   "cell_type": "markdown",
   "id": "bf0ed521",
   "metadata": {},
   "source": [
    "I can also change the \"Date\" column to numpy datetime:"
   ]
  },
  {
   "cell_type": "code",
   "execution_count": 7,
   "id": "e5bc9ddc",
   "metadata": {},
   "outputs": [],
   "source": [
    "df['Date'] = pd.to_datetime(df['Date'], format='%m/%d/%Y')"
   ]
  },
  {
   "cell_type": "markdown",
   "id": "1dbac649",
   "metadata": {},
   "source": [
    "2. Exploratory Data Analysis:\n",
    "\n",
    "    - Use Pandas to explore basic statistics such as the number of crashes, fatalities, and survival rates.\n",
    "    - Analyze the frequency of crashes over time to identify any trends.\n"
   ]
  },
  {
   "cell_type": "code",
   "execution_count": 8,
   "id": "cc3de1c6",
   "metadata": {},
   "outputs": [],
   "source": [
    "df[\"Survival Rates\"] = df[\"Aboard\"] - df[\"Fatalities\"]"
   ]
  },
  {
   "cell_type": "code",
   "execution_count": 9,
   "id": "5668dcb1",
   "metadata": {},
   "outputs": [
    {
     "data": {
      "text/html": [
       "<div>\n",
       "<style scoped>\n",
       "    .dataframe tbody tr th:only-of-type {\n",
       "        vertical-align: middle;\n",
       "    }\n",
       "\n",
       "    .dataframe tbody tr th {\n",
       "        vertical-align: top;\n",
       "    }\n",
       "\n",
       "    .dataframe thead th {\n",
       "        text-align: right;\n",
       "    }\n",
       "</style>\n",
       "<table border=\"1\" class=\"dataframe\">\n",
       "  <thead>\n",
       "    <tr style=\"text-align: right;\">\n",
       "      <th></th>\n",
       "      <th>Aboard</th>\n",
       "      <th>Aboard Passangers</th>\n",
       "      <th>Aboard Crew</th>\n",
       "      <th>Fatalities</th>\n",
       "      <th>Fatalities Passangers</th>\n",
       "      <th>Fatalities Crew</th>\n",
       "      <th>Ground</th>\n",
       "      <th>Survival Rates</th>\n",
       "    </tr>\n",
       "  </thead>\n",
       "  <tbody>\n",
       "    <tr>\n",
       "      <th>count</th>\n",
       "      <td>4998.000000</td>\n",
       "      <td>4998.000000</td>\n",
       "      <td>4998.000000</td>\n",
       "      <td>4998.000000</td>\n",
       "      <td>4998.000000</td>\n",
       "      <td>4998.000000</td>\n",
       "      <td>4998.000000</td>\n",
       "      <td>4998.000000</td>\n",
       "    </tr>\n",
       "    <tr>\n",
       "      <th>mean</th>\n",
       "      <td>31.195984</td>\n",
       "      <td>27.009017</td>\n",
       "      <td>4.479254</td>\n",
       "      <td>22.373547</td>\n",
       "      <td>19.053827</td>\n",
       "      <td>3.578516</td>\n",
       "      <td>1.719128</td>\n",
       "      <td>8.822437</td>\n",
       "    </tr>\n",
       "    <tr>\n",
       "      <th>std</th>\n",
       "      <td>45.452702</td>\n",
       "      <td>43.088993</td>\n",
       "      <td>3.404165</td>\n",
       "      <td>35.033663</td>\n",
       "      <td>33.309034</td>\n",
       "      <td>3.090585</td>\n",
       "      <td>55.306371</td>\n",
       "      <td>30.605604</td>\n",
       "    </tr>\n",
       "    <tr>\n",
       "      <th>min</th>\n",
       "      <td>0.000000</td>\n",
       "      <td>0.000000</td>\n",
       "      <td>0.000000</td>\n",
       "      <td>0.000000</td>\n",
       "      <td>0.000000</td>\n",
       "      <td>0.000000</td>\n",
       "      <td>0.000000</td>\n",
       "      <td>0.000000</td>\n",
       "    </tr>\n",
       "    <tr>\n",
       "      <th>25%</th>\n",
       "      <td>7.000000</td>\n",
       "      <td>3.000000</td>\n",
       "      <td>2.000000</td>\n",
       "      <td>4.000000</td>\n",
       "      <td>1.000000</td>\n",
       "      <td>2.000000</td>\n",
       "      <td>0.000000</td>\n",
       "      <td>0.000000</td>\n",
       "    </tr>\n",
       "    <tr>\n",
       "      <th>50%</th>\n",
       "      <td>16.000000</td>\n",
       "      <td>13.000000</td>\n",
       "      <td>4.000000</td>\n",
       "      <td>11.000000</td>\n",
       "      <td>9.000000</td>\n",
       "      <td>3.000000</td>\n",
       "      <td>0.000000</td>\n",
       "      <td>0.000000</td>\n",
       "    </tr>\n",
       "    <tr>\n",
       "      <th>75%</th>\n",
       "      <td>35.000000</td>\n",
       "      <td>29.000000</td>\n",
       "      <td>5.000000</td>\n",
       "      <td>25.000000</td>\n",
       "      <td>20.000000</td>\n",
       "      <td>5.000000</td>\n",
       "      <td>0.000000</td>\n",
       "      <td>4.000000</td>\n",
       "    </tr>\n",
       "    <tr>\n",
       "      <th>max</th>\n",
       "      <td>644.000000</td>\n",
       "      <td>614.000000</td>\n",
       "      <td>61.000000</td>\n",
       "      <td>583.000000</td>\n",
       "      <td>560.000000</td>\n",
       "      <td>46.000000</td>\n",
       "      <td>2750.000000</td>\n",
       "      <td>516.000000</td>\n",
       "    </tr>\n",
       "  </tbody>\n",
       "</table>\n",
       "</div>"
      ],
      "text/plain": [
       "            Aboard  Aboard Passangers  Aboard Crew   Fatalities  \\\n",
       "count  4998.000000        4998.000000  4998.000000  4998.000000   \n",
       "mean     31.195984          27.009017     4.479254    22.373547   \n",
       "std      45.452702          43.088993     3.404165    35.033663   \n",
       "min       0.000000           0.000000     0.000000     0.000000   \n",
       "25%       7.000000           3.000000     2.000000     4.000000   \n",
       "50%      16.000000          13.000000     4.000000    11.000000   \n",
       "75%      35.000000          29.000000     5.000000    25.000000   \n",
       "max     644.000000         614.000000    61.000000   583.000000   \n",
       "\n",
       "       Fatalities Passangers  Fatalities Crew       Ground  Survival Rates  \n",
       "count            4998.000000      4998.000000  4998.000000     4998.000000  \n",
       "mean               19.053827         3.578516     1.719128        8.822437  \n",
       "std                33.309034         3.090585    55.306371       30.605604  \n",
       "min                 0.000000         0.000000     0.000000        0.000000  \n",
       "25%                 1.000000         2.000000     0.000000        0.000000  \n",
       "50%                 9.000000         3.000000     0.000000        0.000000  \n",
       "75%                20.000000         5.000000     0.000000        4.000000  \n",
       "max               560.000000        46.000000  2750.000000      516.000000  "
      ]
     },
     "execution_count": 9,
     "metadata": {},
     "output_type": "execute_result"
    }
   ],
   "source": [
    "df.describe()"
   ]
  },
  {
   "cell_type": "markdown",
   "id": "f4fa34e9",
   "metadata": {},
   "source": [
    "What this table can tell us is that, on average over the 4998 reported cases,\n",
    "- There were 31 +/- 45 members aboard.\n",
    "- 22 +/- 35 people perished in the accidents, and 8 +/- 31 people survived.\n",
    "\n",
    "The standard deviations are huge so this information is not very telling.\n",
    "\n",
    "There's also one report of 583 people dying in one plane crash. That's the case with most fatalities in history."
   ]
  },
  {
   "cell_type": "markdown",
   "id": "8e3d5df6",
   "metadata": {},
   "source": [
    "Now I want to analyze the frequency of crashes over time. I'll create a \"Year\" column: "
   ]
  },
  {
   "cell_type": "code",
   "execution_count": 10,
   "id": "dad06e16",
   "metadata": {},
   "outputs": [],
   "source": [
    "df['Year'] = pd.to_datetime(df['Date']).dt.to_period('Y')"
   ]
  },
  {
   "cell_type": "markdown",
   "id": "ae4a3f0d",
   "metadata": {},
   "source": [
    "Now I can count the number of airplane crashes by year:"
   ]
  },
  {
   "cell_type": "code",
   "execution_count": 11,
   "id": "ca1579f0",
   "metadata": {},
   "outputs": [],
   "source": [
    "date_distribution = (df[\"Year\"].value_counts()).sort_index(ascending=True)"
   ]
  },
  {
   "cell_type": "code",
   "execution_count": 12,
   "id": "415c1b14",
   "metadata": {},
   "outputs": [
    {
     "data": {
      "image/png": "[encoded data removed]",
      "text/plain": [
       "<Figure size 2500x800 with 1 Axes>"
      ]
     },
     "metadata": {},
     "output_type": "display_data"
    }
   ],
   "source": [
    "date_distribution.plot(kind='bar', figsize=(25,8), color = 'turquoise')\n",
    "plt.title('Airplane crashes over the years', fontsize = 30)\n",
    "plt.xlabel('Years', fontsize = 20)\n",
    "plt.ylabel('Number of Airplane Crashes', fontsize = 20)\n",
    "plt.xticks(fontsize=14, rotation=90)\n",
    "plt.yticks(fontsize=18)\n",
    "plt.show()"
   ]
  },
  {
   "cell_type": "markdown",
   "id": "154f0a67",
   "metadata": {},
   "source": [
    "From 1908 until 1949 approximately, the number of airplane crashes seemed to be increasing, probably due to the increasing amount of available flights. \n",
    "Since 1989, the number of airplane crashes has been declining pretty much monotonically, thankfully."
   ]
  },
  {
   "cell_type": "markdown",
   "id": "09b95002",
   "metadata": {},
   "source": [
    "3. Statistical Analysis:\n",
    "\n",
    "    - Apply SciPy to analyze the distribution of fatalities and survival rates. Calculate key statistics like mean, median, and standard deviation.\n",
    "    - Conduct a hypothesis test (e.g., comparing the average number of fatalities in different decades or regions).\n"
   ]
  },
  {
   "cell_type": "markdown",
   "id": "74a1759e",
   "metadata": {},
   "source": [
    "The first point is to apply the functions `stats.tmean()`, `np.median()`, `stats.tvar()` and `stats.tstd()` to gather the same information obtained before, so I will skip it."
   ]
  },
  {
   "cell_type": "code",
   "execution_count": 14,
   "id": "0a151571",
   "metadata": {},
   "outputs": [
    {
     "name": "stdout",
     "output_type": "stream",
     "text": [
      "3.0635157641167265 0.002242973423060483\n"
     ]
    }
   ],
   "source": [
    "df['year'] = df['Date'].dt.year\n",
    "df['Decade'] = (df['year'] // 10) * 10\n",
    "decade_1980s = df[df['Decade'] == 1980]['Fatalities']\n",
    "decade_2000s = df[df['Decade'] == 2000]['Fatalities']\n",
    "\n",
    "\n",
    "t_stat, p_value = stats.ttest_ind(decade_1980s, decade_2000s)\n",
    "\n",
    "print(np.abs(t_stat), p_value)"
   ]
  },
  {
   "cell_type": "markdown",
   "id": "5319c593",
   "metadata": {},
   "source": [
    "t_stat is higher than 2, and p-value is lower than 0.05, therefore we can conclude that the average number of fatalities in these two decades are different."
   ]
  },
  {
   "cell_type": "markdown",
   "id": "34f75912",
   "metadata": {},
   "source": [
    "4. Visualization:\n",
    "\n",
    "    - Create charts and graphs using Matplotlib and Seaborn to visualize the findings from your exploratory data analysis and statistical tests.\n",
    "    - Examples might include time series plots of crashes over years, bar charts of crashes by region, and histograms of fatalities.\n"
   ]
  },
  {
   "cell_type": "code",
   "execution_count": 15,
   "id": "f8c687ab",
   "metadata": {},
   "outputs": [
    {
     "data": {
      "image/png": "[encoded data removed]",
      "text/plain": [
       "<Figure size 1000x600 with 1 Axes>"
      ]
     },
     "metadata": {},
     "output_type": "display_data"
    }
   ],
   "source": [
    "plt.figure(figsize=(10, 6))\n",
    "sns.histplot(df['Fatalities'], color='orange', bins=15)\n",
    "plt.title('Distribution of Fatalities')\n",
    "plt.xlabel('Number of Fatalities')\n",
    "plt.ylabel('Frequency')\n",
    "plt.yscale('log')\n",
    "plt.grid()\n",
    "plt.show()"
   ]
  },
  {
   "cell_type": "markdown",
   "id": "0f3ff3da",
   "metadata": {},
   "source": [
    "In most cases there were little to no fatalities on the airplane crashes."
   ]
  },
  {
   "cell_type": "markdown",
   "id": "a0762be7",
   "metadata": {},
   "source": [
    "I can do the regions plot, but it would take me a while since the \"Location\" column isn't clearly diveded even by country. "
   ]
  }
 ],
 "metadata": {
  "kernelspec": {
   "display_name": "Python 3",
   "language": "python",
   "name": "python3"
  },
  "language_info": {
   "codemirror_mode": {
    "name": "ipython",
    "version": 3
   },
   "file_extension": ".py",
   "mimetype": "text/x-python",
   "name": "python",
   "nbconvert_exporter": "python",
   "pygments_lexer": "ipython3",
   "version": "3.7.11"
  }
 },
 "nbformat": 4,
 "nbformat_minor": 5
}
