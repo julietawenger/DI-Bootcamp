{
 "cells": [
  {
   "cell_type": "markdown",
   "id": "5129b179",
   "metadata": {},
   "source": [
    "# Exercises XP"
   ]
  },
  {
   "cell_type": "code",
   "execution_count": 22,
   "id": "d37ee06c",
   "metadata": {},
   "outputs": [],
   "source": [
    "data = {\n",
    "    'Review': [\n",
    "        'At McDonald\\'s the food was ok and the service was bad.',\n",
    "        'I would not recommend this Japanese restaurant to anyone.',\n",
    "        'I loved this restaurant when I traveled to Thailand last summer.',\n",
    "        'The menu of Loving has a wide variety of options.',\n",
    "        'The staff was friendly and helpful at Google\\'s employees restaurant.',\n",
    "        'The ambiance at Bella Italia is amazing, and the pasta dishes are delicious.',\n",
    "        'I had a terrible experience at Pizza Hut. The pizza was burnt, and the service was slow.',\n",
    "        'The sushi at Sushi Express is always fresh and flavorful.',\n",
    "        'The steakhouse on Main Street has a cozy atmosphere and excellent steaks.',\n",
    "        'The dessert selection at Sweet Treats is to die for!'\n",
    "    ]\n",
    "}\n"
   ]
  },
  {
   "cell_type": "markdown",
   "id": "6c476c39",
   "metadata": {},
   "source": [
    "## Exercise 1: Exploring Text Preprocessing usage, NER and POS tags\n",
    "\n",
    "1. Create a function preprocess_text() wich will receive the data as argument and:\n",
    "\n",
    "    - convert all the text in lower case and tokenize it\n",
    "    - remove punctuation\n",
    "    - apply a lemmatizer\n",
    "    - return the preprocessed strings\n",
    "\n",
    "\n",
    "important:\n",
    "\n",
    "   - after creating each function, apply it in the dataset and print the result to check that is working properly\n",
    "\n",
    "\n",
    "2. Create a new dataset with the cleaned text\n",
    "\n",
    "hint: keep two datasets: the raw data and the preprocessed data\n",
    "\n",
    "\n",
    "3. Create a function perform_ner() that will receive the text as argument and perform NER tagging on it. Use spacy en_core_web_sm\n",
    "\n",
    "hint: the function should return the entities text and label_ (example of _labels: ORG, GPE, DATE)\n",
    "\n",
    "\n",
    "4. Create a function perform_pos_tagging() that will receive the text as argument and perform POS tagging on it.\n",
    "\n",
    "hint: use nltk pos_tag method\n",
    "\n",
    "\n",
    "5. Let’s apply the functions in the dataset, analyze the outputs applying it in the preprocessed data and in the raw data"
   ]
  },
  {
   "cell_type": "code",
   "execution_count": null,
   "id": "9d791c74",
   "metadata": {},
   "outputs": [
    {
     "name": "stderr",
     "output_type": "stream",
     "text": [
      "[nltk_data] Downloading package punkt_tab to\n",
      "[nltk_data]     C:\\Users\\julie\\AppData\\Roaming\\nltk_data...\n",
      "[nltk_data]   Package punkt_tab is already up-to-date!\n"
     ]
    }
   ],
   "source": [
    "import nltk\n",
    "nltk.download('punkt_tab')\n",
    "from nltk.tokenize import word_tokenize\n",
    "from nltk.stem import WordNetLemmatizer\n",
    "!pip install spacy\n",
    "import spacy\n",
    "nltk.download('wordnet')\n",
    "nltk.download('omw-1.4')\n"
   ]
  },
  {
   "cell_type": "code",
   "execution_count": null,
   "id": "f0b792ed",
   "metadata": {},
   "outputs": [],
   "source": [
    "def preprocess_text(data):\n",
    "    lemmatizer = WordNetLemmatizer()\n",
    "    data = data.lower()\n",
    "    tokens = word_tokenize(data)\n",
    "    tokens = [lemmatizer.lemmatize(token) for i in tokens if i.isalpha()]\n",
    "    return tokens"
   ]
  },
  {
   "cell_type": "code",
   "execution_count": null,
   "id": "e05d8599",
   "metadata": {},
   "outputs": [],
   "source": [
    "preprocess_text(data[\"Review\"][-1])"
   ]
  }
 ],
 "metadata": {
  "kernelspec": {
   "display_name": "Python 3",
   "language": "python",
   "name": "python3"
  },
  "language_info": {
   "codemirror_mode": {
    "name": "ipython",
    "version": 3
   },
   "file_extension": ".py",
   "mimetype": "text/x-python",
   "name": "python",
   "nbconvert_exporter": "python",
   "pygments_lexer": "ipython3",
   "version": "3.7.11"
  }
 },
 "nbformat": 4,
 "nbformat_minor": 5
}
