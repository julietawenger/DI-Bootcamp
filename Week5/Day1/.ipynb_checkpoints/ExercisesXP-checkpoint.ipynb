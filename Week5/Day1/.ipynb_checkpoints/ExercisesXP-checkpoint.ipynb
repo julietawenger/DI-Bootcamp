{
 "cells": [
  {
   "cell_type": "markdown",
   "id": "8e379196",
   "metadata": {},
   "source": [
    "## Exercise 1 : Defining the Problem and Data Collection for Loan Default Prediction\n",
    "Instructions\n",
    "\n",
    "- Write a clear problem statement for predicting loan defaults.\n",
    "- Identify and list the types of data you would need for this project (e.g., personal details of applicants, credit scores, loan amounts, repayment history).\n",
    "- Discuss the sources where you can collect this data (e.g., financial institution’s internal records, credit bureaus).\n",
    "\n",
    "Expected Output: A document detailing the problem statement and a comprehensive plan for data collection, including data types and sources.\n",
    "\n",
    "------------------------------------------------------"
   ]
  },
  {
   "cell_type": "markdown",
   "id": "c5a83daf",
   "metadata": {},
   "source": [
    "Problem Statement:\n",
    "\n",
    "The objective of this project is to predict whether a loan applicant will default on their loan. By accurately predicting loan defaults, financial institutions can mitigate risks by making more informed decisions about lending. This model will help identify high-risk applicants and assist in reducing financial losses.\n",
    "\n",
    "Types of Data Needed:\n",
    "\n",
    "- Personal Details of Applicants (like age, marital status, employment status, number of dependents, education level)\n",
    "\n",
    "- Financial Information (like income level, monthly expenses, existing debts, savings and assets)\n",
    "\n",
    "- Credit History, Loan Details and Repayment History.\n",
    "\n",
    "Sources of Data Collection: Financial Institutions’ Internal Records, Public Records, Application Forms."
   ]
  },
  {
   "cell_type": "markdown",
   "id": "16cdb039",
   "metadata": {},
   "source": [
    "## Exercise 2 : Feature Selection and Model Choice for Loan Default Prediction \n",
    "Instructions\n",
    "\n",
    "From this dataset, identify which features might be most relevant for predicting loan defaults. Justify your choice of features.\n",
    "\n",
    "--------------------------------------------"
   ]
  },
  {
   "cell_type": "markdown",
   "id": "7903cc93",
   "metadata": {},
   "source": [
    "The most important features are credit history, applicant income, coapplicant income, loan amount and loan amount term.\n",
    "\n",
    "Credit history indicates if the applicant has previously repaid loans in time or not. This is the most important indicator to predict possible defaults.\\\n",
    "Applicant and coapplicant income give insight into their ability to repay the loan. The higher the income the lower the chances of default.\\\n",
    "Loan amount is also relevant. Generally, the lower the loan amount the higher change of the applicant being able to pay the loan. Same as the amount term: a longer loan term may increase the default risk due to the prolonged financial commitment."
   ]
  },
  {
   "cell_type": "markdown",
   "id": "40589214",
   "metadata": {},
   "source": [
    "## Exercise 3 : Training, Evaluating, and Optimizing the Model\n",
    "Instructions\n",
    "\n",
    "- Which model(s) would you pick for a Loan Prediction ?\n",
    "- Outline the steps to evaluate the model’s performance, mentioning specific metrics that would be relevant to evaluate the model.\n",
    "\n",
    "---------------------------------------------------------"
   ]
  },
  {
   "cell_type": "markdown",
   "id": "0dd60701",
   "metadata": {},
   "source": [
    "I would choose 'classification' because we're dealing with labelled data.\n",
    "\n",
    "The steps to evualuate the model's performance are:\n",
    "\n",
    "- Split the dataset: divide the dataset into training and testing sets to evaluate model performance on unseen data.\n",
    "- Train the model: fit the model on the training set and use it to make predictions.\n",
    "- Evaluate the model: make predictions on the testing set and calculate evaluation metrics.\n",
    "- Optimize the model: based on the evaluation metrics, tune the model to improve performance, and then repeat the process."
   ]
  },
  {
   "cell_type": "markdown",
   "id": "3936a013",
   "metadata": {},
   "source": [
    "## Exercise 4 : Designing Machine Learning Solutions for Specific Problems\n",
    "\n",
    "Instructions\n",
    "\n",
    "For each of these scenario, decide which type of machine learning would be most suitable. Explain.\n",
    "\n",
    "- Predicting Stock Prices : predict future prices\n",
    "- Organizing a Library of Books : group books into genres or categories based on similarities.\n",
    "- Program a robot to navigate and find the shortest path in a maze.\n",
    "---------------------------------------"
   ]
  },
  {
   "cell_type": "markdown",
   "id": "075199f2",
   "metadata": {},
   "source": [
    "For predicting stock prices, the most suitable type of machine learning would be 'regression' because we want to predict a quantity.\n",
    "\n",
    "For organizing a library of books, the most suitable type of machine learning is 'clustering', since we want to predict a non labeled category.\n",
    "\n",
    "For a program robot to navigate and find the shortest path in a maze, the most suitable type of machine learning is 'reinforcement learning'. The model learns by interacting with an environment and receiving feedback in terms of rewards or penalties."
   ]
  },
  {
   "cell_type": "markdown",
   "id": "88c59f7f",
   "metadata": {},
   "source": [
    "## Exercise 5 : Designing an Evaluation Strategy for Different ML Models\n",
    "Instructions\n",
    "\n",
    "- Select three types of machine learning models: one from supervised learning (e.g., a classification model), one from unsupervised learning (e.g., a clustering model), and one from reinforcement learning. For the supervised model, outline a strategy to evaluate its performance, including the choice of metrics (like accuracy, precision, recall, F1-score) and methods (like cross-validation, ROC curves).\n",
    "- For the unsupervised model, describe how you would assess the effectiveness of the model, considering techniques like silhouette score, elbow method, or cluster validation metrics.\n",
    "- For the reinforcement learning model, discuss how you would measure its success, considering aspects like cumulative reward, convergence, and exploration vs. exploitation balance.\n",
    "- Address the challenges and limitations of evaluating models in each category.\n",
    "------------------------------------------------------------"
   ]
  },
  {
   "cell_type": "markdown",
   "id": "f8527957",
   "metadata": {},
   "source": [
    "1. Supervised Learning (Classification):\n",
    "\n",
    "Evaluation Strategy: use accuracy, precision, recall, and F1-score, and ROC curves to assess performance. Implement cross-validation to check model robustness.\n",
    "\n",
    "2. Unsupervised Learning (Clustering):\n",
    "\n",
    "Evaluation Strategy: use the silhouette score and elbow method (to find optimal clusters). These help understand how well the data points are grouped.\n",
    "\n",
    "3. Reinforcement Learning:\n",
    "\n",
    "Evaluation Strategy: Measure cumulative reward over time, track convergence of the agent’s learning, and monitor the exploration vs. exploitation balance to ensure effective decision-making.\n",
    "\n",
    "Challenges:\n",
    "\n",
    "- Supervised: imbalanced data and model interpretability.\n",
    "- Unsupervised: lack of ground truth for evaluation.\n",
    "- Reinforcement: delayed rewards, exploration-exploitation trade-off, and sample inefficiency."
   ]
  }
 ],
 "metadata": {
  "kernelspec": {
   "display_name": "Python 3",
   "language": "python",
   "name": "python3"
  },
  "language_info": {
   "codemirror_mode": {
    "name": "ipython",
    "version": 3
   },
   "file_extension": ".py",
   "mimetype": "text/x-python",
   "name": "python",
   "nbconvert_exporter": "python",
   "pygments_lexer": "ipython3",
   "version": "3.7.11"
  }
 },
 "nbformat": 4,
 "nbformat_minor": 5
}
