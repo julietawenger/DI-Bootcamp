{
 "cells": [
  {
   "cell_type": "markdown",
   "id": "5ccd5b37",
   "metadata": {},
   "source": [
    "# Daily Challenge: Understanding the Essence of Machine Learning"
   ]
  },
  {
   "cell_type": "markdown",
   "id": "041de212",
   "metadata": {},
   "source": [
    "Instructions\n",
    "\n",
    "- Write a brief summary explaining the basics of Machine Learning and why it is important for data analysts.\n",
    "- Discuss the applications of Machine Learning across different industries, providing at least three specific examples.\n",
    "- Create a section in your document that clearly differentiates between Supervised, Unsupervised, and Reinforcement Learning.\n",
    "- For each type, provide a brief definition and an example scenario where that type of machine learning is typically applied.\n",
    "- Describe the process of developing a machine learning model. Focus on three main stages: Feature Selection, Model Selection, and Model Evaluation.\n",
    "\n",
    "\n",
    "-------------------------------------------------"
   ]
  },
  {
   "cell_type": "markdown",
   "id": "e5c488ac",
   "metadata": {},
   "source": [
    "Machine learning Machine learning is a technique where computers use data to identify patterns and make decisions or predictions, without needing detailed programming for each individual task. It’s important for data analysts because it enables them to extract valuable insights from complex datasets, automate tasks, and improve decision-making processes.\n",
    "\n",
    "- Applications of Machine Learning:\n",
    "\n",
    " - Healthcare: ML is used for predicting disease outcomes (e.g., cancer detection using medical imaging).\n",
    " - Banking: it can be used, as done in the previous exercises to identify the loan applicants that are most likely to default.\n",
    " - Transportation: ML is used in route optimization, traffic prediction, and ride-sharing apps like Uber to match drivers with passengers efficiently.\n",
    " \n",
    "Types of Machine Learning:\n",
    "\n",
    "- Supervised Learning:\n",
    " - Definition: the model learns from labeled data to predict outcomes.\n",
    " - Example: predicting house prices based on features like size and location.\n",
    "\n",
    "- Unsupervised Learning:\n",
    " - Definition: the model finds hidden patterns in unlabeled data.\n",
    " - Example: customer segmentation based on purchasing behavior.\n",
    "\n",
    "- Reinforcement Learning:\n",
    " - Definition: the model learns by interacting with an environment to maximize cumulative reward.\n",
    " - Example: self-driving cars learning to navigate traffic.\n",
    "\n",
    "Developing a Machine Learning Model:\n",
    "\n",
    "- Feature Selection: identify relevant input features that influence the model's prediction.\n",
    "- Model Selection: choose the appropriate algorithm based on the problem.\n",
    "- Model Evaluation: assess model performance using metrics (e.g., accuracy, precision) and improve it through tuning or optimization."
   ]
  }
 ],
 "metadata": {
  "kernelspec": {
   "display_name": "Python 3",
   "language": "python",
   "name": "python3"
  },
  "language_info": {
   "codemirror_mode": {
    "name": "ipython",
    "version": 3
   },
   "file_extension": ".py",
   "mimetype": "text/x-python",
   "name": "python",
   "nbconvert_exporter": "python",
   "pygments_lexer": "ipython3",
   "version": "3.7.11"
  }
 },
 "nbformat": 4,
 "nbformat_minor": 5
}
