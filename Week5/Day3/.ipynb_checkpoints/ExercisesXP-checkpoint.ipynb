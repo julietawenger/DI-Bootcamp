{
 "cells": [
  {
   "cell_type": "markdown",
   "id": "311df70f",
   "metadata": {},
   "source": [
    "# Exercises XP"
   ]
  },
  {
   "cell_type": "markdown",
   "id": "983163d9",
   "metadata": {},
   "source": [
    "### Exercise 1 : Exploratory Data Analysis\n",
    "\n",
    "Instructions\n",
    "\n",
    "- Load the data from CSV files\n",
    "- Remove target column from the training data\n",
    "- Split the data intro train/test split\n",
    "- Understand the data\n",
    "__________________________________________"
   ]
  },
  {
   "cell_type": "code",
   "execution_count": 19,
   "id": "94336597",
   "metadata": {},
   "outputs": [
    {
     "name": "stdout",
     "output_type": "stream",
     "text": [
      "Requirement already satisfied: xgboost in c:\\users\\julie\\anaconda3\\lib\\site-packages (1.6.2)\n",
      "Requirement already satisfied: numpy in c:\\users\\julie\\anaconda3\\lib\\site-packages (from xgboost) (1.21.2)\n",
      "Requirement already satisfied: scipy in c:\\users\\julie\\anaconda3\\lib\\site-packages (from xgboost) (1.7.1)\n"
     ]
    },
    {
     "name": "stderr",
     "output_type": "stream",
     "text": [
      "\n",
      "[notice] A new release of pip available: 22.2.2 -> 24.0\n",
      "[notice] To update, run: python.exe -m pip install --upgrade pip\n"
     ]
    }
   ],
   "source": [
    "import numpy as np\n",
    "import pandas as pd\n",
    "import matplotlib.pyplot as plt\n",
    "import seaborn as sns\n",
    "from sklearn.linear_model import LogisticRegression\n",
    "from sklearn.model_selection import GridSearchCV\n",
    "from sklearn.datasets import make_classification\n",
    "from sklearn.metrics import confusion_matrix\n",
    "from sklearn.svm import SVC\n",
    "from sklearn.model_selection import train_test_split\n",
    "from sklearn.metrics import accuracy_score\n",
    "!pip install xgboost\n",
    "import xgboost as xgb\n",
    "sns.set_theme()"
   ]
  },
  {
   "cell_type": "code",
   "execution_count": 2,
   "id": "3cf05f9b",
   "metadata": {},
   "outputs": [
    {
     "data": {
      "text/html": [
       "<div>\n",
       "<style scoped>\n",
       "    .dataframe tbody tr th:only-of-type {\n",
       "        vertical-align: middle;\n",
       "    }\n",
       "\n",
       "    .dataframe tbody tr th {\n",
       "        vertical-align: top;\n",
       "    }\n",
       "\n",
       "    .dataframe thead th {\n",
       "        text-align: right;\n",
       "    }\n",
       "</style>\n",
       "<table border=\"1\" class=\"dataframe\">\n",
       "  <thead>\n",
       "    <tr style=\"text-align: right;\">\n",
       "      <th></th>\n",
       "      <th>age</th>\n",
       "      <th>sex</th>\n",
       "      <th>chest pain type</th>\n",
       "      <th>resting blood pressure</th>\n",
       "      <th>serum cholestoral</th>\n",
       "      <th>fasting blood sugar</th>\n",
       "      <th>resting electrocardiographic results</th>\n",
       "      <th>max heart rate</th>\n",
       "      <th>exercise induced angina</th>\n",
       "      <th>oldpeak</th>\n",
       "      <th>ST segment</th>\n",
       "      <th>major vessels</th>\n",
       "      <th>thal</th>\n",
       "      <th>heart disease</th>\n",
       "    </tr>\n",
       "  </thead>\n",
       "  <tbody>\n",
       "    <tr>\n",
       "      <th>0</th>\n",
       "      <td>70</td>\n",
       "      <td>1</td>\n",
       "      <td>4</td>\n",
       "      <td>130</td>\n",
       "      <td>322</td>\n",
       "      <td>0</td>\n",
       "      <td>2</td>\n",
       "      <td>109</td>\n",
       "      <td>0</td>\n",
       "      <td>2.4</td>\n",
       "      <td>2</td>\n",
       "      <td>3</td>\n",
       "      <td>3</td>\n",
       "      <td>2</td>\n",
       "    </tr>\n",
       "    <tr>\n",
       "      <th>1</th>\n",
       "      <td>67</td>\n",
       "      <td>0</td>\n",
       "      <td>3</td>\n",
       "      <td>115</td>\n",
       "      <td>564</td>\n",
       "      <td>0</td>\n",
       "      <td>2</td>\n",
       "      <td>160</td>\n",
       "      <td>0</td>\n",
       "      <td>1.6</td>\n",
       "      <td>2</td>\n",
       "      <td>0</td>\n",
       "      <td>7</td>\n",
       "      <td>1</td>\n",
       "    </tr>\n",
       "    <tr>\n",
       "      <th>2</th>\n",
       "      <td>57</td>\n",
       "      <td>1</td>\n",
       "      <td>2</td>\n",
       "      <td>124</td>\n",
       "      <td>261</td>\n",
       "      <td>0</td>\n",
       "      <td>0</td>\n",
       "      <td>141</td>\n",
       "      <td>0</td>\n",
       "      <td>0.3</td>\n",
       "      <td>1</td>\n",
       "      <td>0</td>\n",
       "      <td>7</td>\n",
       "      <td>2</td>\n",
       "    </tr>\n",
       "    <tr>\n",
       "      <th>3</th>\n",
       "      <td>64</td>\n",
       "      <td>1</td>\n",
       "      <td>4</td>\n",
       "      <td>128</td>\n",
       "      <td>263</td>\n",
       "      <td>0</td>\n",
       "      <td>0</td>\n",
       "      <td>105</td>\n",
       "      <td>1</td>\n",
       "      <td>0.2</td>\n",
       "      <td>2</td>\n",
       "      <td>1</td>\n",
       "      <td>7</td>\n",
       "      <td>1</td>\n",
       "    </tr>\n",
       "    <tr>\n",
       "      <th>4</th>\n",
       "      <td>74</td>\n",
       "      <td>0</td>\n",
       "      <td>2</td>\n",
       "      <td>120</td>\n",
       "      <td>269</td>\n",
       "      <td>0</td>\n",
       "      <td>2</td>\n",
       "      <td>121</td>\n",
       "      <td>1</td>\n",
       "      <td>0.2</td>\n",
       "      <td>1</td>\n",
       "      <td>1</td>\n",
       "      <td>3</td>\n",
       "      <td>1</td>\n",
       "    </tr>\n",
       "    <tr>\n",
       "      <th>...</th>\n",
       "      <td>...</td>\n",
       "      <td>...</td>\n",
       "      <td>...</td>\n",
       "      <td>...</td>\n",
       "      <td>...</td>\n",
       "      <td>...</td>\n",
       "      <td>...</td>\n",
       "      <td>...</td>\n",
       "      <td>...</td>\n",
       "      <td>...</td>\n",
       "      <td>...</td>\n",
       "      <td>...</td>\n",
       "      <td>...</td>\n",
       "      <td>...</td>\n",
       "    </tr>\n",
       "    <tr>\n",
       "      <th>265</th>\n",
       "      <td>52</td>\n",
       "      <td>1</td>\n",
       "      <td>3</td>\n",
       "      <td>172</td>\n",
       "      <td>199</td>\n",
       "      <td>1</td>\n",
       "      <td>0</td>\n",
       "      <td>162</td>\n",
       "      <td>0</td>\n",
       "      <td>0.5</td>\n",
       "      <td>1</td>\n",
       "      <td>0</td>\n",
       "      <td>7</td>\n",
       "      <td>1</td>\n",
       "    </tr>\n",
       "    <tr>\n",
       "      <th>266</th>\n",
       "      <td>44</td>\n",
       "      <td>1</td>\n",
       "      <td>2</td>\n",
       "      <td>120</td>\n",
       "      <td>263</td>\n",
       "      <td>0</td>\n",
       "      <td>0</td>\n",
       "      <td>173</td>\n",
       "      <td>0</td>\n",
       "      <td>0.0</td>\n",
       "      <td>1</td>\n",
       "      <td>0</td>\n",
       "      <td>7</td>\n",
       "      <td>1</td>\n",
       "    </tr>\n",
       "    <tr>\n",
       "      <th>267</th>\n",
       "      <td>56</td>\n",
       "      <td>0</td>\n",
       "      <td>2</td>\n",
       "      <td>140</td>\n",
       "      <td>294</td>\n",
       "      <td>0</td>\n",
       "      <td>2</td>\n",
       "      <td>153</td>\n",
       "      <td>0</td>\n",
       "      <td>1.3</td>\n",
       "      <td>2</td>\n",
       "      <td>0</td>\n",
       "      <td>3</td>\n",
       "      <td>1</td>\n",
       "    </tr>\n",
       "    <tr>\n",
       "      <th>268</th>\n",
       "      <td>57</td>\n",
       "      <td>1</td>\n",
       "      <td>4</td>\n",
       "      <td>140</td>\n",
       "      <td>192</td>\n",
       "      <td>0</td>\n",
       "      <td>0</td>\n",
       "      <td>148</td>\n",
       "      <td>0</td>\n",
       "      <td>0.4</td>\n",
       "      <td>2</td>\n",
       "      <td>0</td>\n",
       "      <td>6</td>\n",
       "      <td>1</td>\n",
       "    </tr>\n",
       "    <tr>\n",
       "      <th>269</th>\n",
       "      <td>67</td>\n",
       "      <td>1</td>\n",
       "      <td>4</td>\n",
       "      <td>160</td>\n",
       "      <td>286</td>\n",
       "      <td>0</td>\n",
       "      <td>2</td>\n",
       "      <td>108</td>\n",
       "      <td>1</td>\n",
       "      <td>1.5</td>\n",
       "      <td>2</td>\n",
       "      <td>3</td>\n",
       "      <td>3</td>\n",
       "      <td>2</td>\n",
       "    </tr>\n",
       "  </tbody>\n",
       "</table>\n",
       "<p>270 rows × 14 columns</p>\n",
       "</div>"
      ],
      "text/plain": [
       "     age  sex   chest pain type  resting blood pressure  serum cholestoral  \\\n",
       "0     70     1                4                     130                322   \n",
       "1     67     0                3                     115                564   \n",
       "2     57     1                2                     124                261   \n",
       "3     64     1                4                     128                263   \n",
       "4     74     0                2                     120                269   \n",
       "..   ...   ...              ...                     ...                ...   \n",
       "265   52     1                3                     172                199   \n",
       "266   44     1                2                     120                263   \n",
       "267   56     0                2                     140                294   \n",
       "268   57     1                4                     140                192   \n",
       "269   67     1                4                     160                286   \n",
       "\n",
       "     fasting blood sugar  resting electrocardiographic results  \\\n",
       "0                      0                                     2   \n",
       "1                      0                                     2   \n",
       "2                      0                                     0   \n",
       "3                      0                                     0   \n",
       "4                      0                                     2   \n",
       "..                   ...                                   ...   \n",
       "265                    1                                     0   \n",
       "266                    0                                     0   \n",
       "267                    0                                     2   \n",
       "268                    0                                     0   \n",
       "269                    0                                     2   \n",
       "\n",
       "     max heart rate  exercise induced angina  oldpeak  ST segment  \\\n",
       "0               109                        0      2.4           2   \n",
       "1               160                        0      1.6           2   \n",
       "2               141                        0      0.3           1   \n",
       "3               105                        1      0.2           2   \n",
       "4               121                        1      0.2           1   \n",
       "..              ...                      ...      ...         ...   \n",
       "265             162                        0      0.5           1   \n",
       "266             173                        0      0.0           1   \n",
       "267             153                        0      1.3           2   \n",
       "268             148                        0      0.4           2   \n",
       "269             108                        1      1.5           2   \n",
       "\n",
       "     major vessels  thal  heart disease  \n",
       "0                3     3              2  \n",
       "1                0     7              1  \n",
       "2                0     7              2  \n",
       "3                1     7              1  \n",
       "4                1     3              1  \n",
       "..             ...   ...            ...  \n",
       "265              0     7              1  \n",
       "266              0     7              1  \n",
       "267              0     3              1  \n",
       "268              0     6              1  \n",
       "269              3     3              2  \n",
       "\n",
       "[270 rows x 14 columns]"
      ]
     },
     "execution_count": 2,
     "metadata": {},
     "output_type": "execute_result"
    }
   ],
   "source": [
    "df = pd.read_csv('dataset_heart.csv')\n",
    "df"
   ]
  },
  {
   "cell_type": "code",
   "execution_count": 3,
   "id": "df510cd3",
   "metadata": {},
   "outputs": [],
   "source": [
    "target = 'heart disease'\n",
    "\n",
    "x= df.drop(target, axis = 1)\n",
    "y = df[target]\n",
    "\n",
    "X_train, X_test, y_train, y_test = train_test_split(x, y, train_size=0.70, test_size=0.30, random_state=1)"
   ]
  },
  {
   "cell_type": "markdown",
   "id": "e584e3ec",
   "metadata": {},
   "source": [
    "This table contains different parameters that could be factors that induce a heart disease. \n"
   ]
  },
  {
   "cell_type": "markdown",
   "id": "4d4b815d",
   "metadata": {},
   "source": [
    "### Exercise 2 : Logistic Regression without Grid Search\n",
    "\n",
    "Instructions\n",
    "\n",
    "Use the dataset to build a logistic regression model without using grid search. Split the data into training and testing sets, then train a logistic regression model and evaluate its performance on the test set.\n",
    "_________________________________________"
   ]
  },
  {
   "cell_type": "code",
   "execution_count": 4,
   "id": "3cba4ef5",
   "metadata": {},
   "outputs": [],
   "source": [
    "model = LogisticRegression(max_iter = 10000)\n",
    "\n",
    "model.fit(X_train, y_train)\n",
    "\n",
    "y_pred = model.predict(X_test)"
   ]
  },
  {
   "cell_type": "code",
   "execution_count": 5,
   "id": "13125623",
   "metadata": {},
   "outputs": [
    {
     "data": {
      "image/png": "[encoded data removed]",
      "text/plain": [
       "<Figure size 640x480 with 1 Axes>"
      ]
     },
     "metadata": {},
     "output_type": "display_data"
    }
   ],
   "source": [
    "class_names = ['Healthy', 'Heart Disease']\n",
    "matrix = confusion_matrix(y_test, y_pred)\n",
    "# Create pandas dataframe\n",
    "dataframe = pd.DataFrame(matrix, index=class_names, columns=class_names)\n",
    "# Create heatmap\n",
    "sns.heatmap(dataframe, annot=True, cbar=None, cmap=\"Blues\", fmt = 'g')\n",
    "plt.title(\"Confusion Matrix\"), plt.tight_layout()\n",
    "plt.ylabel(\"True Class\"), plt.xlabel(\"Predicted Class\")\n",
    "plt.show()"
   ]
  },
  {
   "cell_type": "code",
   "execution_count": 6,
   "id": "874aed8f",
   "metadata": {},
   "outputs": [
    {
     "data": {
      "text/plain": [
       "1.0"
      ]
     },
     "execution_count": 6,
     "metadata": {},
     "output_type": "execute_result"
    }
   ],
   "source": [
    "model.C"
   ]
  },
  {
   "cell_type": "code",
   "execution_count": 7,
   "id": "2e394b26",
   "metadata": {},
   "outputs": [
    {
     "name": "stdout",
     "output_type": "stream",
     "text": [
      "Accuracy Score: 0.84\n"
     ]
    }
   ],
   "source": [
    "print(f\"Accuracy Score: {np.round(accuracy_score(y_test, y_pred),2)}\")"
   ]
  },
  {
   "cell_type": "markdown",
   "id": "694ab5e3",
   "metadata": {},
   "source": [
    "### Exercise 3 : Logistic Regression with Grid Search\n",
    "Instructions\n",
    "\n",
    "Build a logistic regression model using the dataset, but this time, use GridSearchCV to optimize the hyperparameters such as C and penalty.\n",
    "\n",
    "-------------------------"
   ]
  },
  {
   "cell_type": "code",
   "execution_count": 8,
   "id": "9a7ff915",
   "metadata": {},
   "outputs": [
    {
     "name": "stdout",
     "output_type": "stream",
     "text": [
      "Tuned Logistic Regression Parameters: {'C': 0.4393970560760795}\n",
      "Best score is 0.8520625889046942\n"
     ]
    }
   ],
   "source": [
    "# Creating the hyperparameter grid\n",
    "c_space = np.logspace(-5, 8, 15)\n",
    "param_grid = {'C': c_space}\n",
    "\n",
    "# Instantiating logistic regression classifier\n",
    "model = LogisticRegression(max_iter = 10000)\n",
    "\n",
    "# Instantiating the GridSearchCV object\n",
    "logreg_cv = GridSearchCV(model, param_grid, cv=5)\n",
    "\n",
    "# Fit the GridSearchCV object to the data\n",
    "logreg_cv.fit(X_train, y_train)\n",
    "\n",
    "y_pred_2 = logreg_cv.predict(X_test)\n",
    "# Print the tuned parameters and score\n",
    "print(\"Tuned Logistic Regression Parameters: {}\".format(logreg_cv.best_params_))\n",
    "print(\"Best score is {}\".format(logreg_cv.best_score_))"
   ]
  },
  {
   "cell_type": "code",
   "execution_count": 9,
   "id": "1aff4ff9",
   "metadata": {},
   "outputs": [
    {
     "data": {
      "image/png": "[encoded data removed]",
      "text/plain": [
       "<Figure size 640x480 with 1 Axes>"
      ]
     },
     "metadata": {},
     "output_type": "display_data"
    }
   ],
   "source": [
    "class_names = ['Healthy', 'Heart Disease']\n",
    "matrix = confusion_matrix(y_test, y_pred_2)\n",
    "# Create pandas dataframe\n",
    "dataframe = pd.DataFrame(matrix, index=class_names, columns=class_names)\n",
    "# Create heatmap\n",
    "sns.heatmap(dataframe, annot=True, cbar=None, cmap=\"Greens\", fmt = 'g')\n",
    "plt.title(\"Confusion Matrix\"), plt.tight_layout()\n",
    "plt.ylabel(\"True Class\"), plt.xlabel(\"Predicted Class\")\n",
    "plt.show()"
   ]
  },
  {
   "cell_type": "code",
   "execution_count": 10,
   "id": "7b069d00",
   "metadata": {},
   "outputs": [
    {
     "name": "stdout",
     "output_type": "stream",
     "text": [
      "Accuracy Score: 0.84\n"
     ]
    }
   ],
   "source": [
    "print(f\"Accuracy Score: {np.round(accuracy_score(y_test, y_pred_2),2)}\")"
   ]
  },
  {
   "cell_type": "markdown",
   "id": "e12b7737",
   "metadata": {},
   "source": [
    "It's giving the same results, which is unexpected."
   ]
  },
  {
   "cell_type": "markdown",
   "id": "150dfe54",
   "metadata": {},
   "source": [
    "### Exercise 4 : SVM without Grid Search\n",
    "Instructions\n",
    "\n",
    "Train a Support Vector Machine (SVM) classifier on the dataset without using grid search. Choose an appropriate kernel and set the hyperparameters manually.\n",
    "\n",
    "__________________________"
   ]
  },
  {
   "cell_type": "code",
   "execution_count": 11,
   "id": "44c8994b",
   "metadata": {},
   "outputs": [
    {
     "name": "stdout",
     "output_type": "stream",
     "text": [
      "Accuracy (SVC): 0.8024691358024691\n"
     ]
    }
   ],
   "source": [
    "# Create and train the Support Vector Classifier\n",
    "svc_model = SVC(C = 0.9, kernel = 'linear') # DEFAULT IS RBF, LINEAR DOES WAY BETTER\n",
    "svc_model.fit(X_train, y_train)\n",
    "\n",
    "# Make predictions on the test set\n",
    "svc_y_pred = svc_model.predict(X_test)\n",
    "\n",
    "# Calculate accuracy\n",
    "svc_accuracy = accuracy_score(y_test, svc_y_pred)\n",
    "print(f'Accuracy (SVC): {svc_accuracy}')"
   ]
  },
  {
   "cell_type": "markdown",
   "id": "82e56ac2",
   "metadata": {},
   "source": [
    "### Exercise 5 : SVM with Grid Search\n",
    "Instructions\n",
    "\n",
    "Implement an SVM classifier on the dataset with GridSearchCV to find the best combination of C, kernel, and gamma hyperparameters.\n",
    "_____________________________"
   ]
  },
  {
   "cell_type": "code",
   "execution_count": 13,
   "id": "cae065ce",
   "metadata": {},
   "outputs": [
    {
     "name": "stdout",
     "output_type": "stream",
     "text": [
      "Tuned SVC Parameters: {'C': 0.1, 'gamma': 'scale', 'kernel': 'linear'}\n",
      "Best score is 0.841678520625889\n",
      "Accuracy (SVC): 0.8518518518518519\n"
     ]
    }
   ],
   "source": [
    "# Creating the hyperparameter grid\n",
    "param_grid = { 'C': [0.1, 1, 10],'kernel': [\"linear\"], 'gamma': [\"scale\", \"auto\"]}\n",
    "\n",
    "# Instantiating logistic regression classifier\n",
    "model = SVC()\n",
    "\n",
    "# Instantiating the GridSearchCV object\n",
    "model_GS = GridSearchCV(model, param_grid, cv=5)\n",
    "\n",
    "# Fit the GridSearchCV object to the data\n",
    "model_GS.fit(X_train, y_train)\n",
    "\n",
    "y_pred = model_GS.predict(X_test)\n",
    "# Print the tuned parameters and score\n",
    "print(\"Tuned SVC Parameters: {}\".format(model_GS.best_params_))\n",
    "print(\"Best score is {}\".format(model_GS.best_score_))\n",
    "svc_accuracy = accuracy_score(y_test, y_pred)\n",
    "print(f'Accuracy (SVC): {svc_accuracy}')"
   ]
  },
  {
   "cell_type": "markdown",
   "id": "e4fdbcdb",
   "metadata": {},
   "source": [
    "There are more hyperparameters to add to the hyperparameter grid, but it takes forever to run. This improved the accuracy anyway."
   ]
  },
  {
   "cell_type": "markdown",
   "id": "1942055e",
   "metadata": {},
   "source": [
    "### Exercise 6 : XGBoost without Grid Search\n",
    "Instructions\n",
    "\n",
    "Use the dataset to train an XGBoost classifier without hyperparameter tuning. Set the hyperparameters manually and justify your choices.\n",
    "__________________________________"
   ]
  },
  {
   "cell_type": "code",
   "execution_count": 53,
   "id": "91a63a55",
   "metadata": {},
   "outputs": [
    {
     "name": "stdout",
     "output_type": "stream",
     "text": [
      "Accuracy: 0.8641975308641975\n"
     ]
    }
   ],
   "source": [
    "model = xgb.XGBClassifier(learning_rate=0.1, n_estimators=100, max_depth=1, subsample=1, colsample_bytree=1)\n",
    "\n",
    "model.fit(X_train, y_train-1)\n",
    "\n",
    "# Make predictions on the test set\n",
    "y_pred = model.predict(X_test)+1\n",
    "\n",
    "# Calculate accuracy\n",
    "accuracy = accuracy_score(y_test, y_pred)\n",
    "print(f'Accuracy: {accuracy}')"
   ]
  },
  {
   "cell_type": "markdown",
   "id": "02245b47",
   "metadata": {},
   "source": [
    "With these set of hyperparameters we obtain a great accuracy score."
   ]
  },
  {
   "cell_type": "markdown",
   "id": "a0d003d2",
   "metadata": {},
   "source": [
    "### Exercise 7 : XGBoost with Grid Search\n",
    "Instructions\n",
    "\n",
    "Train an XGBoost classifier on the dataset using GridSearchCV to optimize hyperparameters such as learning_rate, n_estimators, max_depth, etc.\n",
    "\n",
    "________________________\n"
   ]
  },
  {
   "cell_type": "code",
   "execution_count": 57,
   "id": "9fd51161",
   "metadata": {},
   "outputs": [
    {
     "name": "stdout",
     "output_type": "stream",
     "text": [
      "Fitting 5 folds for each of 135 candidates, totalling 675 fits\n",
      "Tuned XGBoost Parameters: {'learning_rate': 0.1, 'max_depth': 1, 'n_estimators': 200, 'subsample': 0.8}\n",
      "Best score is 0.8522048364153628\n",
      "Accuracy (XGBoost): 0.8518518518518519\n"
     ]
    }
   ],
   "source": [
    "param_grid = {\n",
    "    'learning_rate': [0.01, 0.1, 1],\n",
    "    'n_estimators': [50, 100, 200],\n",
    "    'max_depth': [1, 2, 3, 4, 5],\n",
    "    'subsample': [0.8, 0.9, 1.0]\n",
    "}\n",
    "\n",
    "# Create an XGBoost classifier\n",
    "model = xgb.XGBClassifier()\n",
    "\n",
    "# Create the GridSearchCV object\n",
    "grid_search = GridSearchCV(model, param_grid, cv=5, n_jobs=-1, verbose=1)\n",
    "\n",
    "# Fit the model\n",
    "grid_search.fit(X_train, y_train-1)\n",
    "\n",
    "y_pred = grid_search.predict(X_test)+1\n",
    "# Print the tuned parameters and score\n",
    "print(\"Tuned XGBoost Parameters: {}\".format(grid_search.best_params_))\n",
    "print(\"Best score is {}\".format(grid_search.best_score_))\n",
    "accuracy = accuracy_score(y_test, y_pred)\n",
    "print(f'Accuracy (XGBoost): {accuracy}')"
   ]
  },
  {
   "cell_type": "markdown",
   "id": "592363d1",
   "metadata": {},
   "source": [
    "Apparently, manual inspection for the best hyperparameters resulted in a better accuracy score than with the grid search."
   ]
  }
 ],
 "metadata": {
  "kernelspec": {
   "display_name": "Python 3",
   "language": "python",
   "name": "python3"
  },
  "language_info": {
   "codemirror_mode": {
    "name": "ipython",
    "version": 3
   },
   "file_extension": ".py",
   "mimetype": "text/x-python",
   "name": "python",
   "nbconvert_exporter": "python",
   "pygments_lexer": "ipython3",
   "version": "3.7.11"
  }
 },
 "nbformat": 4,
 "nbformat_minor": 5
}
