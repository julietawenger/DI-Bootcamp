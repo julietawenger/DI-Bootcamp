{
 "cells": [
  {
   "cell_type": "markdown",
   "id": "0d3667e0",
   "metadata": {},
   "source": [
    "#  Exercises XP"
   ]
  },
  {
   "cell_type": "markdown",
   "id": "af36b39c",
   "metadata": {},
   "source": [
    "## Exercise 1 : Understanding the problem and Data Collection\n",
    "\n",
    "We want to predict if an individual will have diabetes.\n",
    "\n",
    "- Load the diabetes dataset and explore it.\n",
    "- How many positive and negative cases is there ?\n",
    "- Split the data into training and testing sets\n",
    "-------------------------------------------"
   ]
  },
  {
   "cell_type": "code",
   "execution_count": 1,
   "id": "720b520c",
   "metadata": {},
   "outputs": [],
   "source": [
    "import numpy as np\n",
    "import matplotlib.pyplot as plt\n",
    "import seaborn as sns\n",
    "sns.set_theme()\n",
    "import pandas as pd"
   ]
  },
  {
   "cell_type": "code",
   "execution_count": 2,
   "id": "8d3e7d15",
   "metadata": {},
   "outputs": [],
   "source": [
    "df = pd.read_csv('diabetes_prediction_dataset.csv')"
   ]
  },
  {
   "cell_type": "code",
   "execution_count": 3,
   "id": "185f2d88",
   "metadata": {},
   "outputs": [
    {
     "data": {
      "text/html": [
       "<div>\n",
       "<style scoped>\n",
       "    .dataframe tbody tr th:only-of-type {\n",
       "        vertical-align: middle;\n",
       "    }\n",
       "\n",
       "    .dataframe tbody tr th {\n",
       "        vertical-align: top;\n",
       "    }\n",
       "\n",
       "    .dataframe thead th {\n",
       "        text-align: right;\n",
       "    }\n",
       "</style>\n",
       "<table border=\"1\" class=\"dataframe\">\n",
       "  <thead>\n",
       "    <tr style=\"text-align: right;\">\n",
       "      <th></th>\n",
       "      <th>gender</th>\n",
       "      <th>age</th>\n",
       "      <th>hypertension</th>\n",
       "      <th>heart_disease</th>\n",
       "      <th>smoking_history</th>\n",
       "      <th>bmi</th>\n",
       "      <th>HbA1c_level</th>\n",
       "      <th>blood_glucose_level</th>\n",
       "      <th>diabetes</th>\n",
       "    </tr>\n",
       "  </thead>\n",
       "  <tbody>\n",
       "    <tr>\n",
       "      <th>0</th>\n",
       "      <td>Female</td>\n",
       "      <td>80.0</td>\n",
       "      <td>0</td>\n",
       "      <td>1</td>\n",
       "      <td>never</td>\n",
       "      <td>25.19</td>\n",
       "      <td>6.6</td>\n",
       "      <td>140</td>\n",
       "      <td>0</td>\n",
       "    </tr>\n",
       "    <tr>\n",
       "      <th>1</th>\n",
       "      <td>Female</td>\n",
       "      <td>54.0</td>\n",
       "      <td>0</td>\n",
       "      <td>0</td>\n",
       "      <td>No Info</td>\n",
       "      <td>27.32</td>\n",
       "      <td>6.6</td>\n",
       "      <td>80</td>\n",
       "      <td>0</td>\n",
       "    </tr>\n",
       "    <tr>\n",
       "      <th>2</th>\n",
       "      <td>Male</td>\n",
       "      <td>28.0</td>\n",
       "      <td>0</td>\n",
       "      <td>0</td>\n",
       "      <td>never</td>\n",
       "      <td>27.32</td>\n",
       "      <td>5.7</td>\n",
       "      <td>158</td>\n",
       "      <td>0</td>\n",
       "    </tr>\n",
       "    <tr>\n",
       "      <th>3</th>\n",
       "      <td>Female</td>\n",
       "      <td>36.0</td>\n",
       "      <td>0</td>\n",
       "      <td>0</td>\n",
       "      <td>current</td>\n",
       "      <td>23.45</td>\n",
       "      <td>5.0</td>\n",
       "      <td>155</td>\n",
       "      <td>0</td>\n",
       "    </tr>\n",
       "    <tr>\n",
       "      <th>4</th>\n",
       "      <td>Male</td>\n",
       "      <td>76.0</td>\n",
       "      <td>1</td>\n",
       "      <td>1</td>\n",
       "      <td>current</td>\n",
       "      <td>20.14</td>\n",
       "      <td>4.8</td>\n",
       "      <td>155</td>\n",
       "      <td>0</td>\n",
       "    </tr>\n",
       "    <tr>\n",
       "      <th>...</th>\n",
       "      <td>...</td>\n",
       "      <td>...</td>\n",
       "      <td>...</td>\n",
       "      <td>...</td>\n",
       "      <td>...</td>\n",
       "      <td>...</td>\n",
       "      <td>...</td>\n",
       "      <td>...</td>\n",
       "      <td>...</td>\n",
       "    </tr>\n",
       "    <tr>\n",
       "      <th>99995</th>\n",
       "      <td>Female</td>\n",
       "      <td>80.0</td>\n",
       "      <td>0</td>\n",
       "      <td>0</td>\n",
       "      <td>No Info</td>\n",
       "      <td>27.32</td>\n",
       "      <td>6.2</td>\n",
       "      <td>90</td>\n",
       "      <td>0</td>\n",
       "    </tr>\n",
       "    <tr>\n",
       "      <th>99996</th>\n",
       "      <td>Female</td>\n",
       "      <td>2.0</td>\n",
       "      <td>0</td>\n",
       "      <td>0</td>\n",
       "      <td>No Info</td>\n",
       "      <td>17.37</td>\n",
       "      <td>6.5</td>\n",
       "      <td>100</td>\n",
       "      <td>0</td>\n",
       "    </tr>\n",
       "    <tr>\n",
       "      <th>99997</th>\n",
       "      <td>Male</td>\n",
       "      <td>66.0</td>\n",
       "      <td>0</td>\n",
       "      <td>0</td>\n",
       "      <td>former</td>\n",
       "      <td>27.83</td>\n",
       "      <td>5.7</td>\n",
       "      <td>155</td>\n",
       "      <td>0</td>\n",
       "    </tr>\n",
       "    <tr>\n",
       "      <th>99998</th>\n",
       "      <td>Female</td>\n",
       "      <td>24.0</td>\n",
       "      <td>0</td>\n",
       "      <td>0</td>\n",
       "      <td>never</td>\n",
       "      <td>35.42</td>\n",
       "      <td>4.0</td>\n",
       "      <td>100</td>\n",
       "      <td>0</td>\n",
       "    </tr>\n",
       "    <tr>\n",
       "      <th>99999</th>\n",
       "      <td>Female</td>\n",
       "      <td>57.0</td>\n",
       "      <td>0</td>\n",
       "      <td>0</td>\n",
       "      <td>current</td>\n",
       "      <td>22.43</td>\n",
       "      <td>6.6</td>\n",
       "      <td>90</td>\n",
       "      <td>0</td>\n",
       "    </tr>\n",
       "  </tbody>\n",
       "</table>\n",
       "<p>100000 rows × 9 columns</p>\n",
       "</div>"
      ],
      "text/plain": [
       "       gender   age  hypertension  heart_disease smoking_history    bmi  \\\n",
       "0      Female  80.0             0              1           never  25.19   \n",
       "1      Female  54.0             0              0         No Info  27.32   \n",
       "2        Male  28.0             0              0           never  27.32   \n",
       "3      Female  36.0             0              0         current  23.45   \n",
       "4        Male  76.0             1              1         current  20.14   \n",
       "...       ...   ...           ...            ...             ...    ...   \n",
       "99995  Female  80.0             0              0         No Info  27.32   \n",
       "99996  Female   2.0             0              0         No Info  17.37   \n",
       "99997    Male  66.0             0              0          former  27.83   \n",
       "99998  Female  24.0             0              0           never  35.42   \n",
       "99999  Female  57.0             0              0         current  22.43   \n",
       "\n",
       "       HbA1c_level  blood_glucose_level  diabetes  \n",
       "0              6.6                  140         0  \n",
       "1              6.6                   80         0  \n",
       "2              5.7                  158         0  \n",
       "3              5.0                  155         0  \n",
       "4              4.8                  155         0  \n",
       "...            ...                  ...       ...  \n",
       "99995          6.2                   90         0  \n",
       "99996          6.5                  100         0  \n",
       "99997          5.7                  155         0  \n",
       "99998          4.0                  100         0  \n",
       "99999          6.6                   90         0  \n",
       "\n",
       "[100000 rows x 9 columns]"
      ]
     },
     "execution_count": 3,
     "metadata": {},
     "output_type": "execute_result"
    }
   ],
   "source": [
    "df"
   ]
  },
  {
   "cell_type": "markdown",
   "id": "dd1ea2d7",
   "metadata": {},
   "source": [
    "We have a dataset with the information of 100000 patients. It indicates gender, age, whether or not they have hypertension, heart disease or diabetes, their smoking history and some blood test data such as glucose.\n",
    "The critical column here is 'diabetes', which tells if the patient actually has diabetes or not. This is a binary label that we want to predict with a ML model. "
   ]
  },
  {
   "cell_type": "code",
   "execution_count": 4,
   "id": "3b9c5cd4",
   "metadata": {},
   "outputs": [
    {
     "name": "stdout",
     "output_type": "stream",
     "text": [
      "Not Diabetes    91500\n",
      "Diabetes         8500\n",
      "Name: diabetes, dtype: int64\n"
     ]
    }
   ],
   "source": [
    "class_names = {0:'Not Diabetes', 1:'Diabetes'}\n",
    "print(df.diabetes.value_counts().rename(index = class_names))"
   ]
  },
  {
   "cell_type": "code",
   "execution_count": 5,
   "id": "4af478ce",
   "metadata": {},
   "outputs": [
    {
     "name": "stdout",
     "output_type": "stream",
     "text": [
      "The proportion of diabetes over total cases is: 0.08\n"
     ]
    }
   ],
   "source": [
    "print(f\"The proportion of diabetes over total cases is: {round(df.diabetes.value_counts()[1]/(df.diabetes.value_counts()[0]+df.diabetes.value_counts()[1]),2)}\")"
   ]
  },
  {
   "cell_type": "markdown",
   "id": "523b9d3f",
   "metadata": {},
   "source": [
    "So only 8% of the patients have diabetes, this may give us an imbalace."
   ]
  },
  {
   "cell_type": "code",
   "execution_count": 6,
   "id": "8fc4afa0",
   "metadata": {},
   "outputs": [],
   "source": [
    "# Change categorical values into numerical\n",
    "df[['gender', 'smoking_history']] = df[['gender','smoking_history']].astype('category')\n",
    "df['gender']= df['gender'].cat.codes\n",
    "df['smoking_history']= df['smoking_history'].cat.codes"
   ]
  },
  {
   "cell_type": "markdown",
   "id": "db23c793",
   "metadata": {},
   "source": [
    "Now let's divide test and train."
   ]
  },
  {
   "cell_type": "code",
   "execution_count": 7,
   "id": "714a2cdd",
   "metadata": {},
   "outputs": [],
   "source": [
    "from sklearn.model_selection import train_test_split\n",
    "\n",
    "target = 'diabetes'\n",
    "\n",
    "x= df.drop(target, axis = 1)\n",
    "y = df[target]\n",
    "\n",
    "X_train, X_test, y_train, y_test = train_test_split(x, y, train_size=0.70, test_size=0.30, random_state=1)"
   ]
  },
  {
   "cell_type": "markdown",
   "id": "e52dbf0e",
   "metadata": {},
   "source": [
    "## Exercise 2 : Model Picking and Standardization\n",
    "\n",
    "- Which classification model can we use in this problem and why ?\n",
    "- Do we need to standardize the data ? If yes, use .StandardScaler()\n",
    "-----------------------------------"
   ]
  },
  {
   "cell_type": "markdown",
   "id": "1f3a81de",
   "metadata": {},
   "source": [
    "In this problem we can use Logistic Regression, since we want to predict a label (diabetes, not diabetes)."
   ]
  },
  {
   "cell_type": "markdown",
   "id": "21be9ce6",
   "metadata": {},
   "source": [
    "It's convenient to standarize the data since in different columns there are very different value ranges. This can affect the model."
   ]
  },
  {
   "cell_type": "code",
   "execution_count": 8,
   "id": "0ba8e0a0",
   "metadata": {},
   "outputs": [
    {
     "data": {
      "text/html": [
       "<div>\n",
       "<style scoped>\n",
       "    .dataframe tbody tr th:only-of-type {\n",
       "        vertical-align: middle;\n",
       "    }\n",
       "\n",
       "    .dataframe tbody tr th {\n",
       "        vertical-align: top;\n",
       "    }\n",
       "\n",
       "    .dataframe thead th {\n",
       "        text-align: right;\n",
       "    }\n",
       "</style>\n",
       "<table border=\"1\" class=\"dataframe\">\n",
       "  <thead>\n",
       "    <tr style=\"text-align: right;\">\n",
       "      <th></th>\n",
       "      <th>gender</th>\n",
       "      <th>age</th>\n",
       "      <th>hypertension</th>\n",
       "      <th>heart_disease</th>\n",
       "      <th>smoking_history</th>\n",
       "      <th>bmi</th>\n",
       "      <th>HbA1c_level</th>\n",
       "      <th>blood_glucose_level</th>\n",
       "      <th>diabetes</th>\n",
       "    </tr>\n",
       "  </thead>\n",
       "  <tbody>\n",
       "    <tr>\n",
       "      <th>0</th>\n",
       "      <td>0</td>\n",
       "      <td>1.692704</td>\n",
       "      <td>0</td>\n",
       "      <td>1</td>\n",
       "      <td>0.963327</td>\n",
       "      <td>-0.321056</td>\n",
       "      <td>1.001706</td>\n",
       "      <td>0.047704</td>\n",
       "      <td>0</td>\n",
       "    </tr>\n",
       "    <tr>\n",
       "      <th>1</th>\n",
       "      <td>0</td>\n",
       "      <td>0.538006</td>\n",
       "      <td>0</td>\n",
       "      <td>0</td>\n",
       "      <td>-1.153468</td>\n",
       "      <td>-0.000116</td>\n",
       "      <td>1.001706</td>\n",
       "      <td>-1.426210</td>\n",
       "      <td>0</td>\n",
       "    </tr>\n",
       "    <tr>\n",
       "      <th>2</th>\n",
       "      <td>1</td>\n",
       "      <td>-0.616691</td>\n",
       "      <td>0</td>\n",
       "      <td>0</td>\n",
       "      <td>0.963327</td>\n",
       "      <td>-0.000116</td>\n",
       "      <td>0.161108</td>\n",
       "      <td>0.489878</td>\n",
       "      <td>0</td>\n",
       "    </tr>\n",
       "    <tr>\n",
       "      <th>3</th>\n",
       "      <td>0</td>\n",
       "      <td>-0.261399</td>\n",
       "      <td>0</td>\n",
       "      <td>0</td>\n",
       "      <td>-0.624269</td>\n",
       "      <td>-0.583232</td>\n",
       "      <td>-0.492690</td>\n",
       "      <td>0.416183</td>\n",
       "      <td>0</td>\n",
       "    </tr>\n",
       "    <tr>\n",
       "      <th>4</th>\n",
       "      <td>1</td>\n",
       "      <td>1.515058</td>\n",
       "      <td>1</td>\n",
       "      <td>1</td>\n",
       "      <td>-0.624269</td>\n",
       "      <td>-1.081970</td>\n",
       "      <td>-0.679490</td>\n",
       "      <td>0.416183</td>\n",
       "      <td>0</td>\n",
       "    </tr>\n",
       "    <tr>\n",
       "      <th>...</th>\n",
       "      <td>...</td>\n",
       "      <td>...</td>\n",
       "      <td>...</td>\n",
       "      <td>...</td>\n",
       "      <td>...</td>\n",
       "      <td>...</td>\n",
       "      <td>...</td>\n",
       "      <td>...</td>\n",
       "      <td>...</td>\n",
       "    </tr>\n",
       "    <tr>\n",
       "      <th>99995</th>\n",
       "      <td>0</td>\n",
       "      <td>1.692704</td>\n",
       "      <td>0</td>\n",
       "      <td>0</td>\n",
       "      <td>-1.153468</td>\n",
       "      <td>-0.000116</td>\n",
       "      <td>0.628107</td>\n",
       "      <td>-1.180558</td>\n",
       "      <td>0</td>\n",
       "    </tr>\n",
       "    <tr>\n",
       "      <th>99996</th>\n",
       "      <td>0</td>\n",
       "      <td>-1.771388</td>\n",
       "      <td>0</td>\n",
       "      <td>0</td>\n",
       "      <td>-1.153468</td>\n",
       "      <td>-1.499343</td>\n",
       "      <td>0.908306</td>\n",
       "      <td>-0.934905</td>\n",
       "      <td>0</td>\n",
       "    </tr>\n",
       "    <tr>\n",
       "      <th>99997</th>\n",
       "      <td>1</td>\n",
       "      <td>1.070944</td>\n",
       "      <td>0</td>\n",
       "      <td>0</td>\n",
       "      <td>0.434128</td>\n",
       "      <td>0.076729</td>\n",
       "      <td>0.161108</td>\n",
       "      <td>0.416183</td>\n",
       "      <td>0</td>\n",
       "    </tr>\n",
       "    <tr>\n",
       "      <th>99998</th>\n",
       "      <td>0</td>\n",
       "      <td>-0.794336</td>\n",
       "      <td>0</td>\n",
       "      <td>0</td>\n",
       "      <td>0.963327</td>\n",
       "      <td>1.220361</td>\n",
       "      <td>-1.426688</td>\n",
       "      <td>-0.934905</td>\n",
       "      <td>0</td>\n",
       "    </tr>\n",
       "    <tr>\n",
       "      <th>99999</th>\n",
       "      <td>0</td>\n",
       "      <td>0.671241</td>\n",
       "      <td>0</td>\n",
       "      <td>0</td>\n",
       "      <td>-0.624269</td>\n",
       "      <td>-0.736922</td>\n",
       "      <td>1.001706</td>\n",
       "      <td>-1.180558</td>\n",
       "      <td>0</td>\n",
       "    </tr>\n",
       "  </tbody>\n",
       "</table>\n",
       "<p>100000 rows × 9 columns</p>\n",
       "</div>"
      ],
      "text/plain": [
       "       gender       age  hypertension  heart_disease  smoking_history  \\\n",
       "0           0  1.692704             0              1         0.963327   \n",
       "1           0  0.538006             0              0        -1.153468   \n",
       "2           1 -0.616691             0              0         0.963327   \n",
       "3           0 -0.261399             0              0        -0.624269   \n",
       "4           1  1.515058             1              1        -0.624269   \n",
       "...       ...       ...           ...            ...              ...   \n",
       "99995       0  1.692704             0              0        -1.153468   \n",
       "99996       0 -1.771388             0              0        -1.153468   \n",
       "99997       1  1.070944             0              0         0.434128   \n",
       "99998       0 -0.794336             0              0         0.963327   \n",
       "99999       0  0.671241             0              0        -0.624269   \n",
       "\n",
       "            bmi  HbA1c_level  blood_glucose_level  diabetes  \n",
       "0     -0.321056     1.001706             0.047704         0  \n",
       "1     -0.000116     1.001706            -1.426210         0  \n",
       "2     -0.000116     0.161108             0.489878         0  \n",
       "3     -0.583232    -0.492690             0.416183         0  \n",
       "4     -1.081970    -0.679490             0.416183         0  \n",
       "...         ...          ...                  ...       ...  \n",
       "99995 -0.000116     0.628107            -1.180558         0  \n",
       "99996 -1.499343     0.908306            -0.934905         0  \n",
       "99997  0.076729     0.161108             0.416183         0  \n",
       "99998  1.220361    -1.426688            -0.934905         0  \n",
       "99999 -0.736922     1.001706            -1.180558         0  \n",
       "\n",
       "[100000 rows x 9 columns]"
      ]
     },
     "execution_count": 8,
     "metadata": {},
     "output_type": "execute_result"
    }
   ],
   "source": [
    "from sklearn.preprocessing import StandardScaler\n",
    "\n",
    "scaler = StandardScaler()\n",
    "df[['age', 'smoking_history', \"bmi\", \"HbA1c_level\", \"blood_glucose_level\"]] = scaler.fit_transform(df[['age', 'smoking_history', \"bmi\", \"HbA1c_level\", \"blood_glucose_level\"]])\n",
    "df"
   ]
  },
  {
   "cell_type": "markdown",
   "id": "54e6e10c",
   "metadata": {},
   "source": [
    "## Exercise 3 : Model Training\n",
    "\n",
    "Use the logistic regression model and train it.\n",
    "\n",
    "------------------------------------------"
   ]
  },
  {
   "cell_type": "code",
   "execution_count": 25,
   "id": "36e478eb",
   "metadata": {},
   "outputs": [],
   "source": [
    "from sklearn.linear_model import LogisticRegression\n",
    "\n",
    "model = LogisticRegression(max_iter = 10000)\n",
    "\n",
    "model.fit(X_train, y_train.values.ravel())\n",
    "\n",
    "pred = model.predict(X_test)"
   ]
  },
  {
   "cell_type": "markdown",
   "id": "c7b38494",
   "metadata": {},
   "source": [
    "## Exercise 4 : Evaluation Metrics\n",
    "\n",
    "- Plot the accuracy score and comment the results.\n",
    "- Plot the confusion matrix and comment the results.\n",
    "- Plot the Recall, precision, F1-score and comment the results.\n",
    "----------------------------------------\n",
    "\n"
   ]
  },
  {
   "cell_type": "code",
   "execution_count": 26,
   "id": "7ddc62b9",
   "metadata": {},
   "outputs": [
    {
     "data": {
      "image/png": "[encoded data removed]",
      "text/plain": [
       "<Figure size 640x480 with 1 Axes>"
      ]
     },
     "metadata": {},
     "output_type": "display_data"
    }
   ],
   "source": [
    "from sklearn.metrics import confusion_matrix\n",
    "class_names = ['not diabetes', 'diabetes']\n",
    "matrix = confusion_matrix(y_test, pred)\n",
    "# Create pandas dataframe\n",
    "dataframe = pd.DataFrame(matrix, index=class_names, columns=class_names)\n",
    "# Create heatmap\n",
    "sns.heatmap(dataframe, annot=True, cbar=None, cmap=\"Blues\", fmt = 'g')\n",
    "plt.title(\"Confusion Matrix\"), plt.tight_layout()\n",
    "plt.ylabel(\"True Class\"), plt.xlabel(\"Predicted Class\")\n",
    "plt.show()"
   ]
  },
  {
   "cell_type": "markdown",
   "id": "5902e619",
   "metadata": {},
   "source": [
    "These are not great results. "
   ]
  },
  {
   "cell_type": "code",
   "execution_count": 27,
   "id": "9e1cf45c",
   "metadata": {},
   "outputs": [
    {
     "data": {
      "text/plain": [
       "0.3669511249030256"
      ]
     },
     "execution_count": 27,
     "metadata": {},
     "output_type": "execute_result"
    }
   ],
   "source": [
    "946/(1632+946)"
   ]
  },
  {
   "cell_type": "markdown",
   "id": "f97cd882",
   "metadata": {},
   "source": [
    "37% of the total diabetes cases were misclassified as not diabetes (false negatives). "
   ]
  },
  {
   "cell_type": "markdown",
   "id": "dc160f28",
   "metadata": {},
   "source": [
    "The model is very accurate to classify because accuracy is general for all cases. The model is very precise to classify people without diabetes, but more importantly it's not precise to classify people with diabetes."
   ]
  },
  {
   "cell_type": "code",
   "execution_count": 28,
   "id": "6f758170",
   "metadata": {},
   "outputs": [
    {
     "data": {
      "text/plain": [
       "0.8840736728060672"
      ]
     },
     "execution_count": 28,
     "metadata": {},
     "output_type": "execute_result"
    }
   ],
   "source": [
    "1632/(214+1632)"
   ]
  },
  {
   "cell_type": "markdown",
   "id": "48ce2af7",
   "metadata": {},
   "source": [
    "Out of all the cases which the model predicted had diabetes, 88% were correct. "
   ]
  },
  {
   "cell_type": "code",
   "execution_count": 29,
   "id": "66016f20",
   "metadata": {},
   "outputs": [
    {
     "name": "stdout",
     "output_type": "stream",
     "text": [
      "              precision    recall  f1-score   support\n",
      "\n",
      "           0       0.97      0.99      0.98     27422\n",
      "           1       0.88      0.63      0.74      2578\n",
      "\n",
      "    accuracy                           0.96     30000\n",
      "   macro avg       0.93      0.81      0.86     30000\n",
      "weighted avg       0.96      0.96      0.96     30000\n",
      "\n"
     ]
    }
   ],
   "source": [
    "from sklearn.metrics import classification_report\n",
    "\n",
    "report = classification_report(y_test, pred)\n",
    "print(report)"
   ]
  },
  {
   "cell_type": "markdown",
   "id": "7768fa7e",
   "metadata": {},
   "source": [
    "## Exercise 5 : Visualizing the performance of our model\n",
    "\n",
    "Visualize the decision boundary with accuracy information.\n",
    "\n",
    "-------------------------------------"
   ]
  },
  {
   "cell_type": "markdown",
   "id": "0aaf9508",
   "metadata": {},
   "source": [
    "So this is a hard plot to do since we have 8 independent variables and a 9 dimensional graph is not a logical thing to do."
   ]
  },
  {
   "cell_type": "code",
   "execution_count": 30,
   "id": "aaa54507",
   "metadata": {},
   "outputs": [
    {
     "data": {
      "text/html": [
       "<div>\n",
       "<style scoped>\n",
       "    .dataframe tbody tr th:only-of-type {\n",
       "        vertical-align: middle;\n",
       "    }\n",
       "\n",
       "    .dataframe tbody tr th {\n",
       "        vertical-align: top;\n",
       "    }\n",
       "\n",
       "    .dataframe thead th {\n",
       "        text-align: right;\n",
       "    }\n",
       "</style>\n",
       "<table border=\"1\" class=\"dataframe\">\n",
       "  <thead>\n",
       "    <tr style=\"text-align: right;\">\n",
       "      <th></th>\n",
       "      <th>gender</th>\n",
       "      <th>age</th>\n",
       "      <th>hypertension</th>\n",
       "      <th>heart_disease</th>\n",
       "      <th>smoking_history</th>\n",
       "      <th>bmi</th>\n",
       "      <th>HbA1c_level</th>\n",
       "      <th>blood_glucose_level</th>\n",
       "    </tr>\n",
       "  </thead>\n",
       "  <tbody>\n",
       "    <tr>\n",
       "      <th>80630</th>\n",
       "      <td>0</td>\n",
       "      <td>17.0</td>\n",
       "      <td>0</td>\n",
       "      <td>0</td>\n",
       "      <td>4</td>\n",
       "      <td>29.45</td>\n",
       "      <td>6.0</td>\n",
       "      <td>90</td>\n",
       "    </tr>\n",
       "    <tr>\n",
       "      <th>62017</th>\n",
       "      <td>1</td>\n",
       "      <td>10.0</td>\n",
       "      <td>0</td>\n",
       "      <td>0</td>\n",
       "      <td>0</td>\n",
       "      <td>25.88</td>\n",
       "      <td>3.5</td>\n",
       "      <td>90</td>\n",
       "    </tr>\n",
       "    <tr>\n",
       "      <th>5005</th>\n",
       "      <td>0</td>\n",
       "      <td>24.0</td>\n",
       "      <td>0</td>\n",
       "      <td>0</td>\n",
       "      <td>2</td>\n",
       "      <td>34.19</td>\n",
       "      <td>6.5</td>\n",
       "      <td>130</td>\n",
       "    </tr>\n",
       "    <tr>\n",
       "      <th>56849</th>\n",
       "      <td>0</td>\n",
       "      <td>48.0</td>\n",
       "      <td>0</td>\n",
       "      <td>0</td>\n",
       "      <td>0</td>\n",
       "      <td>27.67</td>\n",
       "      <td>3.5</td>\n",
       "      <td>126</td>\n",
       "    </tr>\n",
       "    <tr>\n",
       "      <th>42434</th>\n",
       "      <td>1</td>\n",
       "      <td>51.0</td>\n",
       "      <td>0</td>\n",
       "      <td>0</td>\n",
       "      <td>1</td>\n",
       "      <td>29.15</td>\n",
       "      <td>5.0</td>\n",
       "      <td>145</td>\n",
       "    </tr>\n",
       "    <tr>\n",
       "      <th>...</th>\n",
       "      <td>...</td>\n",
       "      <td>...</td>\n",
       "      <td>...</td>\n",
       "      <td>...</td>\n",
       "      <td>...</td>\n",
       "      <td>...</td>\n",
       "      <td>...</td>\n",
       "      <td>...</td>\n",
       "    </tr>\n",
       "    <tr>\n",
       "      <th>50057</th>\n",
       "      <td>0</td>\n",
       "      <td>36.0</td>\n",
       "      <td>0</td>\n",
       "      <td>0</td>\n",
       "      <td>4</td>\n",
       "      <td>27.32</td>\n",
       "      <td>5.8</td>\n",
       "      <td>158</td>\n",
       "    </tr>\n",
       "    <tr>\n",
       "      <th>98047</th>\n",
       "      <td>0</td>\n",
       "      <td>18.0</td>\n",
       "      <td>0</td>\n",
       "      <td>0</td>\n",
       "      <td>4</td>\n",
       "      <td>19.02</td>\n",
       "      <td>3.5</td>\n",
       "      <td>126</td>\n",
       "    </tr>\n",
       "    <tr>\n",
       "      <th>5192</th>\n",
       "      <td>1</td>\n",
       "      <td>80.0</td>\n",
       "      <td>1</td>\n",
       "      <td>0</td>\n",
       "      <td>3</td>\n",
       "      <td>28.36</td>\n",
       "      <td>5.8</td>\n",
       "      <td>90</td>\n",
       "    </tr>\n",
       "    <tr>\n",
       "      <th>77708</th>\n",
       "      <td>0</td>\n",
       "      <td>51.0</td>\n",
       "      <td>1</td>\n",
       "      <td>0</td>\n",
       "      <td>3</td>\n",
       "      <td>57.51</td>\n",
       "      <td>6.2</td>\n",
       "      <td>126</td>\n",
       "    </tr>\n",
       "    <tr>\n",
       "      <th>98539</th>\n",
       "      <td>0</td>\n",
       "      <td>79.0</td>\n",
       "      <td>0</td>\n",
       "      <td>0</td>\n",
       "      <td>4</td>\n",
       "      <td>27.32</td>\n",
       "      <td>6.0</td>\n",
       "      <td>90</td>\n",
       "    </tr>\n",
       "  </tbody>\n",
       "</table>\n",
       "<p>70000 rows × 8 columns</p>\n",
       "</div>"
      ],
      "text/plain": [
       "       gender   age  hypertension  heart_disease  smoking_history    bmi  \\\n",
       "80630       0  17.0             0              0                4  29.45   \n",
       "62017       1  10.0             0              0                0  25.88   \n",
       "5005        0  24.0             0              0                2  34.19   \n",
       "56849       0  48.0             0              0                0  27.67   \n",
       "42434       1  51.0             0              0                1  29.15   \n",
       "...       ...   ...           ...            ...              ...    ...   \n",
       "50057       0  36.0             0              0                4  27.32   \n",
       "98047       0  18.0             0              0                4  19.02   \n",
       "5192        1  80.0             1              0                3  28.36   \n",
       "77708       0  51.0             1              0                3  57.51   \n",
       "98539       0  79.0             0              0                4  27.32   \n",
       "\n",
       "       HbA1c_level  blood_glucose_level  \n",
       "80630          6.0                   90  \n",
       "62017          3.5                   90  \n",
       "5005           6.5                  130  \n",
       "56849          3.5                  126  \n",
       "42434          5.0                  145  \n",
       "...            ...                  ...  \n",
       "50057          5.8                  158  \n",
       "98047          3.5                  126  \n",
       "5192           5.8                   90  \n",
       "77708          6.2                  126  \n",
       "98539          6.0                   90  \n",
       "\n",
       "[70000 rows x 8 columns]"
      ]
     },
     "execution_count": 30,
     "metadata": {},
     "output_type": "execute_result"
    }
   ],
   "source": [
    "X_train"
   ]
  },
  {
   "cell_type": "markdown",
   "id": "55b0ef5b",
   "metadata": {},
   "source": [
    "## Exercise 6 : ROC Curve\n",
    "\n",
    "- Plot the ROC Curve\n",
    "\n",
    "------------------------------------"
   ]
  },
  {
   "cell_type": "code",
   "execution_count": 42,
   "id": "f147f571",
   "metadata": {},
   "outputs": [
    {
     "data": {
      "image/png": "[encoded data removed]",
      "text/plain": [
       "<Figure size 640x480 with 1 Axes>"
      ]
     },
     "metadata": {},
     "output_type": "display_data"
    }
   ],
   "source": [
    "from sklearn import metrics\n",
    "\n",
    "#define metrics\n",
    "fpr, tpr, _ = metrics.roc_curve(y_test,  pred)\n",
    "\n",
    "#create ROC curve\n",
    "plt.scatter(fpr,tpr)\n",
    "plt.ylabel('True Positive Rate')\n",
    "plt.xlabel('False Positive Rate')\n",
    "plt.show()"
   ]
  }
 ],
 "metadata": {
  "kernelspec": {
   "display_name": "Python 3",
   "language": "python",
   "name": "python3"
  },
  "language_info": {
   "codemirror_mode": {
    "name": "ipython",
    "version": 3
   },
   "file_extension": ".py",
   "mimetype": "text/x-python",
   "name": "python",
   "nbconvert_exporter": "python",
   "pygments_lexer": "ipython3",
   "version": "3.7.11"
  }
 },
 "nbformat": 4,
 "nbformat_minor": 5
}
