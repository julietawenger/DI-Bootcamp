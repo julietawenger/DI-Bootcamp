{
 "cells": [
  {
   "cell_type": "markdown",
   "id": "c46ede9c",
   "metadata": {},
   "source": [
    "# Daily Challenge: Exploring the World Happiness Report with Matplotlib"
   ]
  },
  {
   "cell_type": "code",
   "execution_count": 1,
   "id": "ebab2090",
   "metadata": {},
   "outputs": [],
   "source": [
    "import numpy as np\n",
    "import matplotlib.pyplot as plt\n",
    "import pandas as pd\n",
    "import seaborn as sns\n",
    "import random"
   ]
  },
  {
   "cell_type": "markdown",
   "id": "add51d0a",
   "metadata": {},
   "source": [
    "Your Task\n",
    "\n",
    "Your objective is to delve into the World Happiness Report dataset, which includes columns like Country, Year, Happiness_Score, GDP_per_Capita, Social_Support, Healthy_Life_Expectancy, Freedom_to_Make_Life_Choices, Generosity, and Perceptions_of_Corruption.\n",
    "\n",
    "    1. Load and Inspect Data:\n",
    "        Utilize pandas to load the World Happiness Report Dataset.\n",
    "        Examine the data to grasp its structure and contents of the year 2019.\n",
    "\n",
    "    2. Data Preprocessing:\n",
    "        Address missing values and adjust data types as necessary.\n",
    "\n",
    "    3. Social Support and Happiness:\n",
    "        Employ a Matplotlib scatter plot to investigate the relationship between ‘Social support’ and ‘Score’.\n",
    "\n",
    "    4. Regional Comparisons of GDP and Health:\n",
    "        Create a Matplotlib subplot that compares ‘GDP per Capita’ and ‘Healthy Life Expectancy’ across different regions.\n",
    "        Use a bar plot for ‘GDP per Capita’ and a line plot for ‘Healthy Life Expectancy’ on the same axes to observe how economic strength relates to health outcomes in different regions.\n",
    "\n",
    "\n"
   ]
  },
  {
   "cell_type": "code",
   "execution_count": 2,
   "id": "7688aa12",
   "metadata": {},
   "outputs": [
    {
     "data": {
      "text/html": [
       "<div>\n",
       "<style scoped>\n",
       "    .dataframe tbody tr th:only-of-type {\n",
       "        vertical-align: middle;\n",
       "    }\n",
       "\n",
       "    .dataframe tbody tr th {\n",
       "        vertical-align: top;\n",
       "    }\n",
       "\n",
       "    .dataframe thead th {\n",
       "        text-align: right;\n",
       "    }\n",
       "</style>\n",
       "<table border=\"1\" class=\"dataframe\">\n",
       "  <thead>\n",
       "    <tr style=\"text-align: right;\">\n",
       "      <th></th>\n",
       "      <th>Overall rank</th>\n",
       "      <th>Country or region</th>\n",
       "      <th>Score</th>\n",
       "      <th>GDP per capita</th>\n",
       "      <th>Social support</th>\n",
       "      <th>Healthy life expectancy</th>\n",
       "      <th>Freedom to make life choices</th>\n",
       "      <th>Generosity</th>\n",
       "      <th>Perceptions of corruption</th>\n",
       "    </tr>\n",
       "  </thead>\n",
       "  <tbody>\n",
       "    <tr>\n",
       "      <th>0</th>\n",
       "      <td>1</td>\n",
       "      <td>Finland</td>\n",
       "      <td>7.769</td>\n",
       "      <td>1.340</td>\n",
       "      <td>1.587</td>\n",
       "      <td>0.986</td>\n",
       "      <td>0.596</td>\n",
       "      <td>0.153</td>\n",
       "      <td>0.393</td>\n",
       "    </tr>\n",
       "    <tr>\n",
       "      <th>1</th>\n",
       "      <td>2</td>\n",
       "      <td>Denmark</td>\n",
       "      <td>7.600</td>\n",
       "      <td>1.383</td>\n",
       "      <td>1.573</td>\n",
       "      <td>0.996</td>\n",
       "      <td>0.592</td>\n",
       "      <td>0.252</td>\n",
       "      <td>0.410</td>\n",
       "    </tr>\n",
       "    <tr>\n",
       "      <th>2</th>\n",
       "      <td>3</td>\n",
       "      <td>Norway</td>\n",
       "      <td>7.554</td>\n",
       "      <td>1.488</td>\n",
       "      <td>1.582</td>\n",
       "      <td>1.028</td>\n",
       "      <td>0.603</td>\n",
       "      <td>0.271</td>\n",
       "      <td>0.341</td>\n",
       "    </tr>\n",
       "    <tr>\n",
       "      <th>3</th>\n",
       "      <td>4</td>\n",
       "      <td>Iceland</td>\n",
       "      <td>7.494</td>\n",
       "      <td>1.380</td>\n",
       "      <td>1.624</td>\n",
       "      <td>1.026</td>\n",
       "      <td>0.591</td>\n",
       "      <td>0.354</td>\n",
       "      <td>0.118</td>\n",
       "    </tr>\n",
       "    <tr>\n",
       "      <th>4</th>\n",
       "      <td>5</td>\n",
       "      <td>Netherlands</td>\n",
       "      <td>7.488</td>\n",
       "      <td>1.396</td>\n",
       "      <td>1.522</td>\n",
       "      <td>0.999</td>\n",
       "      <td>0.557</td>\n",
       "      <td>0.322</td>\n",
       "      <td>0.298</td>\n",
       "    </tr>\n",
       "  </tbody>\n",
       "</table>\n",
       "</div>"
      ],
      "text/plain": [
       "   Overall rank Country or region  Score  GDP per capita  Social support  \\\n",
       "0             1           Finland  7.769           1.340           1.587   \n",
       "1             2           Denmark  7.600           1.383           1.573   \n",
       "2             3            Norway  7.554           1.488           1.582   \n",
       "3             4           Iceland  7.494           1.380           1.624   \n",
       "4             5       Netherlands  7.488           1.396           1.522   \n",
       "\n",
       "   Healthy life expectancy  Freedom to make life choices  Generosity  \\\n",
       "0                    0.986                         0.596       0.153   \n",
       "1                    0.996                         0.592       0.252   \n",
       "2                    1.028                         0.603       0.271   \n",
       "3                    1.026                         0.591       0.354   \n",
       "4                    0.999                         0.557       0.322   \n",
       "\n",
       "   Perceptions of corruption  \n",
       "0                      0.393  \n",
       "1                      0.410  \n",
       "2                      0.341  \n",
       "3                      0.118  \n",
       "4                      0.298  "
      ]
     },
     "execution_count": 2,
     "metadata": {},
     "output_type": "execute_result"
    }
   ],
   "source": [
    "data = pd.read_csv(r\"2019.csv\")\n",
    "data= pd.DataFrame(data)\n",
    "data.head()"
   ]
  },
  {
   "cell_type": "markdown",
   "id": "a644b804",
   "metadata": {},
   "source": [
    "Let's see if there are any dulplicates:"
   ]
  },
  {
   "cell_type": "code",
   "execution_count": 3,
   "id": "a3aa6d2b",
   "metadata": {},
   "outputs": [
    {
     "name": "stdout",
     "output_type": "stream",
     "text": [
      "156\n",
      "156\n"
     ]
    }
   ],
   "source": [
    "print(len(data))\n",
    "data = data.drop_duplicates()\n",
    "print(len(data))"
   ]
  },
  {
   "cell_type": "markdown",
   "id": "ec18c955",
   "metadata": {},
   "source": [
    "There were no duplicates"
   ]
  },
  {
   "cell_type": "markdown",
   "id": "1a65a541",
   "metadata": {},
   "source": [
    "What about missing values?"
   ]
  },
  {
   "cell_type": "code",
   "execution_count": 4,
   "id": "05b9beb7",
   "metadata": {},
   "outputs": [
    {
     "name": "stdout",
     "output_type": "stream",
     "text": [
      "Empty DataFrame\n",
      "Columns: [Overall rank, Country or region, Score, GDP per capita, Social support, Healthy life expectancy, Freedom to make life choices, Generosity, Perceptions of corruption]\n",
      "Index: []\n"
     ]
    }
   ],
   "source": [
    "null_data = data[data.isnull().any(axis=1)]\n",
    "print(null_data)"
   ]
  },
  {
   "cell_type": "markdown",
   "id": "8579415c",
   "metadata": {},
   "source": [
    "Also, no missing values. Looks fine. Most of the columns are numerical as well."
   ]
  },
  {
   "cell_type": "markdown",
   "id": "13755965",
   "metadata": {},
   "source": [
    "Now I want to find the relationship between \"Score\" and \"Social support\":"
   ]
  },
  {
   "cell_type": "code",
   "execution_count": 5,
   "id": "e59d80b2",
   "metadata": {},
   "outputs": [
    {
     "data": {
      "image/png": "[encoded data removed]",
      "text/plain": [
       "<Figure size 640x480 with 1 Axes>"
      ]
     },
     "metadata": {},
     "output_type": "display_data"
    }
   ],
   "source": [
    "plt.scatter(data[\"Social support\"],data[\"Score\"], color = 'teal')\n",
    "plt.grid()\n",
    "plt.ylabel(\"Score\")\n",
    "plt.xlabel(\"Social support\")\n",
    "#plt.yscale('log')\n",
    "plt.show()"
   ]
  },
  {
   "cell_type": "markdown",
   "id": "32d8b115",
   "metadata": {},
   "source": [
    "According to this research, the higher the social support, the higher scores of happiness the country reports. It's worth noting that it would seem like at certain point, a small increase in social support results in a big difference in reported happiness. "
   ]
  },
  {
   "cell_type": "code",
   "execution_count": 6,
   "id": "8f06490d",
   "metadata": {},
   "outputs": [
    {
     "name": "stdout",
     "output_type": "stream",
     "text": [
      "Requirement already satisfied: pycountry_convert in c:\\users\\julie\\anaconda3\\lib\\site-packages (0.7.2)\n",
      "Requirement already satisfied: pprintpp>=0.3.0 in c:\\users\\julie\\anaconda3\\lib\\site-packages (from pycountry_convert) (0.4.0)\n",
      "Requirement already satisfied: pytest-mock>=1.6.3 in c:\\users\\julie\\anaconda3\\lib\\site-packages (from pycountry_convert) (3.11.1)\n",
      "Requirement already satisfied: repoze.lru>=0.7 in c:\\users\\julie\\anaconda3\\lib\\site-packages (from pycountry_convert) (0.7)\n",
      "Requirement already satisfied: pycountry>=16.11.27.1 in c:\\users\\julie\\anaconda3\\lib\\site-packages (from pycountry_convert) (22.3.5)\n",
      "Requirement already satisfied: pytest>=3.4.0 in c:\\users\\julie\\anaconda3\\lib\\site-packages (from pycountry_convert) (7.1.1)\n",
      "Requirement already satisfied: wheel>=0.30.0 in c:\\users\\julie\\anaconda3\\lib\\site-packages (from pycountry_convert) (0.37.0)\n",
      "Requirement already satisfied: pytest-cov>=2.5.1 in c:\\users\\julie\\anaconda3\\lib\\site-packages (from pycountry_convert) (4.1.0)\n",
      "Requirement already satisfied: setuptools in c:\\users\\julie\\anaconda3\\lib\\site-packages (from pycountry>=16.11.27.1->pycountry_convert) (58.0.4)\n",
      "Requirement already satisfied: attrs>=19.2.0 in c:\\users\\julie\\anaconda3\\lib\\site-packages (from pytest>=3.4.0->pycountry_convert) (21.2.0)\n",
      "Requirement already satisfied: atomicwrites>=1.0 in c:\\users\\julie\\anaconda3\\lib\\site-packages (from pytest>=3.4.0->pycountry_convert) (1.4.0)\n",
      "Requirement already satisfied: importlib-metadata>=0.12 in c:\\users\\julie\\anaconda3\\lib\\site-packages (from pytest>=3.4.0->pycountry_convert) (4.8.1)\n",
      "Requirement already satisfied: pluggy<2.0,>=0.12 in c:\\users\\julie\\anaconda3\\lib\\site-packages (from pytest>=3.4.0->pycountry_convert) (1.0.0)\n",
      "Requirement already satisfied: colorama in c:\\users\\julie\\anaconda3\\lib\\site-packages (from pytest>=3.4.0->pycountry_convert) (0.4.4)\n",
      "Requirement already satisfied: py>=1.8.2 in c:\\users\\julie\\anaconda3\\lib\\site-packages (from pytest>=3.4.0->pycountry_convert) (1.11.0)\n",
      "Requirement already satisfied: packaging in c:\\users\\julie\\anaconda3\\lib\\site-packages (from pytest>=3.4.0->pycountry_convert) (21.0)\n",
      "Requirement already satisfied: tomli>=1.0.0 in c:\\users\\julie\\anaconda3\\lib\\site-packages (from pytest>=3.4.0->pycountry_convert) (2.0.1)\n",
      "Requirement already satisfied: iniconfig in c:\\users\\julie\\anaconda3\\lib\\site-packages (from pytest>=3.4.0->pycountry_convert) (1.1.1)\n",
      "Requirement already satisfied: coverage[toml]>=5.2.1 in c:\\users\\julie\\anaconda3\\lib\\site-packages (from pytest-cov>=2.5.1->pycountry_convert) (7.2.7)\n",
      "Requirement already satisfied: zipp>=0.5 in c:\\users\\julie\\anaconda3\\lib\\site-packages (from importlib-metadata>=0.12->pytest>=3.4.0->pycountry_convert) (3.6.0)\n",
      "Requirement already satisfied: typing-extensions>=3.6.4 in c:\\users\\julie\\anaconda3\\lib\\site-packages (from importlib-metadata>=0.12->pytest>=3.4.0->pycountry_convert) (3.10.0.2)\n",
      "Requirement already satisfied: pyparsing>=2.0.2 in c:\\users\\julie\\anaconda3\\lib\\site-packages (from packaging->pytest>=3.4.0->pycountry_convert) (3.0.4)\n"
     ]
    },
    {
     "name": "stderr",
     "output_type": "stream",
     "text": [
      "\n",
      "[notice] A new release of pip available: 22.2.2 -> 24.0\n",
      "[notice] To update, run: python.exe -m pip install --upgrade pip\n"
     ]
    }
   ],
   "source": [
    "!pip install pycountry_convert \n"
   ]
  },
  {
   "cell_type": "code",
   "execution_count": 7,
   "id": "f609779b",
   "metadata": {},
   "outputs": [],
   "source": [
    "import pycountry_convert as pc\n",
    "\n",
    "def country_to_continent(country_name):\n",
    "    if country_name == \"Trinidad & Tobago\":\n",
    "        return \"South America\"\n",
    "    elif country_name == \"Kosovo\":\n",
    "        return \"Europe\"\n",
    "    elif country_name == \"Palestinian Territories\":\n",
    "        return \"Asia\"\n",
    "    elif country_name == 'Congo (Brazzaville)' or country_name == 'Congo (Kinshasa)':\n",
    "        return \"Africa\"\n",
    "    else:\n",
    "        country_alpha2 = pc.country_name_to_country_alpha2(country_name)\n",
    "        country_continent_code = pc.country_alpha2_to_continent_code(country_alpha2)\n",
    "        country_continent_name = pc.convert_continent_code_to_continent_name(country_continent_code)\n",
    "        return country_continent_name\n",
    "\n",
    "data['Region'] = [country_to_continent(i) for i in data[\"Country or region\"]]\n"
   ]
  },
  {
   "cell_type": "code",
   "execution_count": 8,
   "id": "a5274e35",
   "metadata": {},
   "outputs": [
    {
     "data": {
      "text/html": [
       "<div>\n",
       "<style scoped>\n",
       "    .dataframe tbody tr th:only-of-type {\n",
       "        vertical-align: middle;\n",
       "    }\n",
       "\n",
       "    .dataframe tbody tr th {\n",
       "        vertical-align: top;\n",
       "    }\n",
       "\n",
       "    .dataframe thead th {\n",
       "        text-align: right;\n",
       "    }\n",
       "</style>\n",
       "<table border=\"1\" class=\"dataframe\">\n",
       "  <thead>\n",
       "    <tr style=\"text-align: right;\">\n",
       "      <th></th>\n",
       "      <th>Overall rank</th>\n",
       "      <th>Country or region</th>\n",
       "      <th>Score</th>\n",
       "      <th>GDP per capita</th>\n",
       "      <th>Social support</th>\n",
       "      <th>Healthy life expectancy</th>\n",
       "      <th>Freedom to make life choices</th>\n",
       "      <th>Generosity</th>\n",
       "      <th>Perceptions of corruption</th>\n",
       "      <th>Region</th>\n",
       "    </tr>\n",
       "  </thead>\n",
       "  <tbody>\n",
       "    <tr>\n",
       "      <th>0</th>\n",
       "      <td>1</td>\n",
       "      <td>Finland</td>\n",
       "      <td>7.769</td>\n",
       "      <td>1.340</td>\n",
       "      <td>1.587</td>\n",
       "      <td>0.986</td>\n",
       "      <td>0.596</td>\n",
       "      <td>0.153</td>\n",
       "      <td>0.393</td>\n",
       "      <td>Europe</td>\n",
       "    </tr>\n",
       "    <tr>\n",
       "      <th>1</th>\n",
       "      <td>2</td>\n",
       "      <td>Denmark</td>\n",
       "      <td>7.600</td>\n",
       "      <td>1.383</td>\n",
       "      <td>1.573</td>\n",
       "      <td>0.996</td>\n",
       "      <td>0.592</td>\n",
       "      <td>0.252</td>\n",
       "      <td>0.410</td>\n",
       "      <td>Europe</td>\n",
       "    </tr>\n",
       "    <tr>\n",
       "      <th>2</th>\n",
       "      <td>3</td>\n",
       "      <td>Norway</td>\n",
       "      <td>7.554</td>\n",
       "      <td>1.488</td>\n",
       "      <td>1.582</td>\n",
       "      <td>1.028</td>\n",
       "      <td>0.603</td>\n",
       "      <td>0.271</td>\n",
       "      <td>0.341</td>\n",
       "      <td>Europe</td>\n",
       "    </tr>\n",
       "    <tr>\n",
       "      <th>3</th>\n",
       "      <td>4</td>\n",
       "      <td>Iceland</td>\n",
       "      <td>7.494</td>\n",
       "      <td>1.380</td>\n",
       "      <td>1.624</td>\n",
       "      <td>1.026</td>\n",
       "      <td>0.591</td>\n",
       "      <td>0.354</td>\n",
       "      <td>0.118</td>\n",
       "      <td>Europe</td>\n",
       "    </tr>\n",
       "    <tr>\n",
       "      <th>4</th>\n",
       "      <td>5</td>\n",
       "      <td>Netherlands</td>\n",
       "      <td>7.488</td>\n",
       "      <td>1.396</td>\n",
       "      <td>1.522</td>\n",
       "      <td>0.999</td>\n",
       "      <td>0.557</td>\n",
       "      <td>0.322</td>\n",
       "      <td>0.298</td>\n",
       "      <td>Europe</td>\n",
       "    </tr>\n",
       "  </tbody>\n",
       "</table>\n",
       "</div>"
      ],
      "text/plain": [
       "   Overall rank Country or region  Score  GDP per capita  Social support  \\\n",
       "0             1           Finland  7.769           1.340           1.587   \n",
       "1             2           Denmark  7.600           1.383           1.573   \n",
       "2             3            Norway  7.554           1.488           1.582   \n",
       "3             4           Iceland  7.494           1.380           1.624   \n",
       "4             5       Netherlands  7.488           1.396           1.522   \n",
       "\n",
       "   Healthy life expectancy  Freedom to make life choices  Generosity  \\\n",
       "0                    0.986                         0.596       0.153   \n",
       "1                    0.996                         0.592       0.252   \n",
       "2                    1.028                         0.603       0.271   \n",
       "3                    1.026                         0.591       0.354   \n",
       "4                    0.999                         0.557       0.322   \n",
       "\n",
       "   Perceptions of corruption  Region  \n",
       "0                      0.393  Europe  \n",
       "1                      0.410  Europe  \n",
       "2                      0.341  Europe  \n",
       "3                      0.118  Europe  \n",
       "4                      0.298  Europe  "
      ]
     },
     "execution_count": 8,
     "metadata": {},
     "output_type": "execute_result"
    }
   ],
   "source": [
    "data.head()"
   ]
  },
  {
   "cell_type": "code",
   "execution_count": 9,
   "id": "7da9a653",
   "metadata": {},
   "outputs": [
    {
     "data": {
      "text/html": [
       "<div>\n",
       "<style scoped>\n",
       "    .dataframe tbody tr th:only-of-type {\n",
       "        vertical-align: middle;\n",
       "    }\n",
       "\n",
       "    .dataframe tbody tr th {\n",
       "        vertical-align: top;\n",
       "    }\n",
       "\n",
       "    .dataframe thead th {\n",
       "        text-align: right;\n",
       "    }\n",
       "</style>\n",
       "<table border=\"1\" class=\"dataframe\">\n",
       "  <thead>\n",
       "    <tr style=\"text-align: right;\">\n",
       "      <th></th>\n",
       "      <th>Region</th>\n",
       "      <th>GDP per capita</th>\n",
       "      <th>Healthy life expectancy</th>\n",
       "    </tr>\n",
       "  </thead>\n",
       "  <tbody>\n",
       "    <tr>\n",
       "      <th>0</th>\n",
       "      <td>Africa</td>\n",
       "      <td>0.498467</td>\n",
       "      <td>0.444467</td>\n",
       "    </tr>\n",
       "    <tr>\n",
       "      <th>1</th>\n",
       "      <td>Asia</td>\n",
       "      <td>0.980283</td>\n",
       "      <td>0.767848</td>\n",
       "    </tr>\n",
       "    <tr>\n",
       "      <th>2</th>\n",
       "      <td>Europe</td>\n",
       "      <td>1.219900</td>\n",
       "      <td>0.919800</td>\n",
       "    </tr>\n",
       "    <tr>\n",
       "      <th>3</th>\n",
       "      <td>North America</td>\n",
       "      <td>0.929167</td>\n",
       "      <td>0.825333</td>\n",
       "    </tr>\n",
       "    <tr>\n",
       "      <th>4</th>\n",
       "      <td>Oceania</td>\n",
       "      <td>1.337500</td>\n",
       "      <td>1.031000</td>\n",
       "    </tr>\n",
       "    <tr>\n",
       "      <th>5</th>\n",
       "      <td>South America</td>\n",
       "      <td>1.005273</td>\n",
       "      <td>0.823455</td>\n",
       "    </tr>\n",
       "  </tbody>\n",
       "</table>\n",
       "</div>"
      ],
      "text/plain": [
       "          Region  GDP per capita  Healthy life expectancy\n",
       "0         Africa        0.498467                 0.444467\n",
       "1           Asia        0.980283                 0.767848\n",
       "2         Europe        1.219900                 0.919800\n",
       "3  North America        0.929167                 0.825333\n",
       "4        Oceania        1.337500                 1.031000\n",
       "5  South America        1.005273                 0.823455"
      ]
     },
     "execution_count": 9,
     "metadata": {},
     "output_type": "execute_result"
    }
   ],
   "source": [
    "data_region = data.groupby('Region').agg({'GDP per capita': 'mean', 'Healthy life expectancy': 'mean'}).reset_index()\n",
    "data_region"
   ]
  },
  {
   "cell_type": "code",
   "execution_count": 20,
   "id": "a375b4be",
   "metadata": {},
   "outputs": [
    {
     "data": {
      "image/png": "[encoded data removed]",
      "text/plain": [
       "<Figure size 800x500 with 2 Axes>"
      ]
     },
     "metadata": {},
     "output_type": "display_data"
    }
   ],
   "source": [
    "fig, ax1 = plt.subplots( figsize=(8, 5))\n",
    "\n",
    "sns.barplot(x='Region', y='GDP per capita', data=data_region, ax=ax1, palette='viridis')\n",
    "ax1.set_xlabel('Region', fontsize=14)\n",
    "ax1.set_ylabel('GDP per Capita', fontsize=14)\n",
    "ax1.set_xticklabels(ax1.get_xticklabels(), rotation=45, ha=\"right\")\n",
    "ax2 = ax1.twinx()\n",
    "sns.lineplot(x='Region', y='Healthy life expectancy', data=data_region, ax=ax2, color='r', marker='o', linewidth=2)\n",
    "ax2.set_ylabel('Healthy Life Expectancy', fontsize=14)\n",
    "ax2.set_xlabel('Region', fontsize=14)\n",
    "\n",
    "plt.title('Comparison of GDP per Capita and Healthy Life Expectancy Across Regions')\n",
    "plt.tight_layout()\n",
    "plt.show()"
   ]
  }
 ],
 "metadata": {
  "kernelspec": {
   "display_name": "Python 3",
   "language": "python",
   "name": "python3"
  },
  "language_info": {
   "codemirror_mode": {
    "name": "ipython",
    "version": 3
   },
   "file_extension": ".py",
   "mimetype": "text/x-python",
   "name": "python",
   "nbconvert_exporter": "python",
   "pygments_lexer": "ipython3",
   "version": "3.7.11"
  }
 },
 "nbformat": 4,
 "nbformat_minor": 5
}
