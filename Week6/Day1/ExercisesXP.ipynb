{
 "cells": [
  {
   "cell_type": "markdown",
   "id": "69e40c25",
   "metadata": {},
   "source": [
    "# Exercises XP"
   ]
  },
  {
   "cell_type": "markdown",
   "id": "1be4bb15",
   "metadata": {},
   "source": [
    " ### Exercise 1 : Small Quizz\n",
    "\n",
    "1. What is the key difference between traditional machine learning and deep learning?\n",
    "2. How do artificial neural networks (ANNs) mimic the human brain?\n",
    "3. Why does deep learning perform better on large datasets compared to traditional machine learning?\n",
    "4. What are some challenges of deep learning, and how can they be addressed?\n",
    "5. What is feature engineering, and why is it not needed in deep learning?\n",
    "6. What role do hidden layers play in a deep learning model?\n",
    "7. In an artificial neural network (ANN), what is the function of an activation function?\n",
    "____________"
   ]
  },
  {
   "cell_type": "markdown",
   "id": "98f8af3e",
   "metadata": {},
   "source": [
    "1. Machine learning is more explicitly used as a means to extract knowledge from data through simpler methods such as decision trees or linear regression, while deep learning uses the more advanced methods found in artificial neural networks.\n",
    "\n",
    "2. The ANNs mimic the human brain by using artificial neurons (nodes) connected by weighted links, used to predict an outcome.\n",
    "\n",
    "3. Deep learning performs better on large datasets because it can automatically learn complex, hierarchical features from the data, whereas traditional machine learning often requires manual feature engineering and struggles with high-dimensional data.\n",
    "\n",
    "4. Some challenges of deep learning are its high computational cost, high data requirement and lack of interpretability. To address these issues one can:  \n",
    "  - Use cloud AI services instead of buying GPUs and optimize models using pruning, quantization, and knowledge distillation.\n",
    "  - Use data augmentation, transfer learning, or unsupervised learning and use pre-trained models or synthetic data generation.\n",
    "  - Use Explainable AI tools and implement attention mechanisms or hybrid models combining deep learning with interpretable techniques,\n",
    "  \n",
    "respectively.\n",
    "\n",
    "5. Feature engineering is the process of manually selecting, transforming, or creating input features from raw data to improve the performance of traditional machine learning models. It is not needed in deep learning because deep neural networks can automatically learn relevant features directly from the raw data through multiple layers of abstraction.\n",
    "\n",
    "6. Hidden layers in a deep learning model transform the input data into progressively more abstract features, allowing the model to learn complex patterns and relationships at different levels of abstraction.\n",
    "\n",
    "7. The activaction function is used to determine whether a neuron should be “activated” (answer: yes) or not (answer: no) based on the weighted sum of inputs. It can also return a number between 0 to 1 indicating a range closer to \"yes\" or \"no\" instead of a binary answer."
   ]
  },
  {
   "cell_type": "markdown",
   "id": "72c6b18b",
   "metadata": {},
   "source": [
    "### Exercise 2 : Building a Simple Perceptron Decision System\n",
    "\n",
    "You will manually create a simple perceptron-based decision system to determine whether you should go outside based on two inputs:\n",
    "\n",
    "    Temperature (°F)\n",
    "    Rainy (Yes = 1, No = 0)\n",
    "\n",
    "You will assign weights, compute the weighted sum, apply an activation function, and determine the final decision.\n",
    "\n",
    "    Temperature weight = 0.6\n",
    "    Rain weight = 0.4\n",
    "    Bias = 2\n",
    "\n",
    "Compute the weighted sum using the formula:\n",
    "\n",
    "    Weighted Sum=(Temperature×0.6)+(Rain×0.4)+Bias\n",
    "\n",
    "Apply a Step Activation Function:\n",
    "\n",
    "    If Weighted Sum > 20, output 1 (Yes, go outside)\n",
    "    If Weighted Sum ≤ 20, output 0 (No, stay inside)\n",
    "\n",
    "1. Calculate the output for the following conditions:\n",
    "\n",
    "    Case 1: Temperature = 70°F, Rain = 0 (No)\n",
    "    \n",
    "    Case 2: Temperature = 50°F, Rain = 1 (Yes)\n",
    "    \n",
    "\n",
    "2. Interpret the results: Did the perceptron suggest going outside in both cases? Why or why not?\n",
    "_____________"
   ]
  },
  {
   "cell_type": "markdown",
   "id": "32c0b977",
   "metadata": {},
   "source": [
    "Case 1:"
   ]
  },
  {
   "cell_type": "code",
   "execution_count": 1,
   "id": "616c0c0f",
   "metadata": {},
   "outputs": [],
   "source": [
    "temp = 70\n",
    "rain = 0 "
   ]
  },
  {
   "cell_type": "code",
   "execution_count": 2,
   "id": "965a7123",
   "metadata": {},
   "outputs": [],
   "source": [
    "w1 = 0.6\n",
    "w2 = 0.4\n",
    "b = 2"
   ]
  },
  {
   "cell_type": "code",
   "execution_count": 3,
   "id": "3677aa4c",
   "metadata": {},
   "outputs": [],
   "source": [
    "weighted_sum = temp*w1 + rain*w2 + b"
   ]
  },
  {
   "cell_type": "code",
   "execution_count": 4,
   "id": "fd2a6015",
   "metadata": {},
   "outputs": [
    {
     "name": "stdout",
     "output_type": "stream",
     "text": [
      "Weighted sum: 44.0\n",
      "Yes, go outside\n"
     ]
    }
   ],
   "source": [
    "print(f\"Weighted sum: {weighted_sum}\")\n",
    "if weighted_sum > 20:\n",
    "    output = 1\n",
    "    print(\"Yes, go outside\")\n",
    "else:\n",
    "    output = 0\n",
    "    pring(\"No, stay inside\") "
   ]
  },
  {
   "cell_type": "markdown",
   "id": "91064cfe",
   "metadata": {},
   "source": [
    "Case 2:"
   ]
  },
  {
   "cell_type": "code",
   "execution_count": 5,
   "id": "8b32a46b",
   "metadata": {},
   "outputs": [],
   "source": [
    "temp = 50\n",
    "rain = 1"
   ]
  },
  {
   "cell_type": "code",
   "execution_count": 6,
   "id": "bc541f54",
   "metadata": {},
   "outputs": [],
   "source": [
    "w1 = 0.6\n",
    "w2 = 0.4\n",
    "b = 2"
   ]
  },
  {
   "cell_type": "code",
   "execution_count": 7,
   "id": "21f5b2f3",
   "metadata": {},
   "outputs": [],
   "source": [
    "weighted_sum = temp*w1 + rain*w2 + b"
   ]
  },
  {
   "cell_type": "code",
   "execution_count": 8,
   "id": "340ced08",
   "metadata": {},
   "outputs": [
    {
     "name": "stdout",
     "output_type": "stream",
     "text": [
      "Weighted sum: 32.4\n",
      "Yes, go outside\n"
     ]
    }
   ],
   "source": [
    "print(f\"Weighted sum: {weighted_sum}\")\n",
    "if weighted_sum > 20:\n",
    "    output = 1\n",
    "    print(\"Yes, go outside\")\n",
    "else:\n",
    "    output = 0\n",
    "    pring(\"No, stay inside\") "
   ]
  },
  {
   "cell_type": "markdown",
   "id": "79a18718",
   "metadata": {},
   "source": [
    "The perceptron suggested going outside in both cases because of the threshold and weight chosen for each feature."
   ]
  },
  {
   "cell_type": "markdown",
   "id": "0a997d0c",
   "metadata": {},
   "source": [
    "### Exercise 3 : Building a Simple Neural Network with TensorFlow/Keras\n",
    "\n",
    "Build a simple neural network using TensorFlow/Keras to classify handwritten digits from the MNIST dataset. The network should have:\n",
    "\n",
    "   - One input layer.\n",
    "   - One hidden layer with 128 neurons and ReLU activation.\n",
    "   - One output layer with 10 neurons (for 10 classes) and softmax activation.\n",
    "\n",
    "### Exercise 6 : Visualizing Predictions on the MNIST Dataset\n",
    "\n",
    "Train a simple neural network using TensorFlow/Keras on the MNIST dataset. After training, visualize some of the predictions made by the model.\n",
    "Dataset: The MNIST dataset is included in TensorFlow/Keras.\n",
    "\n",
    "Here are the steps for this exercise :\n",
    "\n",
    "   - Load the MNIST dataset\n",
    "   - Normalize the data\n",
    "   - One-hot encode the labels\n",
    "   - Build the model\n",
    "   - Compile the model\n",
    "   - Train the model\n",
    "   - Make predictions\n",
    "   - Visualize some predictions\n",
    "\n",
    "\n",
    "___________________\n"
   ]
  },
  {
   "cell_type": "code",
   "execution_count": 9,
   "id": "27d23327",
   "metadata": {},
   "outputs": [
    {
     "name": "stdout",
     "output_type": "stream",
     "text": [
      "Requirement already satisfied: tensorflow in c:\\users\\julie\\anaconda3\\lib\\site-packages (2.11.0)\n",
      "Requirement already satisfied: tensorflow-intel==2.11.0 in c:\\users\\julie\\anaconda3\\lib\\site-packages (from tensorflow) (2.11.0)\n",
      "Requirement already satisfied: gast<=0.4.0,>=0.2.1 in c:\\users\\julie\\anaconda3\\lib\\site-packages (from tensorflow-intel==2.11.0->tensorflow) (0.4.0)\n",
      "Requirement already satisfied: termcolor>=1.1.0 in c:\\users\\julie\\anaconda3\\lib\\site-packages (from tensorflow-intel==2.11.0->tensorflow) (2.3.0)\n",
      "Requirement already satisfied: h5py>=2.9.0 in c:\\users\\julie\\anaconda3\\lib\\site-packages (from tensorflow-intel==2.11.0->tensorflow) (3.2.1)\n",
      "Requirement already satisfied: six>=1.12.0 in c:\\users\\julie\\anaconda3\\lib\\site-packages (from tensorflow-intel==2.11.0->tensorflow) (1.16.0)\n",
      "Requirement already satisfied: wrapt>=1.11.0 in c:\\users\\julie\\anaconda3\\lib\\site-packages (from tensorflow-intel==2.11.0->tensorflow) (1.12.1)\n",
      "Requirement already satisfied: tensorflow-io-gcs-filesystem>=0.23.1 in c:\\users\\julie\\anaconda3\\lib\\site-packages (from tensorflow-intel==2.11.0->tensorflow) (0.31.0)\n",
      "Requirement already satisfied: keras<2.12,>=2.11.0 in c:\\users\\julie\\anaconda3\\lib\\site-packages (from tensorflow-intel==2.11.0->tensorflow) (2.11.0)\n",
      "Requirement already satisfied: tensorflow-estimator<2.12,>=2.11.0 in c:\\users\\julie\\anaconda3\\lib\\site-packages (from tensorflow-intel==2.11.0->tensorflow) (2.11.0)\n",
      "Requirement already satisfied: libclang>=13.0.0 in c:\\users\\julie\\anaconda3\\lib\\site-packages (from tensorflow-intel==2.11.0->tensorflow) (18.1.1)\n",
      "Requirement already satisfied: numpy>=1.20 in c:\\users\\julie\\anaconda3\\lib\\site-packages (from tensorflow-intel==2.11.0->tensorflow) (1.21.2)\n",
      "Requirement already satisfied: opt-einsum>=2.3.2 in c:\\users\\julie\\anaconda3\\lib\\site-packages (from tensorflow-intel==2.11.0->tensorflow) (3.3.0)\n",
      "Requirement already satisfied: packaging in c:\\users\\julie\\anaconda3\\lib\\site-packages (from tensorflow-intel==2.11.0->tensorflow) (21.0)\n",
      "Requirement already satisfied: tensorboard<2.12,>=2.11 in c:\\users\\julie\\anaconda3\\lib\\site-packages (from tensorflow-intel==2.11.0->tensorflow) (2.11.2)\n",
      "Requirement already satisfied: grpcio<2.0,>=1.24.3 in c:\\users\\julie\\anaconda3\\lib\\site-packages (from tensorflow-intel==2.11.0->tensorflow) (1.62.3)\n",
      "Requirement already satisfied: flatbuffers>=2.0 in c:\\users\\julie\\anaconda3\\lib\\site-packages (from tensorflow-intel==2.11.0->tensorflow) (25.2.10)\n",
      "Requirement already satisfied: google-pasta>=0.1.1 in c:\\users\\julie\\anaconda3\\lib\\site-packages (from tensorflow-intel==2.11.0->tensorflow) (0.2.0)\n",
      "Requirement already satisfied: typing-extensions>=3.6.6 in c:\\users\\julie\\anaconda3\\lib\\site-packages (from tensorflow-intel==2.11.0->tensorflow) (3.10.0.2)\n",
      "Requirement already satisfied: astunparse>=1.6.0 in c:\\users\\julie\\anaconda3\\lib\\site-packages (from tensorflow-intel==2.11.0->tensorflow) (1.6.3)\n",
      "Requirement already satisfied: setuptools in c:\\users\\julie\\anaconda3\\lib\\site-packages (from tensorflow-intel==2.11.0->tensorflow) (58.0.4)\n",
      "Requirement already satisfied: absl-py>=1.0.0 in c:\\users\\julie\\anaconda3\\lib\\site-packages (from tensorflow-intel==2.11.0->tensorflow) (2.1.0)\n",
      "Requirement already satisfied: protobuf<3.20,>=3.9.2 in c:\\users\\julie\\anaconda3\\lib\\site-packages (from tensorflow-intel==2.11.0->tensorflow) (3.19.6)\n",
      "Requirement already satisfied: wheel<1.0,>=0.23.0 in c:\\users\\julie\\anaconda3\\lib\\site-packages (from astunparse>=1.6.0->tensorflow-intel==2.11.0->tensorflow) (0.37.0)\n",
      "Requirement already satisfied: cached-property in c:\\users\\julie\\anaconda3\\lib\\site-packages (from h5py>=2.9.0->tensorflow-intel==2.11.0->tensorflow) (1.5.2)\n",
      "Requirement already satisfied: google-auth<3,>=1.6.3 in c:\\users\\julie\\anaconda3\\lib\\site-packages (from tensorboard<2.12,>=2.11->tensorflow-intel==2.11.0->tensorflow) (2.38.0)\n",
      "Requirement already satisfied: markdown>=2.6.8 in c:\\users\\julie\\anaconda3\\lib\\site-packages (from tensorboard<2.12,>=2.11->tensorflow-intel==2.11.0->tensorflow) (3.4.4)\n",
      "Requirement already satisfied: requests<3,>=2.21.0 in c:\\users\\julie\\anaconda3\\lib\\site-packages (from tensorboard<2.12,>=2.11->tensorflow-intel==2.11.0->tensorflow) (2.26.0)\n",
      "Requirement already satisfied: tensorboard-data-server<0.7.0,>=0.6.0 in c:\\users\\julie\\anaconda3\\lib\\site-packages (from tensorboard<2.12,>=2.11->tensorflow-intel==2.11.0->tensorflow) (0.6.1)\n",
      "Requirement already satisfied: google-auth-oauthlib<0.5,>=0.4.1 in c:\\users\\julie\\anaconda3\\lib\\site-packages (from tensorboard<2.12,>=2.11->tensorflow-intel==2.11.0->tensorflow) (0.4.6)\n",
      "Requirement already satisfied: werkzeug>=1.0.1 in c:\\users\\julie\\anaconda3\\lib\\site-packages (from tensorboard<2.12,>=2.11->tensorflow-intel==2.11.0->tensorflow) (2.0.2)\n",
      "Requirement already satisfied: tensorboard-plugin-wit>=1.6.0 in c:\\users\\julie\\anaconda3\\lib\\site-packages (from tensorboard<2.12,>=2.11->tensorflow-intel==2.11.0->tensorflow) (1.8.1)\n",
      "Requirement already satisfied: pyparsing>=2.0.2 in c:\\users\\julie\\anaconda3\\lib\\site-packages (from packaging->tensorflow-intel==2.11.0->tensorflow) (3.0.4)\n",
      "Requirement already satisfied: cachetools<6.0,>=2.0.0 in c:\\users\\julie\\anaconda3\\lib\\site-packages (from google-auth<3,>=1.6.3->tensorboard<2.12,>=2.11->tensorflow-intel==2.11.0->tensorflow) (5.0.0)\n",
      "Requirement already satisfied: pyasn1-modules>=0.2.1 in c:\\users\\julie\\anaconda3\\lib\\site-packages (from google-auth<3,>=1.6.3->tensorboard<2.12,>=2.11->tensorflow-intel==2.11.0->tensorflow) (0.3.0)\n",
      "Requirement already satisfied: rsa<5,>=3.1.4 in c:\\users\\julie\\anaconda3\\lib\\site-packages (from google-auth<3,>=1.6.3->tensorboard<2.12,>=2.11->tensorflow-intel==2.11.0->tensorflow) (4.9)\n",
      "Requirement already satisfied: requests-oauthlib>=0.7.0 in c:\\users\\julie\\anaconda3\\lib\\site-packages (from google-auth-oauthlib<0.5,>=0.4.1->tensorboard<2.12,>=2.11->tensorflow-intel==2.11.0->tensorflow) (2.0.0)\n",
      "Requirement already satisfied: importlib-metadata>=4.4 in c:\\users\\julie\\anaconda3\\lib\\site-packages (from markdown>=2.6.8->tensorboard<2.12,>=2.11->tensorflow-intel==2.11.0->tensorflow) (4.8.1)\n",
      "Requirement already satisfied: certifi>=2017.4.17 in c:\\users\\julie\\anaconda3\\lib\\site-packages (from requests<3,>=2.21.0->tensorboard<2.12,>=2.11->tensorflow-intel==2.11.0->tensorflow) (2022.12.7)\n",
      "Requirement already satisfied: urllib3<1.27,>=1.21.1 in c:\\users\\julie\\anaconda3\\lib\\site-packages (from requests<3,>=2.21.0->tensorboard<2.12,>=2.11->tensorflow-intel==2.11.0->tensorflow) (1.26.7)\n",
      "Requirement already satisfied: charset-normalizer~=2.0.0 in c:\\users\\julie\\anaconda3\\lib\\site-packages (from requests<3,>=2.21.0->tensorboard<2.12,>=2.11->tensorflow-intel==2.11.0->tensorflow) (2.0.4)\n",
      "Requirement already satisfied: idna<4,>=2.5 in c:\\users\\julie\\anaconda3\\lib\\site-packages (from requests<3,>=2.21.0->tensorboard<2.12,>=2.11->tensorflow-intel==2.11.0->tensorflow) (3.2)\n",
      "Requirement already satisfied: zipp>=0.5 in c:\\users\\julie\\anaconda3\\lib\\site-packages (from importlib-metadata>=4.4->markdown>=2.6.8->tensorboard<2.12,>=2.11->tensorflow-intel==2.11.0->tensorflow) (3.6.0)\n",
      "Requirement already satisfied: pyasn1<0.6.0,>=0.4.6 in c:\\users\\julie\\anaconda3\\lib\\site-packages (from pyasn1-modules>=0.2.1->google-auth<3,>=1.6.3->tensorboard<2.12,>=2.11->tensorflow-intel==2.11.0->tensorflow) (0.5.1)\n",
      "Requirement already satisfied: oauthlib>=3.0.0 in c:\\users\\julie\\anaconda3\\lib\\site-packages (from requests-oauthlib>=0.7.0->google-auth-oauthlib<0.5,>=0.4.1->tensorboard<2.12,>=2.11->tensorflow-intel==2.11.0->tensorflow) (3.2.2)\n"
     ]
    },
    {
     "name": "stderr",
     "output_type": "stream",
     "text": [
      "\n",
      "[notice] A new release of pip available: 22.2.2 -> 24.0\n",
      "[notice] To update, run: python.exe -m pip install --upgrade pip\n"
     ]
    }
   ],
   "source": [
    "!pip install tensorflow\n",
    "from tensorflow.keras.datasets import mnist"
   ]
  },
  {
   "cell_type": "code",
   "execution_count": 10,
   "id": "9ef3006a",
   "metadata": {},
   "outputs": [],
   "source": [
    "import tensorflow as tf\n",
    "from tensorflow import keras"
   ]
  },
  {
   "cell_type": "code",
   "execution_count": 11,
   "id": "4668d2b4",
   "metadata": {},
   "outputs": [],
   "source": [
    "(x_train_data, y_train_data), (x_val_data, y_val_data) = mnist.load_data()"
   ]
  },
  {
   "cell_type": "code",
   "execution_count": 12,
   "id": "e2c5906e",
   "metadata": {},
   "outputs": [],
   "source": [
    "def preprocessing_function(x_new, y_new):\n",
    "  x_new = tf.cast(x_new, tf.float32) / 255.0  # Normalize pixel values\n",
    "  y_new = tf.cast(y_new, tf.int64)            # Convert labels to integers\n",
    "  return x_new, y_new\n",
    "\n",
    "def func_creating_dataset(xs_data, ys_data, num_classes=10):\n",
    "  ys_data = tf.one_hot(ys_data, depth=num_classes)  # One-hot encode labels\n",
    "  return tf.data.Dataset.from_tensor_slices((xs_data, ys_data)) \\\n",
    "    .map(preprocessing_function) \\\n",
    "    .shuffle(buffer_size=1000) \\\n",
    "    .batch(32)"
   ]
  },
  {
   "cell_type": "code",
   "execution_count": 13,
   "id": "ff3092e6",
   "metadata": {},
   "outputs": [],
   "source": [
    "My_model = keras.Sequential([\n",
    "    keras.layers.Reshape(target_shape=(28 * 28,), input_shape=(28, 28)),  # Flatten the input\n",
    "    keras.layers.Dense(units=128, activation='relu'),                    # Hidden layer : A layer with 128 neurons and the ReLU activation function.\n",
    "    keras.layers.Dense(units=10, activation='softmax')                   # Output layer :  Outputs 10 probabilities (one for each class).\n",
    "])"
   ]
  },
  {
   "cell_type": "code",
   "execution_count": 14,
   "id": "30db1511",
   "metadata": {},
   "outputs": [],
   "source": [
    "My_model.compile(optimizer='adam', \n",
    "              loss=tf.losses.CategoricalCrossentropy(from_logits=True),\n",
    "              metrics=['accuracy'])"
   ]
  },
  {
   "cell_type": "code",
   "execution_count": 15,
   "id": "11a99d84",
   "metadata": {},
   "outputs": [
    {
     "name": "stdout",
     "output_type": "stream",
     "text": [
      "Epoch 1/10\n"
     ]
    },
    {
     "name": "stderr",
     "output_type": "stream",
     "text": [
      "C:\\Users\\julie\\Anaconda3\\lib\\site-packages\\keras\\backend.py:5535: UserWarning: \"`categorical_crossentropy` received `from_logits=True`, but the `output` argument was produced by a Softmax activation and thus does not represent logits. Was this intended?\n",
      "  output, from_logits, \"Softmax\", \"categorical_crossentropy\"\n"
     ]
    },
    {
     "name": "stdout",
     "output_type": "stream",
     "text": [
      "500/500 [==============================] - 2s 3ms/step - loss: 1.9471 - accuracy: 0.5273 - val_loss: 1.4371 - val_accuracy: 0.6719\n",
      "Epoch 2/10\n",
      "500/500 [==============================] - 1s 3ms/step - loss: 1.1429 - accuracy: 0.7296 - val_loss: 0.9002 - val_accuracy: 0.7656\n",
      "Epoch 3/10\n",
      "500/500 [==============================] - 1s 3ms/step - loss: 0.7916 - accuracy: 0.8110 - val_loss: 0.7588 - val_accuracy: 0.8125\n",
      "Epoch 4/10\n",
      "500/500 [==============================] - 1s 3ms/step - loss: 0.6102 - accuracy: 0.8516 - val_loss: 0.4854 - val_accuracy: 0.8906\n",
      "Epoch 5/10\n",
      "500/500 [==============================] - 1s 3ms/step - loss: 0.5451 - accuracy: 0.8570 - val_loss: 0.4894 - val_accuracy: 0.8594\n",
      "Epoch 6/10\n",
      "500/500 [==============================] - 1s 3ms/step - loss: 0.4905 - accuracy: 0.8691 - val_loss: 0.4065 - val_accuracy: 0.9219\n",
      "Epoch 7/10\n",
      "500/500 [==============================] - 1s 3ms/step - loss: 0.4541 - accuracy: 0.8802 - val_loss: 0.4601 - val_accuracy: 0.8750\n",
      "Epoch 8/10\n",
      "500/500 [==============================] - 1s 3ms/step - loss: 0.3839 - accuracy: 0.8988 - val_loss: 0.4759 - val_accuracy: 0.8438\n",
      "Epoch 9/10\n",
      "500/500 [==============================] - 1s 3ms/step - loss: 0.4045 - accuracy: 0.8888 - val_loss: 0.4273 - val_accuracy: 0.8750\n",
      "Epoch 10/10\n",
      "500/500 [==============================] - 1s 2ms/step - loss: 0.3880 - accuracy: 0.8921 - val_loss: 0.3350 - val_accuracy: 0.9375\n"
     ]
    }
   ],
   "source": [
    "x_train_data, y_train_data = preprocessing_function(x_train_data, y_train_data)\n",
    "x_val_data, y_val_data = preprocessing_function(x_val_data, y_val_data)\n",
    "dataset_training = func_creating_dataset(x_train_data, y_train_data)\n",
    "dataset_val = func_creating_dataset(x_val_data, y_val_data)\n",
    "\n",
    "history = My_model.fit(\n",
    "    dataset_training.repeat(), \n",
    "    epochs=10, \n",
    "    steps_per_epoch=500,\n",
    "    validation_data=dataset_val.repeat(), \n",
    "    validation_steps=2\n",
    ")"
   ]
  },
  {
   "cell_type": "code",
   "execution_count": 16,
   "id": "c979e87b",
   "metadata": {},
   "outputs": [
    {
     "name": "stdout",
     "output_type": "stream",
     "text": [
      "313/313 [==============================] - 1s 2ms/step\n",
      "[[5.8136952e-06 9.6938926e-01 2.0616883e-03 ... 9.5014516e-03\n",
      "  3.0248479e-03 2.0243381e-03]\n",
      " [3.2736664e-06 9.6088803e-01 3.6911683e-03 ... 6.0032762e-04\n",
      "  1.3866595e-02 1.1952589e-03]\n",
      " [9.9546897e-01 9.3575269e-12 1.1794746e-05 ... 2.1288484e-07\n",
      "  8.7448505e-05 1.0136980e-06]\n",
      " ...\n",
      " [3.8975842e-05 4.2683009e-06 3.8094905e-03 ... 5.5972144e-08\n",
      "  2.0015668e-03 7.1399410e-07]\n",
      " [8.3460545e-06 8.7709141e-06 9.9555629e-01 ... 7.8677868e-07\n",
      "  1.6913346e-03 3.5221703e-07]\n",
      " [4.5718216e-06 9.5100534e-01 8.1986319e-03 ... 2.7604226e-04\n",
      "  3.1786725e-02 2.4155373e-04]]\n"
     ]
    }
   ],
   "source": [
    "Make_predictions = My_model.predict(dataset_val)\n",
    "print(Make_predictions)"
   ]
  },
  {
   "cell_type": "code",
   "execution_count": 17,
   "id": "0ef76906",
   "metadata": {},
   "outputs": [
    {
     "name": "stdout",
     "output_type": "stream",
     "text": [
      "313/313 [==============================] - 1s 2ms/step - loss: 0.3565 - accuracy: 0.9018\n",
      "Test Accuracy: 0.90\n"
     ]
    }
   ],
   "source": [
    "test_loss, test_accuracy = My_model.evaluate(dataset_val)\n",
    "print(f\"Test Accuracy: {test_accuracy:.2f}\")"
   ]
  },
  {
   "cell_type": "code",
   "execution_count": 18,
   "id": "06e7d0fc",
   "metadata": {},
   "outputs": [
    {
     "data": {
      "image/png": "[encoded data removed]",
      "text/plain": [
       "<Figure size 1500x1000 with 7 Axes>"
      ]
     },
     "metadata": {},
     "output_type": "display_data"
    }
   ],
   "source": [
    "import matplotlib.pyplot as plt\n",
    "import numpy as np\n",
    "def plot_predictions(images, labels, predictions, num_images=7):\n",
    "    plt.figure(figsize=(15, 10))\n",
    "    for i in range(num_images):\n",
    "        plt.subplot(1, num_images, i + 1)\n",
    "        plt.imshow(images[i], cmap=plt.cm.binary)\n",
    "        plt.title(f\"True: {labels[i]}, Pred: {np.argmax(predictions[i])}\")\n",
    "        plt.axis('off')\n",
    "    plt.show()\n",
    "\n",
    "plot_predictions(x_val_data, y_val_data, Make_predictions, num_images=7)"
   ]
  },
  {
   "cell_type": "markdown",
   "id": "91ccf903",
   "metadata": {},
   "source": [
    "# Exercise 4 : Forward Propagation Calculation\n",
    "\n",
    "In this exercise, you will manually compute the forward propagation of a simple neural network that predicts house prices based on:\n",
    "\n",
    "   - Square Footage (x₁)\n",
    "   - Number of Bedrooms (x₂)\n",
    "\n",
    "We will calculate the output using the following given values:\n",
    "\n",
    "Input Values:\\\n",
    "    x₁ = 2000 (Square Footage)\\\n",
    "    x₂ = 3 (Number of Bedrooms)\\\n",
    "Initial Weights:\\\n",
    "    w₁ = 0.5 (Weight for Square Footage)\\\n",
    "    w₂ = 0.7 (Weight for Bedrooms)\\\n",
    "Bias: b = 50,000\\\n",
    "Activation Function: ReLU (Rectified Linear Unit)\n",
    "\n",
    "   1. Calculate the output value “z” before activation.\n",
    "   2. Apply the ReLU function to compute the final prediction.\n",
    "   3. Interpret the result: What is the predicted house price?\n",
    "----------------"
   ]
  },
  {
   "cell_type": "code",
   "execution_count": 19,
   "id": "3a875d1d",
   "metadata": {},
   "outputs": [],
   "source": [
    "x1 = 2000\n",
    "x2 = 3\n",
    "w1 = 0.5\n",
    "w2 = 0.7\n",
    "b = 50000"
   ]
  },
  {
   "cell_type": "code",
   "execution_count": 20,
   "id": "c2f8b6a5",
   "metadata": {},
   "outputs": [
    {
     "name": "stdout",
     "output_type": "stream",
     "text": [
      "51002.1\n"
     ]
    }
   ],
   "source": [
    "z = x1*w1 + x2*w2 + b\n",
    "print(z)"
   ]
  },
  {
   "cell_type": "code",
   "execution_count": 21,
   "id": "e0b7bf03",
   "metadata": {},
   "outputs": [
    {
     "data": {
      "text/plain": [
       "51002.1"
      ]
     },
     "execution_count": 21,
     "metadata": {},
     "output_type": "execute_result"
    }
   ],
   "source": [
    "max(0,z)"
   ]
  },
  {
   "cell_type": "markdown",
   "id": "bb02c251",
   "metadata": {},
   "source": [
    "The predicted house price is $51002.1"
   ]
  },
  {
   "cell_type": "markdown",
   "id": "f42b7704",
   "metadata": {},
   "source": [
    "### Exercise 5 : Implementing Forward and Backward Propagation in Python\n",
    "\n",
    "You will code a simple neural network that performs forward propagation and backpropagation for a regression problem (predicting exam scores based on study hours).\n",
    "\n",
    "\n",
    "   1. Run the code and observe how the weights and bias update.\n",
    "   2. Explain why updating weights using gradient descent reduces the error.\n",
    "   3. Modify the initial weights or learning rate and see how it affects learning.\n",
    "\n",
    "_________________"
   ]
  },
  {
   "cell_type": "code",
   "execution_count": 22,
   "id": "7784b749",
   "metadata": {},
   "outputs": [
    {
     "name": "stdout",
     "output_type": "stream",
     "text": [
      "Initial Prediction: 36.4\n",
      "Loss: 1180.98\n",
      "Updated Weights: [ 2.544 39.18 ]\n",
      "Updated Bias: 10.486\n"
     ]
    }
   ],
   "source": [
    "import numpy as np\n",
    "\n",
    "# Initialize input data (features)\n",
    "x = np.array([4, 80])  # 4 hours studied, previous test score: 80\n",
    "\n",
    "# Initialize weights and bias\n",
    "w = np.array([0.6, 0.3])  # Initial weights\n",
    "b = 10  # Initial bias\n",
    "\n",
    "# Forward Propagation\n",
    "def forward_propagation(x, w, b):\n",
    "    z = np.dot(x, w) + b  # Weighted sum\n",
    "    return z  # Linear activation (No ReLU here, it's a regression task)\n",
    "\n",
    "# Compute prediction\n",
    "y_pred = forward_propagation(x, w, b)\n",
    "y_true = 85  # Actual exam score\n",
    "\n",
    "# Compute Loss (Mean Squared Error)\n",
    "loss = 0.5 * (y_true - y_pred) ** 2\n",
    "\n",
    "# Compute Gradients\n",
    "grad_w = -(y_true - y_pred) * x  # Partial derivatives with respect to weights\n",
    "grad_b = -(y_true - y_pred)  # Partial derivative with respect to bias\n",
    "\n",
    "# Update Weights and Bias\n",
    "learning_rate = 0.01\n",
    "w_new = w - learning_rate * grad_w\n",
    "b_new = b - learning_rate * grad_b\n",
    "\n",
    "# Print Results\n",
    "print(\"Initial Prediction:\", y_pred)\n",
    "print(\"Loss:\", loss)\n",
    "print(\"Updated Weights:\", w_new)\n",
    "print(\"Updated Bias:\", b_new)\n"
   ]
  },
  {
   "cell_type": "markdown",
   "id": "72e9386d",
   "metadata": {},
   "source": [
    "The weights were originally w1 = 0.6 and w2 = 0.3 and they changed to w1 = 2.544 and 39.18. The bias changed from 10 to 10.486.\n",
    "\n",
    "Gradient descent is an optimization algorithm that adjusts the model's parameters (weights and bias) to minimize the loss function. By subtracting the gradients (scaled by the learning rate), it moves towards the minimum of the loss, reducing error with each iteration and gradually converging to the optimal parameters.\n",
    "\n",
    "Now I will change the weights:"
   ]
  },
  {
   "cell_type": "code",
   "execution_count": 23,
   "id": "c68cd4b0",
   "metadata": {},
   "outputs": [
    {
     "name": "stdout",
     "output_type": "stream",
     "text": [
      "Initial Prediction: 2420.0\n",
      "Loss: 2726112.5\n",
      "Updated Weights: [  -90.9 -1838. ]\n",
      "Updated Bias: -13.350000000000001\n"
     ]
    }
   ],
   "source": [
    "# Initialize input data (features)\n",
    "x = np.array([4, 80])  # 4 hours studied, previous test score: 80\n",
    "\n",
    "# Initialize weights and bias\n",
    "w = np.array([2.5, 30])  # Initial weights\n",
    "b = 10  # Initial bias\n",
    "\n",
    "# Forward Propagation\n",
    "def forward_propagation(x, w, b):\n",
    "    z = np.dot(x, w) + b  # Weighted sum\n",
    "    return z  # Linear activation (No ReLU here, it's a regression task)\n",
    "\n",
    "# Compute prediction\n",
    "y_pred = forward_propagation(x, w, b)\n",
    "y_true = 85  # Actual exam score\n",
    "\n",
    "# Compute Loss (Mean Squared Error)\n",
    "loss = 0.5 * (y_true - y_pred) ** 2\n",
    "\n",
    "# Compute Gradients\n",
    "grad_w = -(y_true - y_pred) * x  # Partial derivatives with respect to weights\n",
    "grad_b = -(y_true - y_pred)  # Partial derivative with respect to bias\n",
    "\n",
    "# Update Weights and Bias\n",
    "learning_rate = 0.01\n",
    "w_new = w - learning_rate * grad_w\n",
    "b_new = b - learning_rate * grad_b\n",
    "\n",
    "# Print Results\n",
    "print(\"Initial Prediction:\", y_pred)\n",
    "print(\"Loss:\", loss)\n",
    "print(\"Updated Weights:\", w_new)\n",
    "print(\"Updated Bias:\", b_new)"
   ]
  },
  {
   "cell_type": "markdown",
   "id": "efb55802",
   "metadata": {},
   "source": [
    "Now the Weights changed to w1 = -90.9 and w2 = -1838 and the bias to -13.35!"
   ]
  }
 ],
 "metadata": {
  "kernelspec": {
   "display_name": "Python 3",
   "language": "python",
   "name": "python3"
  },
  "language_info": {
   "codemirror_mode": {
    "name": "ipython",
    "version": 3
   },
   "file_extension": ".py",
   "mimetype": "text/x-python",
   "name": "python",
   "nbconvert_exporter": "python",
   "pygments_lexer": "ipython3",
   "version": "3.7.11"
  }
 },
 "nbformat": 4,
 "nbformat_minor": 5
}
