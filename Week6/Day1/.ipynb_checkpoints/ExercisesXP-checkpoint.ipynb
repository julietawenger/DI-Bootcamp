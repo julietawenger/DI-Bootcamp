{
 "cells": [
  {
   "cell_type": "markdown",
   "id": "54457314",
   "metadata": {},
   "source": [
    "# Exercises XP"
   ]
  },
  {
   "cell_type": "markdown",
   "id": "a226ace5",
   "metadata": {},
   "source": [
    " ### Exercise 1 : Small Quizz\n",
    "\n",
    "1. What is the key difference between traditional machine learning and deep learning?\n",
    "2. How do artificial neural networks (ANNs) mimic the human brain?\n",
    "3. Why does deep learning perform better on large datasets compared to traditional machine learning?\n",
    "4. What are some challenges of deep learning, and how can they be addressed?\n",
    "5. What is feature engineering, and why is it not needed in deep learning?\n",
    "6. What role do hidden layers play in a deep learning model?\n",
    "7. In an artificial neural network (ANN), what is the function of an activation function?\n",
    "____________"
   ]
  },
  {
   "cell_type": "markdown",
   "id": "e40b00c4",
   "metadata": {},
   "source": [
    "1. Machine learning is more explicitly used as a means to extract knowledge from data through simpler methods such as decision trees or linear regression, while deep learning uses the more advanced methods found in artificial neural networks.\n",
    "\n",
    "2. The ANNs mimic the human brain by using artificial neurons (nodes) connected by weighted links, used to predict an outcome.\n",
    "\n",
    "3. Deep learning performs better on large datasets because it can automatically learn complex, hierarchical features from the data, whereas traditional machine learning often requires manual feature engineering and struggles with high-dimensional data.\n",
    "\n",
    "4. Some challenges of deep learning are its high computational cost, high data requirement and lack of interpretability. To address these issues one can:  \n",
    "  - Use cloud AI services instead of buying GPUs and optimize models using pruning, quantization, and knowledge distillation.\n",
    "  - Use data augmentation, transfer learning, or unsupervised learning and use pre-trained models or synthetic data generation.\n",
    "  - Use Explainable AI tools and implement attention mechanisms or hybrid models combining deep learning with interpretable techniques,\n",
    "  \n",
    "respectively.\n",
    "\n",
    "5. Feature engineering is the process of manually selecting, transforming, or creating input features from raw data to improve the performance of traditional machine learning models. It is not needed in deep learning because deep neural networks can automatically learn relevant features directly from the raw data through multiple layers of abstraction.\n",
    "\n",
    "6. Hidden layers in a deep learning model transform the input data into progressively more abstract features, allowing the model to learn complex patterns and relationships at different levels of abstraction.\n",
    "\n",
    "7. The activaction function is used to determine whether a neuron should be “activated” (answer: yes) or not (answer: no) based on the weighted sum of inputs. It can also return a number between 0 to 1 indicating a range closer to \"yes\" or \"no\" instead of a binary answer."
   ]
  },
  {
   "cell_type": "markdown",
   "id": "168f3696",
   "metadata": {},
   "source": [
    "### Exercise 2 : Building a Simple Perceptron Decision System\n",
    "\n",
    "You will manually create a simple perceptron-based decision system to determine whether you should go outside based on two inputs:\n",
    "\n",
    "    Temperature (°F)\n",
    "    Rainy (Yes = 1, No = 0)\n",
    "\n",
    "You will assign weights, compute the weighted sum, apply an activation function, and determine the final decision.\n",
    "\n",
    "    Temperature weight = 0.6\n",
    "    Rain weight = 0.4\n",
    "    Bias = 2\n",
    "\n",
    "Compute the weighted sum using the formula:\n",
    "\n",
    "    Weighted Sum=(Temperature×0.6)+(Rain×0.4)+Bias\n",
    "\n",
    "Apply a Step Activation Function:\n",
    "\n",
    "    If Weighted Sum > 20, output 1 (Yes, go outside)\n",
    "    If Weighted Sum ≤ 20, output 0 (No, stay inside)\n",
    "\n",
    "1. Calculate the output for the following conditions:\n",
    "\n",
    "    Case 1: Temperature = 70°F, Rain = 0 (No)\n",
    "    \n",
    "    Case 2: Temperature = 50°F, Rain = 1 (Yes)\n",
    "    \n",
    "\n",
    "2. Interpret the results: Did the perceptron suggest going outside in both cases? Why or why not?\n",
    "_____________"
   ]
  },
  {
   "cell_type": "markdown",
   "id": "ff68ac7d",
   "metadata": {},
   "source": [
    "Case 1:"
   ]
  },
  {
   "cell_type": "code",
   "execution_count": 1,
   "id": "567ad215",
   "metadata": {},
   "outputs": [],
   "source": [
    "temp = 70\n",
    "rain = 0 "
   ]
  },
  {
   "cell_type": "code",
   "execution_count": 2,
   "id": "9fe48cfb",
   "metadata": {},
   "outputs": [],
   "source": [
    "w1 = 0.6\n",
    "w2 = 0.4\n",
    "b = 2"
   ]
  },
  {
   "cell_type": "code",
   "execution_count": 3,
   "id": "8bddd980",
   "metadata": {},
   "outputs": [],
   "source": [
    "weighted_sum = temp*w1 + rain*w2 + b"
   ]
  },
  {
   "cell_type": "code",
   "execution_count": 6,
   "id": "a79ecd31",
   "metadata": {},
   "outputs": [
    {
     "name": "stdout",
     "output_type": "stream",
     "text": [
      "Weighted sum: 44.0\n",
      "Yes, go outside\n"
     ]
    }
   ],
   "source": [
    "print(f\"Weighted sum: {weighted_sum}\")\n",
    "if weighted_sum > 20:\n",
    "    output = 1\n",
    "    print(\"Yes, go outside\")\n",
    "else:\n",
    "    output = 0\n",
    "    pring(\"No, stay inside\") "
   ]
  },
  {
   "cell_type": "markdown",
   "id": "30f3a75f",
   "metadata": {},
   "source": [
    "Case 2:"
   ]
  },
  {
   "cell_type": "code",
   "execution_count": 8,
   "id": "5b9e3e46",
   "metadata": {},
   "outputs": [],
   "source": [
    "temp = 50\n",
    "rain = 1"
   ]
  },
  {
   "cell_type": "code",
   "execution_count": 9,
   "id": "657489f4",
   "metadata": {},
   "outputs": [],
   "source": [
    "w1 = 0.6\n",
    "w2 = 0.4\n",
    "b = 2"
   ]
  },
  {
   "cell_type": "code",
   "execution_count": 10,
   "id": "e3fef957",
   "metadata": {},
   "outputs": [],
   "source": [
    "weighted_sum = temp*w1 + rain*w2 + b"
   ]
  },
  {
   "cell_type": "code",
   "execution_count": 11,
   "id": "300b9165",
   "metadata": {},
   "outputs": [
    {
     "name": "stdout",
     "output_type": "stream",
     "text": [
      "Weighted sum: 32.4\n",
      "Yes, go outside\n"
     ]
    }
   ],
   "source": [
    "print(f\"Weighted sum: {weighted_sum}\")\n",
    "if weighted_sum > 20:\n",
    "    output = 1\n",
    "    print(\"Yes, go outside\")\n",
    "else:\n",
    "    output = 0\n",
    "    pring(\"No, stay inside\") "
   ]
  },
  {
   "cell_type": "markdown",
   "id": "cd175400",
   "metadata": {},
   "source": [
    "The perceptron suggested going outside in both cases because of the threshold and weight chosen for each feature."
   ]
  },
  {
   "cell_type": "markdown",
   "id": "5f411cd5",
   "metadata": {},
   "source": [
    "### Exercise 3 : Building a Simple Neural Network with TensorFlow/Keras\n",
    "\n",
    "Build a simple neural network using TensorFlow/Keras to classify handwritten digits from the MNIST dataset. The network should have:\n",
    "\n",
    "   - One input layer.\n",
    "   - One hidden layer with 128 neurons and ReLU activation.\n",
    "   - One output layer with 10 neurons (for 10 classes) and softmax activation.\n",
    "\n",
    "### Exercise 6 : Visualizing Predictions on the MNIST Dataset\n",
    "\n",
    "Train a simple neural network using TensorFlow/Keras on the MNIST dataset. After training, visualize some of the predictions made by the model.\n",
    "Dataset: The MNIST dataset is included in TensorFlow/Keras.\n",
    "\n",
    "Here are the steps for this exercise :\n",
    "\n",
    "   - Load the MNIST dataset\n",
    "   - Normalize the data\n",
    "   - One-hot encode the labels\n",
    "   - Build the model\n",
    "   - Compile the model\n",
    "   - Train the model\n",
    "   - Make predictions\n",
    "   - Visualize some predictions\n",
    "\n",
    "\n",
    "___________________\n"
   ]
  },
  {
   "cell_type": "code",
   "execution_count": 13,
   "id": "5b57e7fb",
   "metadata": {},
   "outputs": [
    {
     "name": "stderr",
     "output_type": "stream",
     "text": [
      "\n",
      "[notice] A new release of pip available: 22.2.2 -> 24.0\n",
      "[notice] To update, run: python.exe -m pip install --upgrade pip\n"
     ]
    },
    {
     "name": "stdout",
     "output_type": "stream",
     "text": [
      "Collecting tensorflow\n",
      "  Downloading tensorflow-2.11.0-cp37-cp37m-win_amd64.whl (1.9 kB)\n",
      "Collecting tensorflow-intel==2.11.0\n",
      "  Downloading tensorflow_intel-2.11.0-cp37-cp37m-win_amd64.whl (266.3 MB)\n",
      "     -------------------------------------- 266.3/266.3 MB 1.3 MB/s eta 0:00:00\n",
      "Collecting astunparse>=1.6.0\n",
      "  Downloading astunparse-1.6.3-py2.py3-none-any.whl (12 kB)\n",
      "Requirement already satisfied: h5py>=2.9.0 in c:\\users\\julie\\anaconda3\\lib\\site-packages (from tensorflow-intel==2.11.0->tensorflow) (3.2.1)\n",
      "Requirement already satisfied: numpy>=1.20 in c:\\users\\julie\\anaconda3\\lib\\site-packages (from tensorflow-intel==2.11.0->tensorflow) (1.21.2)\n",
      "Collecting tensorflow-io-gcs-filesystem>=0.23.1\n",
      "  Downloading tensorflow_io_gcs_filesystem-0.31.0-cp37-cp37m-win_amd64.whl (1.5 MB)\n",
      "     ---------------------------------------- 1.5/1.5 MB 13.5 MB/s eta 0:00:00\n",
      "Collecting tensorflow-estimator<2.12,>=2.11.0\n",
      "  Downloading tensorflow_estimator-2.11.0-py2.py3-none-any.whl (439 kB)\n",
      "     ------------------------------------- 439.2/439.2 kB 13.8 MB/s eta 0:00:00\n",
      "Requirement already satisfied: packaging in c:\\users\\julie\\anaconda3\\lib\\site-packages (from tensorflow-intel==2.11.0->tensorflow) (21.0)\n",
      "Collecting keras<2.12,>=2.11.0\n",
      "  Downloading keras-2.11.0-py2.py3-none-any.whl (1.7 MB)\n",
      "     ---------------------------------------- 1.7/1.7 MB 13.4 MB/s eta 0:00:00\n",
      "Requirement already satisfied: wrapt>=1.11.0 in c:\\users\\julie\\anaconda3\\lib\\site-packages (from tensorflow-intel==2.11.0->tensorflow) (1.12.1)\n",
      "Collecting opt-einsum>=2.3.2\n",
      "  Downloading opt_einsum-3.3.0-py3-none-any.whl (65 kB)\n",
      "     ---------------------------------------- 65.5/65.5 kB 3.7 MB/s eta 0:00:00\n",
      "Collecting flatbuffers>=2.0\n",
      "  Downloading flatbuffers-25.2.10-py2.py3-none-any.whl (30 kB)\n",
      "Requirement already satisfied: setuptools in c:\\users\\julie\\anaconda3\\lib\\site-packages (from tensorflow-intel==2.11.0->tensorflow) (58.0.4)\n",
      "Collecting google-pasta>=0.1.1\n",
      "  Downloading google_pasta-0.2.0-py3-none-any.whl (57 kB)\n",
      "     ---------------------------------------- 57.5/57.5 kB ? eta 0:00:00\n",
      "Collecting gast<=0.4.0,>=0.2.1\n",
      "  Downloading gast-0.4.0-py3-none-any.whl (9.8 kB)\n",
      "Collecting grpcio<2.0,>=1.24.3\n",
      "  Downloading grpcio-1.62.3-cp37-cp37m-win_amd64.whl (4.5 MB)\n",
      "     ---------------------------------------- 4.5/4.5 MB 15.0 MB/s eta 0:00:00\n",
      "Collecting tensorboard<2.12,>=2.11\n",
      "  Downloading tensorboard-2.11.2-py3-none-any.whl (6.0 MB)\n",
      "     ---------------------------------------- 6.0/6.0 MB 14.2 MB/s eta 0:00:00\n",
      "Collecting termcolor>=1.1.0\n",
      "  Downloading termcolor-2.3.0-py3-none-any.whl (6.9 kB)\n",
      "Requirement already satisfied: typing-extensions>=3.6.6 in c:\\users\\julie\\anaconda3\\lib\\site-packages (from tensorflow-intel==2.11.0->tensorflow) (3.10.0.2)\n",
      "Collecting absl-py>=1.0.0\n",
      "  Downloading absl_py-2.1.0-py3-none-any.whl (133 kB)\n",
      "     -------------------------------------- 133.7/133.7 kB 4.0 MB/s eta 0:00:00\n",
      "Requirement already satisfied: six>=1.12.0 in c:\\users\\julie\\anaconda3\\lib\\site-packages (from tensorflow-intel==2.11.0->tensorflow) (1.16.0)\n",
      "Collecting libclang>=13.0.0\n",
      "  Downloading libclang-18.1.1-py2.py3-none-win_amd64.whl (26.4 MB)\n",
      "     ---------------------------------------- 26.4/26.4 MB 9.2 MB/s eta 0:00:00\n",
      "Collecting protobuf<3.20,>=3.9.2\n",
      "  Downloading protobuf-3.19.6-cp37-cp37m-win_amd64.whl (896 kB)\n",
      "     ------------------------------------- 896.6/896.6 kB 11.4 MB/s eta 0:00:00\n",
      "Requirement already satisfied: wheel<1.0,>=0.23.0 in c:\\users\\julie\\anaconda3\\lib\\site-packages (from astunparse>=1.6.0->tensorflow-intel==2.11.0->tensorflow) (0.37.0)\n",
      "Requirement already satisfied: cached-property in c:\\users\\julie\\anaconda3\\lib\\site-packages (from h5py>=2.9.0->tensorflow-intel==2.11.0->tensorflow) (1.5.2)\n",
      "Collecting google-auth-oauthlib<0.5,>=0.4.1\n",
      "  Downloading google_auth_oauthlib-0.4.6-py2.py3-none-any.whl (18 kB)\n",
      "Collecting markdown>=2.6.8\n",
      "  Downloading Markdown-3.4.4-py3-none-any.whl (94 kB)\n",
      "     ---------------------------------------- 94.2/94.2 kB 5.6 MB/s eta 0:00:00\n",
      "Collecting google-auth<3,>=1.6.3\n",
      "  Downloading google_auth-2.38.0-py2.py3-none-any.whl (210 kB)\n",
      "     -------------------------------------- 210.8/210.8 kB 6.3 MB/s eta 0:00:00\n",
      "Collecting tensorboard-data-server<0.7.0,>=0.6.0\n",
      "  Downloading tensorboard_data_server-0.6.1-py3-none-any.whl (2.4 kB)\n",
      "Collecting tensorboard-plugin-wit>=1.6.0\n",
      "  Downloading tensorboard_plugin_wit-1.8.1-py3-none-any.whl (781 kB)\n",
      "     ------------------------------------- 781.3/781.3 kB 16.4 MB/s eta 0:00:00\n",
      "Requirement already satisfied: requests<3,>=2.21.0 in c:\\users\\julie\\anaconda3\\lib\\site-packages (from tensorboard<2.12,>=2.11->tensorflow-intel==2.11.0->tensorflow) (2.26.0)\n",
      "Requirement already satisfied: werkzeug>=1.0.1 in c:\\users\\julie\\anaconda3\\lib\\site-packages (from tensorboard<2.12,>=2.11->tensorflow-intel==2.11.0->tensorflow) (2.0.2)\n",
      "Requirement already satisfied: pyparsing>=2.0.2 in c:\\users\\julie\\anaconda3\\lib\\site-packages (from packaging->tensorflow-intel==2.11.0->tensorflow) (3.0.4)\n",
      "Collecting pyasn1-modules>=0.2.1\n",
      "  Downloading pyasn1_modules-0.3.0-py2.py3-none-any.whl (181 kB)\n",
      "     -------------------------------------- 181.3/181.3 kB 5.3 MB/s eta 0:00:00\n",
      "Requirement already satisfied: cachetools<6.0,>=2.0.0 in c:\\users\\julie\\anaconda3\\lib\\site-packages (from google-auth<3,>=1.6.3->tensorboard<2.12,>=2.11->tensorflow-intel==2.11.0->tensorflow) (5.0.0)\n",
      "Collecting rsa<5,>=3.1.4\n",
      "  Downloading rsa-4.9-py3-none-any.whl (34 kB)\n",
      "Collecting requests-oauthlib>=0.7.0\n",
      "  Downloading requests_oauthlib-2.0.0-py2.py3-none-any.whl (24 kB)\n",
      "Requirement already satisfied: importlib-metadata>=4.4 in c:\\users\\julie\\anaconda3\\lib\\site-packages (from markdown>=2.6.8->tensorboard<2.12,>=2.11->tensorflow-intel==2.11.0->tensorflow) (4.8.1)\n",
      "Requirement already satisfied: certifi>=2017.4.17 in c:\\users\\julie\\anaconda3\\lib\\site-packages (from requests<3,>=2.21.0->tensorboard<2.12,>=2.11->tensorflow-intel==2.11.0->tensorflow) (2022.12.7)\n",
      "Requirement already satisfied: idna<4,>=2.5 in c:\\users\\julie\\anaconda3\\lib\\site-packages (from requests<3,>=2.21.0->tensorboard<2.12,>=2.11->tensorflow-intel==2.11.0->tensorflow) (3.2)\n",
      "Requirement already satisfied: urllib3<1.27,>=1.21.1 in c:\\users\\julie\\anaconda3\\lib\\site-packages (from requests<3,>=2.21.0->tensorboard<2.12,>=2.11->tensorflow-intel==2.11.0->tensorflow) (1.26.7)\n",
      "Requirement already satisfied: charset-normalizer~=2.0.0 in c:\\users\\julie\\anaconda3\\lib\\site-packages (from requests<3,>=2.21.0->tensorboard<2.12,>=2.11->tensorflow-intel==2.11.0->tensorflow) (2.0.4)\n",
      "Requirement already satisfied: zipp>=0.5 in c:\\users\\julie\\anaconda3\\lib\\site-packages (from importlib-metadata>=4.4->markdown>=2.6.8->tensorboard<2.12,>=2.11->tensorflow-intel==2.11.0->tensorflow) (3.6.0)\n",
      "Collecting pyasn1<0.6.0,>=0.4.6\n",
      "  Downloading pyasn1-0.5.1-py2.py3-none-any.whl (84 kB)\n",
      "     ---------------------------------------- 84.9/84.9 kB 4.7 MB/s eta 0:00:00\n",
      "Collecting oauthlib>=3.0.0\n",
      "  Downloading oauthlib-3.2.2-py3-none-any.whl (151 kB)\n",
      "     -------------------------------------- 151.7/151.7 kB 8.8 MB/s eta 0:00:00\n",
      "Installing collected packages: tensorboard-plugin-wit, libclang, flatbuffers, termcolor, tensorflow-io-gcs-filesystem, tensorflow-estimator, tensorboard-data-server, pyasn1, protobuf, opt-einsum, oauthlib, keras, grpcio, google-pasta, gast, astunparse, absl-py, rsa, requests-oauthlib, pyasn1-modules, markdown, google-auth, google-auth-oauthlib, tensorboard, tensorflow-intel, tensorflow\n",
      "Successfully installed absl-py-2.1.0 astunparse-1.6.3 flatbuffers-25.2.10 gast-0.4.0 google-auth-2.38.0 google-auth-oauthlib-0.4.6 google-pasta-0.2.0 grpcio-1.62.3 keras-2.11.0 libclang-18.1.1 markdown-3.4.4 oauthlib-3.2.2 opt-einsum-3.3.0 protobuf-3.19.6 pyasn1-0.5.1 pyasn1-modules-0.3.0 requests-oauthlib-2.0.0 rsa-4.9 tensorboard-2.11.2 tensorboard-data-server-0.6.1 tensorboard-plugin-wit-1.8.1 tensorflow-2.11.0 tensorflow-estimator-2.11.0 tensorflow-intel-2.11.0 tensorflow-io-gcs-filesystem-0.31.0 termcolor-2.3.0\n"
     ]
    }
   ],
   "source": [
    "!pip install tensorflow\n",
    "from tensorflow.keras.datasets import mnist"
   ]
  },
  {
   "cell_type": "code",
   "execution_count": 14,
   "id": "e2d50c94",
   "metadata": {},
   "outputs": [],
   "source": [
    "import tensorflow as tf\n",
    "from tensorflow import keras"
   ]
  },
  {
   "cell_type": "code",
   "execution_count": 15,
   "id": "d868806c",
   "metadata": {},
   "outputs": [
    {
     "name": "stdout",
     "output_type": "stream",
     "text": [
      "Downloading data from https://storage.googleapis.com/tensorflow/tf-keras-datasets/mnist.npz\n",
      "11490434/11490434 [==============================] - 1s 0us/step\n"
     ]
    }
   ],
   "source": [
    "(x_train_data, y_train_data), (x_val_data, y_val_data) = mnist.load_data()"
   ]
  },
  {
   "cell_type": "code",
   "execution_count": 16,
   "id": "c90b6603",
   "metadata": {},
   "outputs": [],
   "source": [
    "def preprocessing_function(x_new, y_new):\n",
    "  x_new = tf.cast(x_new, tf.float32) / 255.0  # Normalize pixel values\n",
    "  y_new = tf.cast(y_new, tf.int64)            # Convert labels to integers\n",
    "  return x_new, y_new\n",
    "\n",
    "def func_creating_dataset(xs_data, ys_data, num_classes=10):\n",
    "  ys_data = tf.one_hot(ys_data, depth=num_classes)  # One-hot encode labels\n",
    "  return tf.data.Dataset.from_tensor_slices((xs_data, ys_data)) \\\n",
    "    .map(preprocessing_function) \\\n",
    "    .shuffle(buffer_size=1000) \\\n",
    "    .batch(32)"
   ]
  },
  {
   "cell_type": "code",
   "execution_count": 17,
   "id": "edd965f6",
   "metadata": {},
   "outputs": [],
   "source": [
    "My_model = keras.Sequential([\n",
    "    keras.layers.Reshape(target_shape=(28 * 28,), input_shape=(28, 28)),  # Flatten the input\n",
    "    keras.layers.Dense(units=128, activation='relu'),                    # Hidden layer : A layer with 128 neurons and the ReLU activation function.\n",
    "    keras.layers.Dense(units=10, activation='softmax')                   # Output layer :  Outputs 10 probabilities (one for each class).\n",
    "])"
   ]
  },
  {
   "cell_type": "code",
   "execution_count": 18,
   "id": "89e4c643",
   "metadata": {},
   "outputs": [],
   "source": [
    "My_model.compile(optimizer='adam', \n",
    "              loss=tf.losses.CategoricalCrossentropy(from_logits=True),\n",
    "              metrics=['accuracy'])"
   ]
  },
  {
   "cell_type": "code",
   "execution_count": 22,
   "id": "50da41db",
   "metadata": {},
   "outputs": [
    {
     "name": "stdout",
     "output_type": "stream",
     "text": [
      "Epoch 1/10\n"
     ]
    },
    {
     "name": "stderr",
     "output_type": "stream",
     "text": [
      "C:\\Users\\julie\\Anaconda3\\lib\\site-packages\\keras\\backend.py:5535: UserWarning: \"`categorical_crossentropy` received `from_logits=True`, but the `output` argument was produced by a Softmax activation and thus does not represent logits. Was this intended?\n",
      "  output, from_logits, \"Softmax\", \"categorical_crossentropy\"\n"
     ]
    },
    {
     "name": "stdout",
     "output_type": "stream",
     "text": [
      "500/500 [==============================] - 3s 4ms/step - loss: 0.4353 - accuracy: 0.8783 - val_loss: 0.2859 - val_accuracy: 0.9219\n",
      "Epoch 2/10\n",
      "500/500 [==============================] - 1s 3ms/step - loss: 0.2272 - accuracy: 0.9339 - val_loss: 0.1771 - val_accuracy: 0.9375\n",
      "Epoch 3/10\n",
      "500/500 [==============================] - 1s 3ms/step - loss: 0.1859 - accuracy: 0.9466 - val_loss: 0.1755 - val_accuracy: 0.9531\n",
      "Epoch 4/10\n",
      "500/500 [==============================] - 1s 3ms/step - loss: 0.1454 - accuracy: 0.9589 - val_loss: 0.0809 - val_accuracy: 0.9844\n",
      "Epoch 5/10\n",
      "500/500 [==============================] - 1s 3ms/step - loss: 0.1255 - accuracy: 0.9628 - val_loss: 0.1578 - val_accuracy: 0.9688\n",
      "Epoch 6/10\n",
      "500/500 [==============================] - 1s 3ms/step - loss: 0.1135 - accuracy: 0.9671 - val_loss: 0.1399 - val_accuracy: 0.9688\n",
      "Epoch 7/10\n",
      "500/500 [==============================] - 1s 3ms/step - loss: 0.1116 - accuracy: 0.9672 - val_loss: 0.0525 - val_accuracy: 0.9844\n",
      "Epoch 8/10\n",
      "500/500 [==============================] - 1s 3ms/step - loss: 0.0855 - accuracy: 0.9741 - val_loss: 0.0959 - val_accuracy: 0.9688\n",
      "Epoch 9/10\n",
      "500/500 [==============================] - 1s 3ms/step - loss: 0.0800 - accuracy: 0.9760 - val_loss: 0.1343 - val_accuracy: 0.9531\n",
      "Epoch 10/10\n",
      "500/500 [==============================] - 1s 3ms/step - loss: 0.0784 - accuracy: 0.9771 - val_loss: 0.0216 - val_accuracy: 1.0000\n"
     ]
    }
   ],
   "source": [
    "dataset_training = func_creating_dataset(x_train_data, y_train_data)\n",
    "dataset_val = func_creating_dataset(x_val_data, y_val_data)\n",
    "\n",
    "history = My_model.fit(\n",
    "    dataset_training.repeat(), \n",
    "    epochs=10, \n",
    "    steps_per_epoch=500,\n",
    "    validation_data=dataset_val.repeat(), \n",
    "    validation_steps=2\n",
    ")"
   ]
  },
  {
   "cell_type": "code",
   "execution_count": 23,
   "id": "ae152f8a",
   "metadata": {},
   "outputs": [
    {
     "name": "stdout",
     "output_type": "stream",
     "text": [
      "313/313 [==============================] - 1s 2ms/step\n",
      "[[9.9965227e-01 2.1192756e-09 2.1280127e-07 ... 1.2895270e-04\n",
      "  2.2940351e-07 3.0930810e-06]\n",
      " [9.3078183e-05 3.0421524e-04 9.1428561e-03 ... 9.8754442e-01\n",
      "  1.3305112e-05 5.4328667e-04]\n",
      " [9.9935073e-01 4.2130200e-08 3.3426888e-06 ... 6.0058100e-04\n",
      "  1.5403269e-07 1.8115354e-05]\n",
      " ...\n",
      " [3.1389602e-06 1.4445132e-04 2.1222451e-05 ... 9.9869663e-01\n",
      "  9.7897839e-07 5.4200826e-04]\n",
      " [4.9963273e-08 1.5936042e-06 2.0804032e-06 ... 6.0972566e-10\n",
      "  5.1057036e-06 3.2979334e-04]\n",
      " [1.0543041e-06 2.6688934e-07 4.7485697e-05 ... 9.9978346e-01\n",
      "  1.3943033e-07 1.0871512e-06]]\n"
     ]
    }
   ],
   "source": [
    "Make_predictions = My_model.predict(dataset_val)\n",
    "print(Make_predictions)"
   ]
  },
  {
   "cell_type": "code",
   "execution_count": 24,
   "id": "515a6f2f",
   "metadata": {},
   "outputs": [
    {
     "name": "stdout",
     "output_type": "stream",
     "text": [
      "313/313 [==============================] - 1s 2ms/step - loss: 0.1017 - accuracy: 0.9693\n",
      "Test Accuracy: 0.97\n"
     ]
    }
   ],
   "source": [
    "test_loss, test_accuracy = My_model.evaluate(dataset_val)\n",
    "print(f\"Test Accuracy: {test_accuracy:.2f}\")"
   ]
  },
  {
   "cell_type": "code",
   "execution_count": 29,
   "id": "60bcf62f",
   "metadata": {},
   "outputs": [
    {
     "data": {
      "image/png": "[encoded data removed]",
      "text/plain": [
       "<Figure size 1000x1000 with 1 Axes>"
      ]
     },
     "metadata": {},
     "output_type": "display_data"
    },
    {
     "data": {
      "image/png": "[encoded data removed]",
      "text/plain": [
       "<Figure size 1000x1000 with 5 Axes>"
      ]
     },
     "metadata": {},
     "output_type": "display_data"
    }
   ],
   "source": [
    "import matplotlib.pyplot as plt\n",
    "import numpy as np\n",
    "def plot_predictions(images, labels, predictions, num_images=5):\n",
    "    plt.figure(figsize=(10, 10))\n",
    "    for i in range(num_images):\n",
    "        plt.subplot(1, num_images, i + 1)\n",
    "        plt.imshow(images[i], cmap=plt.cm.binary)\n",
    "        plt.title(f\"True: {np.argmax(labels[i])}, Pred: {np.argmax(predictions[i])}\")\n",
    "        plt.axis('off')\n",
    "    plt.show()\n",
    "\n",
    "plot_predictions(x_val_data, y_val_data, Make_predictions, num_images=5)"
   ]
  }
 ],
 "metadata": {
  "kernelspec": {
   "display_name": "Python 3",
   "language": "python",
   "name": "python3"
  },
  "language_info": {
   "codemirror_mode": {
    "name": "ipython",
    "version": 3
   },
   "file_extension": ".py",
   "mimetype": "text/x-python",
   "name": "python",
   "nbconvert_exporter": "python",
   "pygments_lexer": "ipython3",
   "version": "3.7.11"
  }
 },
 "nbformat": 4,
 "nbformat_minor": 5
}
