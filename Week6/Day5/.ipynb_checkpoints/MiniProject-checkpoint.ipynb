{
 "cells": [
  {
   "cell_type": "markdown",
   "id": "c161c371",
   "metadata": {},
   "source": [
    "# Mini-Project: Binary Text Classification with IMDB Dataset (CNN)\n",
    "____________"
   ]
  },
  {
   "cell_type": "markdown",
   "id": "15298629",
   "metadata": {},
   "source": [
    "Task\n",
    "\n",
    "1. Preprocess the Data:\n",
    "\n",
    "    - Load the IMDB dataset using Keras.\n",
    "    - Convert the sequences of integers into binary matrices using one-hot encoding.\n",
    "    - Split the data into training, validation, and test sets.\n",
    "    \n",
    "\n",
    "2. Build the Model:\n",
    "\n",
    "    - Create a feedforward neural network with:\n",
    "        - Two hidden layers using ReLU activation.\n",
    "        - An output layer with a sigmoid activation for binary classification.\n",
    "    - Compile the model using the RMSprop optimizer, binary cross-entropy loss, and accuracy as the evaluation metric.\n",
    "    \n",
    "\n",
    "3. Train the Model:\n",
    "\n",
    "    - Train the model on the training data for 20 epochs with a batch size of 512.\n",
    "    - Use the validation set to monitor performance during training.\n",
    "    \n",
    "\n",
    "4. Evaluate the Model:\n",
    "\n",
    "    - Plot the training and validation loss and accuracy to detect overfitting.\n",
    "    - Retrain the model with an optimal number of epochs to avoid overfitting.\n",
    "    - Evaluate the final model on the test set to measure its performance.\n",
    "    \n",
    "\n",
    "5. Analyze Results:\n",
    "\n",
    "    - Compare the training and validation metrics to understand the model’s behavior.\n",
    "    - Report the final accuracy and loss on the test set.\n"
   ]
  },
  {
   "cell_type": "code",
   "execution_count": 47,
   "id": "05880ea6",
   "metadata": {},
   "outputs": [],
   "source": [
    "import matplotlib.pyplot as plt\n",
    "import seaborn as sns\n",
    "sns.set_theme()\n",
    "import tensorflow as tf\n",
    "import keras\n",
    "import pandas as pd\n",
    "import zipfile\n",
    "from sklearn.preprocessing import OneHotEncoder\n",
    "from sklearn.model_selection import train_test_split"
   ]
  },
  {
   "cell_type": "code",
   "execution_count": 60,
   "id": "c676a29f",
   "metadata": {},
   "outputs": [],
   "source": [
    "with zipfile.ZipFile(r'C:\\Users\\julie\\Downloads\\IMDB Dataset.zip') as z:\n",
    "    with z.open(r'IMDB Dataset.csv') as f:\n",
    "        df = pd.read_csv(f)"
   ]
  },
  {
   "cell_type": "code",
   "execution_count": 61,
   "id": "1c00c74d",
   "metadata": {},
   "outputs": [
    {
     "name": "stdout",
     "output_type": "stream",
     "text": [
      "                                              review sentiment\n",
      "0  One of the other reviewers has mentioned that ...  positive\n",
      "1  A wonderful little production. <br /><br />The...  positive\n",
      "2  I thought this was a wonderful way to spend ti...  positive\n",
      "3  Basically there's a family where a little boy ...  negative\n",
      "4  Petter Mattei's \"Love in the Time of Money\" is...  positive\n"
     ]
    },
    {
     "data": {
      "text/html": [
       "<div>\n",
       "<style scoped>\n",
       "    .dataframe tbody tr th:only-of-type {\n",
       "        vertical-align: middle;\n",
       "    }\n",
       "\n",
       "    .dataframe tbody tr th {\n",
       "        vertical-align: top;\n",
       "    }\n",
       "\n",
       "    .dataframe thead th {\n",
       "        text-align: right;\n",
       "    }\n",
       "</style>\n",
       "<table border=\"1\" class=\"dataframe\">\n",
       "  <thead>\n",
       "    <tr style=\"text-align: right;\">\n",
       "      <th></th>\n",
       "      <th>review</th>\n",
       "      <th>sentiment</th>\n",
       "    </tr>\n",
       "  </thead>\n",
       "  <tbody>\n",
       "    <tr>\n",
       "      <th>0</th>\n",
       "      <td>One of the other reviewers has mentioned that ...</td>\n",
       "      <td>1</td>\n",
       "    </tr>\n",
       "    <tr>\n",
       "      <th>1</th>\n",
       "      <td>A wonderful little production. &lt;br /&gt;&lt;br /&gt;The...</td>\n",
       "      <td>1</td>\n",
       "    </tr>\n",
       "    <tr>\n",
       "      <th>2</th>\n",
       "      <td>I thought this was a wonderful way to spend ti...</td>\n",
       "      <td>1</td>\n",
       "    </tr>\n",
       "    <tr>\n",
       "      <th>3</th>\n",
       "      <td>Basically there's a family where a little boy ...</td>\n",
       "      <td>0</td>\n",
       "    </tr>\n",
       "    <tr>\n",
       "      <th>4</th>\n",
       "      <td>Petter Mattei's \"Love in the Time of Money\" is...</td>\n",
       "      <td>1</td>\n",
       "    </tr>\n",
       "  </tbody>\n",
       "</table>\n",
       "</div>"
      ],
      "text/plain": [
       "                                              review  sentiment\n",
       "0  One of the other reviewers has mentioned that ...          1\n",
       "1  A wonderful little production. <br /><br />The...          1\n",
       "2  I thought this was a wonderful way to spend ti...          1\n",
       "3  Basically there's a family where a little boy ...          0\n",
       "4  Petter Mattei's \"Love in the Time of Money\" is...          1"
      ]
     },
     "execution_count": 61,
     "metadata": {},
     "output_type": "execute_result"
    }
   ],
   "source": [
    "print(df.head())\n",
    "df['sentiment'] = df['sentiment'].map({'negative': 0, 'positive': 1})\n",
    "df.head()"
   ]
  },
  {
   "cell_type": "markdown",
   "id": "fe4c8a8d",
   "metadata": {},
   "source": [
    "I need to preprocess the reviews:"
   ]
  },
  {
   "cell_type": "code",
   "execution_count": 62,
   "id": "3b0e2a56",
   "metadata": {},
   "outputs": [],
   "source": [
    "from tensorflow.keras.preprocessing.text import Tokenizer\n",
    "from tensorflow.keras.preprocessing.sequence import pad_sequences\n",
    "from tensorflow.keras.utils import to_categorical\n",
    "import re\n",
    "\n",
    "def clean_text(text):\n",
    "    text = re.sub(r'<br />', ' ', text)  # Replace <br /> with space\n",
    "    text = re.sub(r'<.*?>', '', text)    # Remove HTML tags\n",
    "    return text\n",
    "\n",
    "df['review'] = df['review'].apply(clean_text)\n",
    "max_words = 10000\n",
    "tokenizer = Tokenizer(num_words=max_words)\n",
    "tokenizer.fit_on_texts(df['review'])\n",
    "X = tokenizer.texts_to_sequences(df['review'])\n",
    "max_length = 500  \n",
    "X = pad_sequences(X, maxlen=max_length)"
   ]
  },
  {
   "cell_type": "markdown",
   "id": "9b8ba413",
   "metadata": {},
   "source": [
    "Divide into train, test and validation:"
   ]
  },
  {
   "cell_type": "code",
   "execution_count": 66,
   "id": "2b9e8f67",
   "metadata": {},
   "outputs": [],
   "source": [
    "X_train, X_temp, y_train, y_temp = train_test_split(X, df['sentiment'], test_size=0.2, random_state=42)\n",
    "\n",
    "X_val, X_test, y_val, y_test = train_test_split(X_temp, y_temp, test_size=0.5, random_state=42)"
   ]
  },
  {
   "cell_type": "markdown",
   "id": "31714eb0",
   "metadata": {},
   "source": [
    "Now I can create the model:"
   ]
  },
  {
   "cell_type": "code",
   "execution_count": 67,
   "id": "960c9fea",
   "metadata": {},
   "outputs": [],
   "source": [
    "from tensorflow.keras.models import Sequential\n",
    "from tensorflow.keras.layers import Dense, Embedding, Flatten\n",
    "from tensorflow.keras.optimizers import RMSprop"
   ]
  },
  {
   "cell_type": "code",
   "execution_count": 68,
   "id": "a20f6bd6",
   "metadata": {},
   "outputs": [],
   "source": [
    "model = Sequential()\n",
    "model.add(Embedding(input_dim=max_words, output_dim=128, input_length=max_length))\n",
    "model.add(Flatten())\n",
    "model.add(Dense(128, activation='relu'))\n",
    "model.add(Dense(64, activation='relu'))\n",
    "model.add(Dense(1, activation='sigmoid'))\n",
    "model.compile(optimizer=RMSprop(), loss='binary_crossentropy', metrics=['accuracy'])"
   ]
  },
  {
   "cell_type": "markdown",
   "id": "5f265677",
   "metadata": {},
   "source": [
    "Training:"
   ]
  },
  {
   "cell_type": "code",
   "execution_count": 69,
   "id": "3bca092c",
   "metadata": {},
   "outputs": [
    {
     "name": "stdout",
     "output_type": "stream",
     "text": [
      "Epoch 1/20\n",
      "79/79 [==============================] - 27s 325ms/step - loss: 0.6916 - accuracy: 0.5192 - val_loss: 0.7158 - val_accuracy: 0.5126\n",
      "Epoch 2/20\n",
      "79/79 [==============================] - 25s 320ms/step - loss: 0.5090 - accuracy: 0.7480 - val_loss: 0.3865 - val_accuracy: 0.8252\n",
      "Epoch 3/20\n",
      "79/79 [==============================] - 26s 325ms/step - loss: 0.2632 - accuracy: 0.8945 - val_loss: 0.4362 - val_accuracy: 0.8064\n",
      "Epoch 4/20\n",
      "79/79 [==============================] - 26s 324ms/step - loss: 0.1393 - accuracy: 0.9500 - val_loss: 0.3542 - val_accuracy: 0.8532\n",
      "Epoch 5/20\n",
      "79/79 [==============================] - 26s 324ms/step - loss: 0.0510 - accuracy: 0.9855 - val_loss: 0.4309 - val_accuracy: 0.8608\n",
      "Epoch 6/20\n",
      "79/79 [==============================] - 28s 357ms/step - loss: 0.0161 - accuracy: 0.9967 - val_loss: 0.5333 - val_accuracy: 0.8540\n",
      "Epoch 7/20\n",
      "79/79 [==============================] - 27s 344ms/step - loss: 0.0133 - accuracy: 0.9954 - val_loss: 0.5552 - val_accuracy: 0.8580\n",
      "Epoch 8/20\n",
      "79/79 [==============================] - 26s 324ms/step - loss: 0.0023 - accuracy: 0.9997 - val_loss: 0.6761 - val_accuracy: 0.8508\n",
      "Epoch 9/20\n",
      "79/79 [==============================] - 26s 324ms/step - loss: 0.0104 - accuracy: 0.9964 - val_loss: 0.6673 - val_accuracy: 0.8588\n",
      "Epoch 10/20\n",
      "79/79 [==============================] - 26s 326ms/step - loss: 0.0361 - accuracy: 0.9912 - val_loss: 0.6645 - val_accuracy: 0.8572\n",
      "Epoch 11/20\n",
      "79/79 [==============================] - 26s 327ms/step - loss: 0.0104 - accuracy: 0.9963 - val_loss: 0.6985 - val_accuracy: 0.8586\n",
      "Epoch 12/20\n",
      "79/79 [==============================] - 27s 340ms/step - loss: 0.0032 - accuracy: 0.9989 - val_loss: 0.7570 - val_accuracy: 0.8558\n",
      "Epoch 13/20\n",
      "79/79 [==============================] - 29s 361ms/step - loss: 3.2035e-04 - accuracy: 1.0000 - val_loss: 0.8505 - val_accuracy: 0.8582\n",
      "Epoch 14/20\n",
      "79/79 [==============================] - 28s 352ms/step - loss: 0.0015 - accuracy: 0.9995 - val_loss: 0.8631 - val_accuracy: 0.8528\n",
      "Epoch 15/20\n",
      "79/79 [==============================] - 28s 355ms/step - loss: 1.4226e-04 - accuracy: 1.0000 - val_loss: 0.9281 - val_accuracy: 0.8506\n",
      "Epoch 16/20\n",
      "79/79 [==============================] - 28s 356ms/step - loss: 5.9936e-05 - accuracy: 1.0000 - val_loss: 0.9623 - val_accuracy: 0.8494\n",
      "Epoch 17/20\n",
      "79/79 [==============================] - 28s 355ms/step - loss: 1.0664e-04 - accuracy: 1.0000 - val_loss: 0.9856 - val_accuracy: 0.8508\n",
      "Epoch 18/20\n",
      "79/79 [==============================] - 28s 357ms/step - loss: 3.4252e-05 - accuracy: 1.0000 - val_loss: 1.0079 - val_accuracy: 0.8506\n",
      "Epoch 19/20\n",
      "79/79 [==============================] - 27s 342ms/step - loss: 2.9064e-05 - accuracy: 1.0000 - val_loss: 1.0205 - val_accuracy: 0.8516\n",
      "Epoch 20/20\n",
      "79/79 [==============================] - 26s 325ms/step - loss: 2.1639e-05 - accuracy: 1.0000 - val_loss: 1.0338 - val_accuracy: 0.8520\n"
     ]
    }
   ],
   "source": [
    "history = model.fit(X_train, y_train, epochs=20, batch_size=512, validation_data=(X_val, y_val))"
   ]
  },
  {
   "cell_type": "markdown",
   "id": "f9e40c0a",
   "metadata": {},
   "source": [
    "The model reached 100% accuracy on the validation set."
   ]
  },
  {
   "cell_type": "code",
   "execution_count": 70,
   "id": "32bbf6e6",
   "metadata": {},
   "outputs": [
    {
     "name": "stdout",
     "output_type": "stream",
     "text": [
      "157/157 [==============================] - 2s 12ms/step - loss: 1.0113 - accuracy: 0.8556\n",
      "Test Accuracy: 0.8555999994277954\n"
     ]
    }
   ],
   "source": [
    "test_loss, test_accuracy = model.evaluate(X_test, y_test)\n",
    "print(f\"Test Accuracy: {test_accuracy}\" )"
   ]
  },
  {
   "cell_type": "markdown",
   "id": "f9f7cb5d",
   "metadata": {},
   "source": [
    "However, the accuracy when evaluating on the test group is 86%. This indicates some degree of overfitting."
   ]
  },
  {
   "cell_type": "code",
   "execution_count": 76,
   "id": "e2989099",
   "metadata": {},
   "outputs": [
    {
     "data": {
      "image/png": "[encoded data removed]",
      "text/plain": [
       "<Figure size 640x480 with 1 Axes>"
      ]
     },
     "metadata": {},
     "output_type": "display_data"
    }
   ],
   "source": [
    "plt.plot(history.history['accuracy'], label='Train Accuracy')\n",
    "plt.plot(history.history['val_accuracy'], label='Validation Accuracy')\n",
    "plt.title('Accuracy vs. Epochs')\n",
    "plt.xlabel('Epochs')\n",
    "plt.ylabel('Accuracy')\n",
    "plt.legend()\n",
    "plt.show()"
   ]
  },
  {
   "cell_type": "code",
   "execution_count": 79,
   "id": "73ca1371",
   "metadata": {},
   "outputs": [
    {
     "data": {
      "image/png": "[encoded data removed]",
      "text/plain": [
       "<Figure size 640x480 with 1 Axes>"
      ]
     },
     "metadata": {},
     "output_type": "display_data"
    }
   ],
   "source": [
    "plt.plot(history.history['loss'], label='Train Loss')\n",
    "plt.plot(history.history['val_loss'], label='Validation Loss')\n",
    "plt.title('Loss vs. Epochs')\n",
    "plt.xlabel('Epochs')\n",
    "plt.ylabel('Loss')\n",
    "plt.legend()\n",
    "plt.show()"
   ]
  },
  {
   "cell_type": "markdown",
   "id": "69400278",
   "metadata": {},
   "source": [
    "We see that there's clear overfitting after around 2 Epochs."
   ]
  },
  {
   "cell_type": "code",
   "execution_count": 80,
   "id": "0890655f",
   "metadata": {},
   "outputs": [
    {
     "name": "stdout",
     "output_type": "stream",
     "text": [
      "Epoch 1/2\n",
      "79/79 [==============================] - 19s 238ms/step - loss: 1.8303e-05 - accuracy: 1.0000 - val_loss: 1.0427 - val_accuracy: 0.8518\n",
      "Epoch 2/2\n",
      "79/79 [==============================] - 19s 237ms/step - loss: 2.3946e-05 - accuracy: 1.0000 - val_loss: 1.0488 - val_accuracy: 0.8524\n"
     ]
    }
   ],
   "source": [
    "history = model.fit(X_train, y_train, epochs=2, batch_size=512, validation_data=(X_val, y_val))"
   ]
  },
  {
   "cell_type": "code",
   "execution_count": 81,
   "id": "2d77fea4",
   "metadata": {},
   "outputs": [
    {
     "name": "stdout",
     "output_type": "stream",
     "text": [
      "157/157 [==============================] - 1s 8ms/step - loss: 1.0258 - accuracy: 0.8570\n",
      "Test Loss: 1.0257928371429443\n",
      "Test Accuracy: 0.8569999933242798\n"
     ]
    }
   ],
   "source": [
    "test_loss, test_accuracy = model.evaluate(X_test, y_test)\n",
    "print(f\"Test Loss: {test_loss}\")\n",
    "print(f\"Test Accuracy: {test_accuracy}\")"
   ]
  },
  {
   "cell_type": "markdown",
   "id": "cd2a9100",
   "metadata": {},
   "source": [
    "Test Accuracy: 85.7%\n",
    "\n",
    "Test Loss: 1.03"
   ]
  },
  {
   "cell_type": "markdown",
   "id": "ddb77076",
   "metadata": {},
   "source": [
    "Now the model is predicting the sentiment fairly well and there's no overfitting."
   ]
  }
 ],
 "metadata": {
  "kernelspec": {
   "display_name": "Python 3",
   "language": "python",
   "name": "python3"
  },
  "language_info": {
   "codemirror_mode": {
    "name": "ipython",
    "version": 3
   },
   "file_extension": ".py",
   "mimetype": "text/x-python",
   "name": "python",
   "nbconvert_exporter": "python",
   "pygments_lexer": "ipython3",
   "version": "3.7.11"
  }
 },
 "nbformat": 4,
 "nbformat_minor": 5
}
